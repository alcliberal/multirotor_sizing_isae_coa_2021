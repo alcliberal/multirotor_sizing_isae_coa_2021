{
  "nbformat": 4,
  "nbformat_minor": 0,
  "metadata": {
    "kernelspec": {
      "display_name": "Python 3",
      "language": "python",
      "name": "python3"
    },
    "language_info": {
      "codemirror_mode": {
        "name": "ipython",
        "version": 3
      },
      "file_extension": ".py",
      "mimetype": "text/x-python",
      "name": "python",
      "nbconvert_exporter": "python",
      "pygments_lexer": "ipython3",
      "version": "3.7.4"
    },
    "colab": {
      "name": "06_SystemSizingCodeOptimization-Student.ipynb",
      "provenance": []
    },
    "widgets": {
      "application/vnd.jupyter.widget-state+json": {
        "ae6063cb3aac4099b5ade5838ff5dca8": {
          "model_module": "@jupyter-widgets/controls",
          "model_name": "VBoxModel",
          "state": {
            "_view_name": "VBoxView",
            "_dom_classes": [
              "widget-interact"
            ],
            "_model_name": "VBoxModel",
            "_view_module": "@jupyter-widgets/controls",
            "_model_module_version": "1.5.0",
            "_view_count": null,
            "_view_module_version": "1.5.0",
            "box_style": "",
            "layout": "IPY_MODEL_228c11f731bc4a7f94208947bc66a4d8",
            "_model_module": "@jupyter-widgets/controls",
            "children": [
              "IPY_MODEL_25674791f1ff4e7fa6d8861df59bdb0a",
              "IPY_MODEL_f6301cb2e21641b4bf3c1011d7194108"
            ]
          }
        },
        "228c11f731bc4a7f94208947bc66a4d8": {
          "model_module": "@jupyter-widgets/base",
          "model_name": "LayoutModel",
          "state": {
            "_view_name": "LayoutView",
            "grid_template_rows": null,
            "right": null,
            "justify_content": null,
            "_view_module": "@jupyter-widgets/base",
            "overflow": null,
            "_model_module_version": "1.2.0",
            "_view_count": null,
            "flex_flow": null,
            "width": null,
            "min_width": null,
            "border": null,
            "align_items": null,
            "bottom": null,
            "_model_module": "@jupyter-widgets/base",
            "top": null,
            "grid_column": null,
            "overflow_y": null,
            "overflow_x": null,
            "grid_auto_flow": null,
            "grid_area": null,
            "grid_template_columns": null,
            "flex": null,
            "_model_name": "LayoutModel",
            "justify_items": null,
            "grid_row": null,
            "max_height": null,
            "align_content": null,
            "visibility": null,
            "align_self": null,
            "height": null,
            "min_height": null,
            "padding": null,
            "grid_auto_rows": null,
            "grid_gap": null,
            "max_width": null,
            "order": null,
            "_view_module_version": "1.2.0",
            "grid_template_areas": null,
            "object_position": null,
            "object_fit": null,
            "grid_auto_columns": null,
            "margin": null,
            "display": null,
            "left": null
          }
        },
        "25674791f1ff4e7fa6d8861df59bdb0a": {
          "model_module": "@jupyter-widgets/controls",
          "model_name": "DropdownModel",
          "state": {
            "_options_labels": [
              "Battery & ESC",
              "Constraints",
              "Frame",
              "Motor",
              "Objective",
              "Optimization",
              "Propeller",
              "Specifications"
            ],
            "_view_name": "DropdownView",
            "style": "IPY_MODEL_9d12e28e9bc9454ebb3072bc88d12594",
            "_dom_classes": [],
            "description": "Type",
            "_model_name": "DropdownModel",
            "index": 0,
            "_view_module": "@jupyter-widgets/controls",
            "_model_module_version": "1.5.0",
            "_view_count": null,
            "disabled": false,
            "_view_module_version": "1.5.0",
            "description_tooltip": null,
            "_model_module": "@jupyter-widgets/controls",
            "layout": "IPY_MODEL_6fc42107b61a48a0b36b90fee2786457"
          }
        },
        "f6301cb2e21641b4bf3c1011d7194108": {
          "model_module": "@jupyter-widgets/output",
          "model_name": "OutputModel",
          "state": {
            "_view_name": "OutputView",
            "msg_id": "",
            "_dom_classes": [],
            "_model_name": "OutputModel",
            "outputs": [
              {
                "output_type": "display_data",
                "metadata": {
                  "tags": []
                },
                "text/html": "<div>\n<style scoped>\n    .dataframe tbody tr th:only-of-type {\n        vertical-align: middle;\n    }\n\n    .dataframe tbody tr th {\n        vertical-align: top;\n    }\n\n    .dataframe thead th {\n        text-align: right;\n    }\n</style>\n<table border=\"1\" class=\"dataframe\">\n  <thead>\n    <tr style=\"text-align: right;\">\n      <th></th>\n      <th>Type</th>\n      <th>Name</th>\n      <th>Value</th>\n      <th>Unit</th>\n      <th>Comment</th>\n    </tr>\n  </thead>\n  <tbody>\n    <tr>\n      <th>0</th>\n      <td>Battery &amp; ESC</td>\n      <td>M_bat_ref</td>\n      <td>0.33</td>\n      <td>[kg]</td>\n      <td>Mass of the reference battery</td>\n    </tr>\n    <tr>\n      <th>0</th>\n      <td>Battery &amp; ESC</td>\n      <td>M_esc_ref</td>\n      <td>0.12</td>\n      <td>[kg]</td>\n      <td>Reference ESC mass</td>\n    </tr>\n    <tr>\n      <th>0</th>\n      <td>Battery &amp; ESC</td>\n      <td>P_esc_ref</td>\n      <td>3,108.00</td>\n      <td>[W]</td>\n      <td>Reference ESC power</td>\n    </tr>\n    <tr>\n      <th>0</th>\n      <td>Battery &amp; ESC</td>\n      <td>N_s_bat</td>\n      <td>12.00</td>\n      <td>[-]</td>\n      <td>Number of battery cells</td>\n    </tr>\n    <tr>\n      <th>0</th>\n      <td>Battery &amp; ESC</td>\n      <td>U_bat</td>\n      <td>44.40</td>\n      <td>[V]</td>\n      <td>Battery voltage</td>\n    </tr>\n    <tr>\n      <th>0</th>\n      <td>Battery &amp; ESC</td>\n      <td>M_bat</td>\n      <td>100.00</td>\n      <td>[kg]</td>\n      <td>Battery mass</td>\n    </tr>\n    <tr>\n      <th>0</th>\n      <td>Battery &amp; ESC</td>\n      <td>C_bat</td>\n      <td>1,427,027.03</td>\n      <td>[A.s]</td>\n      <td>Battery capacity</td>\n    </tr>\n    <tr>\n      <th>0</th>\n      <td>Battery &amp; ESC</td>\n      <td>I_bat</td>\n      <td>1,105.62</td>\n      <td>[A]</td>\n      <td>Battery current</td>\n    </tr>\n    <tr>\n      <th>0</th>\n      <td>Battery &amp; ESC</td>\n      <td>t_hf</td>\n      <td>21.51</td>\n      <td>[min]</td>\n      <td>Hovering time</td>\n    </tr>\n    <tr>\n      <th>0</th>\n      <td>Battery &amp; ESC</td>\n      <td>P_esc</td>\n      <td>6,748.94</td>\n      <td>[W]</td>\n      <td>Power electronic power (corner power or appare...</td>\n    </tr>\n    <tr>\n      <th>0</th>\n      <td>Battery &amp; ESC</td>\n      <td>M_esc</td>\n      <td>0.25</td>\n      <td>[kg]</td>\n      <td>ESC mass</td>\n    </tr>\n    <tr>\n      <th>0</th>\n      <td>Battery &amp; ESC</td>\n      <td>V_esc</td>\n      <td>43.99</td>\n      <td>[V]</td>\n      <td>ESC voltage</td>\n    </tr>\n  </tbody>\n</table>\n</div>",
                "text/plain": "            Type  ...                                            Comment\n0  Battery & ESC  ...                     Mass of the reference battery \n0  Battery & ESC  ...                                Reference ESC mass \n0  Battery & ESC  ...                               Reference ESC power \n0  Battery & ESC  ...                           Number of battery cells \n0  Battery & ESC  ...                                   Battery voltage \n0  Battery & ESC  ...                                      Battery mass \n0  Battery & ESC  ...                                  Battery capacity \n0  Battery & ESC  ...                                   Battery current \n0  Battery & ESC  ...                                     Hovering time \n0  Battery & ESC  ...  Power electronic power (corner power or appare...\n0  Battery & ESC  ...                                          ESC mass \n0  Battery & ESC  ...                                       ESC voltage \n\n[12 rows x 5 columns]"
              }
            ],
            "_view_module": "@jupyter-widgets/output",
            "_model_module_version": "1.0.0",
            "_view_count": null,
            "_view_module_version": "1.0.0",
            "layout": "IPY_MODEL_01109331cab1472899f49cd581ccbcd2",
            "_model_module": "@jupyter-widgets/output"
          }
        },
        "9d12e28e9bc9454ebb3072bc88d12594": {
          "model_module": "@jupyter-widgets/controls",
          "model_name": "DescriptionStyleModel",
          "state": {
            "_view_name": "StyleView",
            "_model_name": "DescriptionStyleModel",
            "description_width": "",
            "_view_module": "@jupyter-widgets/base",
            "_model_module_version": "1.5.0",
            "_view_count": null,
            "_view_module_version": "1.2.0",
            "_model_module": "@jupyter-widgets/controls"
          }
        },
        "6fc42107b61a48a0b36b90fee2786457": {
          "model_module": "@jupyter-widgets/base",
          "model_name": "LayoutModel",
          "state": {
            "_view_name": "LayoutView",
            "grid_template_rows": null,
            "right": null,
            "justify_content": null,
            "_view_module": "@jupyter-widgets/base",
            "overflow": null,
            "_model_module_version": "1.2.0",
            "_view_count": null,
            "flex_flow": null,
            "width": null,
            "min_width": null,
            "border": null,
            "align_items": null,
            "bottom": null,
            "_model_module": "@jupyter-widgets/base",
            "top": null,
            "grid_column": null,
            "overflow_y": null,
            "overflow_x": null,
            "grid_auto_flow": null,
            "grid_area": null,
            "grid_template_columns": null,
            "flex": null,
            "_model_name": "LayoutModel",
            "justify_items": null,
            "grid_row": null,
            "max_height": null,
            "align_content": null,
            "visibility": null,
            "align_self": null,
            "height": null,
            "min_height": null,
            "padding": null,
            "grid_auto_rows": null,
            "grid_gap": null,
            "max_width": null,
            "order": null,
            "_view_module_version": "1.2.0",
            "grid_template_areas": null,
            "object_position": null,
            "object_fit": null,
            "grid_auto_columns": null,
            "margin": null,
            "display": null,
            "left": null
          }
        },
        "01109331cab1472899f49cd581ccbcd2": {
          "model_module": "@jupyter-widgets/base",
          "model_name": "LayoutModel",
          "state": {
            "_view_name": "LayoutView",
            "grid_template_rows": null,
            "right": null,
            "justify_content": null,
            "_view_module": "@jupyter-widgets/base",
            "overflow": null,
            "_model_module_version": "1.2.0",
            "_view_count": null,
            "flex_flow": null,
            "width": null,
            "min_width": null,
            "border": null,
            "align_items": null,
            "bottom": null,
            "_model_module": "@jupyter-widgets/base",
            "top": null,
            "grid_column": null,
            "overflow_y": null,
            "overflow_x": null,
            "grid_auto_flow": null,
            "grid_area": null,
            "grid_template_columns": null,
            "flex": null,
            "_model_name": "LayoutModel",
            "justify_items": null,
            "grid_row": null,
            "max_height": null,
            "align_content": null,
            "visibility": null,
            "align_self": null,
            "height": null,
            "min_height": null,
            "padding": null,
            "grid_auto_rows": null,
            "grid_gap": null,
            "max_width": null,
            "order": null,
            "_view_module_version": "1.2.0",
            "grid_template_areas": null,
            "object_position": null,
            "object_fit": null,
            "grid_auto_columns": null,
            "margin": null,
            "display": null,
            "left": null
          }
        },
        "a2d7caa4bed84338b74e78bf232b6fea": {
          "model_module": "@jupyter-widgets/controls",
          "model_name": "VBoxModel",
          "state": {
            "_view_name": "VBoxView",
            "_dom_classes": [
              "widget-interact"
            ],
            "_model_name": "VBoxModel",
            "_view_module": "@jupyter-widgets/controls",
            "_model_module_version": "1.5.0",
            "_view_count": null,
            "_view_module_version": "1.5.0",
            "box_style": "",
            "layout": "IPY_MODEL_b91ef25426d04d16be75ba28e0e37f4f",
            "_model_module": "@jupyter-widgets/controls",
            "children": [
              "IPY_MODEL_f316e63586ab4c04bd3633828103eff3",
              "IPY_MODEL_dd8eb165fb774ce2b62c2e56dbcbb8a8"
            ]
          }
        },
        "b91ef25426d04d16be75ba28e0e37f4f": {
          "model_module": "@jupyter-widgets/base",
          "model_name": "LayoutModel",
          "state": {
            "_view_name": "LayoutView",
            "grid_template_rows": null,
            "right": null,
            "justify_content": null,
            "_view_module": "@jupyter-widgets/base",
            "overflow": null,
            "_model_module_version": "1.2.0",
            "_view_count": null,
            "flex_flow": null,
            "width": null,
            "min_width": null,
            "border": null,
            "align_items": null,
            "bottom": null,
            "_model_module": "@jupyter-widgets/base",
            "top": null,
            "grid_column": null,
            "overflow_y": null,
            "overflow_x": null,
            "grid_auto_flow": null,
            "grid_area": null,
            "grid_template_columns": null,
            "flex": null,
            "_model_name": "LayoutModel",
            "justify_items": null,
            "grid_row": null,
            "max_height": null,
            "align_content": null,
            "visibility": null,
            "align_self": null,
            "height": null,
            "min_height": null,
            "padding": null,
            "grid_auto_rows": null,
            "grid_gap": null,
            "max_width": null,
            "order": null,
            "_view_module_version": "1.2.0",
            "grid_template_areas": null,
            "object_position": null,
            "object_fit": null,
            "grid_auto_columns": null,
            "margin": null,
            "display": null,
            "left": null
          }
        },
        "f316e63586ab4c04bd3633828103eff3": {
          "model_module": "@jupyter-widgets/controls",
          "model_name": "DropdownModel",
          "state": {
            "_options_labels": [
              "Battery & ESC",
              "Constraints",
              "Frame",
              "Motor",
              "Objective",
              "Optimization",
              "Propeller",
              "Specifications"
            ],
            "_view_name": "DropdownView",
            "style": "IPY_MODEL_d3ca1b265f5d44bba68778bb939a8752",
            "_dom_classes": [],
            "description": "Type",
            "_model_name": "DropdownModel",
            "index": 0,
            "_view_module": "@jupyter-widgets/controls",
            "_model_module_version": "1.5.0",
            "_view_count": null,
            "disabled": false,
            "_view_module_version": "1.5.0",
            "description_tooltip": null,
            "_model_module": "@jupyter-widgets/controls",
            "layout": "IPY_MODEL_83e0e14eea70478fbc909894b8a71031"
          }
        },
        "dd8eb165fb774ce2b62c2e56dbcbb8a8": {
          "model_module": "@jupyter-widgets/output",
          "model_name": "OutputModel",
          "state": {
            "_view_name": "OutputView",
            "msg_id": "",
            "_dom_classes": [],
            "_model_name": "OutputModel",
            "outputs": [
              {
                "output_type": "display_data",
                "metadata": {
                  "tags": []
                },
                "text/html": "<div>\n<style scoped>\n    .dataframe tbody tr th:only-of-type {\n        vertical-align: middle;\n    }\n\n    .dataframe tbody tr th {\n        vertical-align: top;\n    }\n\n    .dataframe thead th {\n        text-align: right;\n    }\n</style>\n<table border=\"1\" class=\"dataframe\">\n  <thead>\n    <tr style=\"text-align: right;\">\n      <th></th>\n      <th>Type</th>\n      <th>Name</th>\n      <th>Value</th>\n      <th>Unit</th>\n      <th>Comment</th>\n    </tr>\n  </thead>\n  <tbody>\n    <tr>\n      <th>0</th>\n      <td>Battery &amp; ESC</td>\n      <td>M_bat_ref</td>\n      <td>0.33</td>\n      <td>[kg]</td>\n      <td>Mass of the reference battery</td>\n    </tr>\n    <tr>\n      <th>0</th>\n      <td>Battery &amp; ESC</td>\n      <td>M_esc_ref</td>\n      <td>0.12</td>\n      <td>[kg]</td>\n      <td>Reference ESC mass</td>\n    </tr>\n    <tr>\n      <th>0</th>\n      <td>Battery &amp; ESC</td>\n      <td>P_esc_ref</td>\n      <td>3,108.00</td>\n      <td>[W]</td>\n      <td>Reference ESC power</td>\n    </tr>\n    <tr>\n      <th>0</th>\n      <td>Battery &amp; ESC</td>\n      <td>N_s_bat</td>\n      <td>14.00</td>\n      <td>[-]</td>\n      <td>Number of battery cells</td>\n    </tr>\n    <tr>\n      <th>0</th>\n      <td>Battery &amp; ESC</td>\n      <td>U_bat</td>\n      <td>51.80</td>\n      <td>[V]</td>\n      <td>Battery voltage</td>\n    </tr>\n    <tr>\n      <th>0</th>\n      <td>Battery &amp; ESC</td>\n      <td>M_bat</td>\n      <td>156.69</td>\n      <td>[kg]</td>\n      <td>Battery mass</td>\n    </tr>\n    <tr>\n      <th>0</th>\n      <td>Battery &amp; ESC</td>\n      <td>C_bat</td>\n      <td>1,916,594.26</td>\n      <td>[A.s]</td>\n      <td>Battery capacity</td>\n    </tr>\n    <tr>\n      <th>0</th>\n      <td>Battery &amp; ESC</td>\n      <td>I_bat</td>\n      <td>1,277.72</td>\n      <td>[A]</td>\n      <td>Battery current</td>\n    </tr>\n    <tr>\n      <th>0</th>\n      <td>Battery &amp; ESC</td>\n      <td>t_hf</td>\n      <td>25.00</td>\n      <td>[min]</td>\n      <td>Hovering time</td>\n    </tr>\n    <tr>\n      <th>0</th>\n      <td>Battery &amp; ESC</td>\n      <td>P_esc</td>\n      <td>9,300.06</td>\n      <td>[W]</td>\n      <td>Power electronic power (corner power or appare...</td>\n    </tr>\n    <tr>\n      <th>0</th>\n      <td>Battery &amp; ESC</td>\n      <td>M_esc</td>\n      <td>0.34</td>\n      <td>[kg]</td>\n      <td>ESC mass</td>\n    </tr>\n    <tr>\n      <th>0</th>\n      <td>Battery &amp; ESC</td>\n      <td>V_esc</td>\n      <td>49.37</td>\n      <td>[V]</td>\n      <td>ESC voltage</td>\n    </tr>\n  </tbody>\n</table>\n</div>",
                "text/plain": "            Type  ...                                            Comment\n0  Battery & ESC  ...                     Mass of the reference battery \n0  Battery & ESC  ...                                Reference ESC mass \n0  Battery & ESC  ...                               Reference ESC power \n0  Battery & ESC  ...                           Number of battery cells \n0  Battery & ESC  ...                                   Battery voltage \n0  Battery & ESC  ...                                      Battery mass \n0  Battery & ESC  ...                                  Battery capacity \n0  Battery & ESC  ...                                   Battery current \n0  Battery & ESC  ...                                     Hovering time \n0  Battery & ESC  ...  Power electronic power (corner power or appare...\n0  Battery & ESC  ...                                          ESC mass \n0  Battery & ESC  ...                                       ESC voltage \n\n[12 rows x 5 columns]"
              }
            ],
            "_view_module": "@jupyter-widgets/output",
            "_model_module_version": "1.0.0",
            "_view_count": null,
            "_view_module_version": "1.0.0",
            "layout": "IPY_MODEL_d95dc77a7c6041469f12e87555542eae",
            "_model_module": "@jupyter-widgets/output"
          }
        },
        "d3ca1b265f5d44bba68778bb939a8752": {
          "model_module": "@jupyter-widgets/controls",
          "model_name": "DescriptionStyleModel",
          "state": {
            "_view_name": "StyleView",
            "_model_name": "DescriptionStyleModel",
            "description_width": "",
            "_view_module": "@jupyter-widgets/base",
            "_model_module_version": "1.5.0",
            "_view_count": null,
            "_view_module_version": "1.2.0",
            "_model_module": "@jupyter-widgets/controls"
          }
        },
        "83e0e14eea70478fbc909894b8a71031": {
          "model_module": "@jupyter-widgets/base",
          "model_name": "LayoutModel",
          "state": {
            "_view_name": "LayoutView",
            "grid_template_rows": null,
            "right": null,
            "justify_content": null,
            "_view_module": "@jupyter-widgets/base",
            "overflow": null,
            "_model_module_version": "1.2.0",
            "_view_count": null,
            "flex_flow": null,
            "width": null,
            "min_width": null,
            "border": null,
            "align_items": null,
            "bottom": null,
            "_model_module": "@jupyter-widgets/base",
            "top": null,
            "grid_column": null,
            "overflow_y": null,
            "overflow_x": null,
            "grid_auto_flow": null,
            "grid_area": null,
            "grid_template_columns": null,
            "flex": null,
            "_model_name": "LayoutModel",
            "justify_items": null,
            "grid_row": null,
            "max_height": null,
            "align_content": null,
            "visibility": null,
            "align_self": null,
            "height": null,
            "min_height": null,
            "padding": null,
            "grid_auto_rows": null,
            "grid_gap": null,
            "max_width": null,
            "order": null,
            "_view_module_version": "1.2.0",
            "grid_template_areas": null,
            "object_position": null,
            "object_fit": null,
            "grid_auto_columns": null,
            "margin": null,
            "display": null,
            "left": null
          }
        },
        "d95dc77a7c6041469f12e87555542eae": {
          "model_module": "@jupyter-widgets/base",
          "model_name": "LayoutModel",
          "state": {
            "_view_name": "LayoutView",
            "grid_template_rows": null,
            "right": null,
            "justify_content": null,
            "_view_module": "@jupyter-widgets/base",
            "overflow": null,
            "_model_module_version": "1.2.0",
            "_view_count": null,
            "flex_flow": null,
            "width": null,
            "min_width": null,
            "border": null,
            "align_items": null,
            "bottom": null,
            "_model_module": "@jupyter-widgets/base",
            "top": null,
            "grid_column": null,
            "overflow_y": null,
            "overflow_x": null,
            "grid_auto_flow": null,
            "grid_area": null,
            "grid_template_columns": null,
            "flex": null,
            "_model_name": "LayoutModel",
            "justify_items": null,
            "grid_row": null,
            "max_height": null,
            "align_content": null,
            "visibility": null,
            "align_self": null,
            "height": null,
            "min_height": null,
            "padding": null,
            "grid_auto_rows": null,
            "grid_gap": null,
            "max_width": null,
            "order": null,
            "_view_module_version": "1.2.0",
            "grid_template_areas": null,
            "object_position": null,
            "object_fit": null,
            "grid_auto_columns": null,
            "margin": null,
            "display": null,
            "left": null
          }
        }
      }
    }
  },
  "cells": [
    {
      "cell_type": "markdown",
      "metadata": {
        "id": "gXoL9QJtMgBh"
      },
      "source": [
        "<img src=\"https://github.com/alcliberal/multirotor_sizing_isae_coa_2021/blob/main/pictures/logo_sizinglab.png?raw=1\" style=\"float:right; max-width: 60px; display: inline\" alt=\"SizingLab\" /></a>"
      ]
    },
    {
      "cell_type": "markdown",
      "metadata": {
        "id": "zfnIkaK-MgBu"
      },
      "source": [
        "# Sizing of a multi-rotor drone\n",
        "\n",
        "*Written by Marc Budinger, Aitor Ochotorena (INSA Toulouse) and Scott Delbecq (ISAE-SUPAERO), Toulouse, France.*"
      ]
    },
    {
      "cell_type": "markdown",
      "metadata": {
        "id": "qy7YRG8pMgBw"
      },
      "source": [
        "The objective of this notebook is to select the best compromise of components (propeller, motor, ESC, battery) of a multi-rotor drone for given specifiations.\n",
        "\n",
        "**Scipy** and **math** packages will be used for this notebook in order to illustrate the optimization algorithms of python."
      ]
    },
    {
      "cell_type": "code",
      "metadata": {
        "id": "tB9yUOfuMgBx"
      },
      "source": [
        "import scipy\n",
        "import scipy.optimize\n",
        "from math import pi\n",
        "from math import sqrt\n",
        "from math import sin\n",
        "from math import *\n",
        "import math\n",
        "import numpy as np\n",
        "import timeit\n",
        "import pandas as pd\n",
        "from IPython.display import display, HTML\n",
        "\n",
        "import ipywidgets as widgets\n",
        "from ipywidgets import interactive\n",
        "from IPython.display import display\n",
        "\n",
        "pd.options.display.float_format = '{:,.2f}'.format"
      ],
      "execution_count": 196,
      "outputs": []
    },
    {
      "cell_type": "markdown",
      "metadata": {
        "id": "ekwVwMSKMgBy"
      },
      "source": [
        "## Sizing code"
      ]
    },
    {
      "cell_type": "markdown",
      "metadata": {
        "id": "qxfHtKShMgBy"
      },
      "source": [
        "The set of equations of a sizing code can generate typical issues such : \n",
        "- Underconstrained set of equations: the lacking equations can come from additional scenarios, estimation models or additional sizing variable.   \n",
        "- overconstrained equations often due to the selection of a component on multiple critera: the adding of over-sizing coefficients and constraints in the optimization problem can generally fix this issue   \n",
        "- algebraic loops often due to selection criteria requiring informations generally available after the selection \n",
        "\n",
        "Concerning overconstraints components, we have here:\n",
        "- Brushless motors with multiple torque and voltage constraints (hover and transient vertical displacement) \n",
        "\n",
        "Multiple algebraic loops appears in the sizing problem:\n",
        "- The thrust depends of the total mass which depend of components required for generating this thrust\n",
        "\n",
        "The final optimization problem depends thus of these parameters:\n",
        "- $\\beta_{pro}=pitch/diameter$ ratio to define the propeller\n",
        "- $k_{os}$ over sizing coefficient on the load mass to estimate the final total mass\n",
        "- $k_{mot}$ over sizing coeffcient on the motor torque to estimate the max torque with the hover flight conditions\n",
        "- $k_{speed,mot}$ over sizing coeffcient on the motor speed to take into account voltage limits during hover or take-off flight\n",
        "- $k_{ND}$ slow down propeller coef : ND = kNDmax / k_ND\n",
        "- $k_{D}$ aspect ratio e_arm/D_out_arm (thickness/diameter) for the beam of the frame\n",
        "- $k_{mb}$ ratio battery mass / payload mass\n",
        "- $k_{vb}$ over sizing coefficient for the battery voltage"
      ]
    },
    {
      "cell_type": "markdown",
      "metadata": {
        "id": "PErOVCJWMgB0"
      },
      "source": [
        "More details in the setting up of sizing code can be found in the  [following paper](https://www.researchgate.net/profile/Marc_Budinger/publication/277933677_Computer-aided_definition_of_sizing_procedures_and_optimization_problems_of_mechatronic_systems/links/55969de508ae793d137c7ea5/Computer-aided-definition-of-sizing-procedures-and-optimization-problems-of-mechatronic-systems.pdf):  \n",
        "\n",
        "> Reysset, A., Budinger, M., & Maré, J. C. (2015). Computer-aided definition of sizing procedures and optimization problems of mechatronic systems. Concurrent Engineering, 23(4), 320-332.\n",
        "\n",
        "The sizing code is defined here in a function which can give:\n",
        "- an evaluation of the objective: here the total mass\n",
        "- an evaluation of the constraints: \n",
        "\n",
        "Here is an non-exhaustive XDSM diagram of the multirotor sizing code:\n",
        "\n",
        "![XDSM](https://github.com/alcliberal/multirotor_sizing_isae_coa_2021/blob/main/pictures/xdsm_multirotor_mdo.png?raw=1)"
      ]
    },
    {
      "cell_type": "markdown",
      "metadata": {
        "id": "2K9pPgzrMgB1"
      },
      "source": [
        "## Objectives and specifications\n",
        "\n",
        "Main specifications :\n",
        "- a load (video, control card) of mass $M_{load}$.  \n",
        "- an autonomy $t_{hf}$ for the hover flight.\n",
        "- an acceleration to take off $a_{to}$.\n"
      ]
    },
    {
      "cell_type": "code",
      "metadata": {
        "id": "E_1HgRQ1MgB2"
      },
      "source": [
        "# Specifications\n",
        "\n",
        "# Load\n",
        "M_pay = 100. # [kg] load mass\n",
        "\n",
        "# Acceleration during take off\n",
        "a_to = 0.25 * 9.81 # [m/s²] acceleration\n",
        "\n",
        "# Autonomy\n",
        "t_hov_spec = 25. # [min] time of hover flight\n",
        "\n",
        "# MTOW\n",
        "MTOW = 360. # [kg] maximal mass\n",
        "\n",
        "# Objectif\n",
        "MAX_TIME = False # Objective\n",
        "\n"
      ],
      "execution_count": 197,
      "outputs": []
    },
    {
      "cell_type": "markdown",
      "metadata": {
        "id": "DXGKIhuEMgB3"
      },
      "source": [
        "## Architecture definition and design assumptions"
      ]
    },
    {
      "cell_type": "code",
      "metadata": {
        "id": "U57OVIGrMgB4"
      },
      "source": [
        "# Architecture of the multi-rotor drone (4,6, 8 arms, ...)\n",
        "N_arm = 4 # [-] number of arm\n",
        "N_pro_arm = 2 # [-] number of propeller per arm (1 or 2)\n",
        "N_pro = N_pro_arm * N_arm # [-] Propellers number"
      ],
      "execution_count": 198,
      "outputs": []
    },
    {
      "cell_type": "markdown",
      "metadata": {
        "id": "kPa9cbSdMgB4"
      },
      "source": [
        "## Reference parameters"
      ]
    },
    {
      "cell_type": "markdown",
      "metadata": {
        "id": "UITs1bsQMgB5"
      },
      "source": [
        "- ### Battery & ESC"
      ]
    },
    {
      "cell_type": "code",
      "metadata": {
        "id": "71yiuaZ2MgB5"
      },
      "source": [
        "# Reference parameters for scaling laws\n",
        "# Ref : MK-quadro\n",
        "M_bat_ref = .329 # [kg] mass\n",
        "E_bat_ref = 220.*3600.*.329 # [J]\n",
        "\n",
        "# Ref : Turnigy K_Force 70HV \n",
        "P_esc_ref = 3108. # [W] Power\n",
        "M_esc_ref = .115 # [kg] Mass"
      ],
      "execution_count": 199,
      "outputs": []
    },
    {
      "cell_type": "markdown",
      "metadata": {
        "id": "Zjdn2ge_MgB6"
      },
      "source": [
        "- ### Motor"
      ]
    },
    {
      "cell_type": "code",
      "metadata": {
        "id": "1iyoxO47MgB6"
      },
      "source": [
        "# Motor reference\n",
        "# Ref : AXI 5325/16 GOLD LINE\n",
        "T_nom_mot_ref = 2.32  # [N.m] rated torque\n",
        "T_max_mot_ref = 85./70.*T_nom_mot_ref # [N.m] max torque\n",
        "R_mot_ref = 0.03  # [Ohm] resistance\n",
        "M_mot_ref = 0.575 # [kg] mass\n",
        "K_mot_ref = 0.03 # [N.m/A] torque coefficient\n",
        "T_mot_fr_ref = 0.03 # [N.m] friction torque (zero load, nominal speed)"
      ],
      "execution_count": 200,
      "outputs": []
    },
    {
      "cell_type": "markdown",
      "metadata": {
        "id": "Wr2e0O6rMgB7"
      },
      "source": [
        "- ### Frame"
      ]
    },
    {
      "cell_type": "code",
      "metadata": {
        "id": "zyt669JgMgB7"
      },
      "source": [
        "# Reference parameters for scaling laws\n",
        "sigma_max = 280e6/4. # [Pa] Composite max stress (2 reduction for dynamic, 2 reduction for stress concentration)\n",
        "rho_s = 1700. # [kg/m3] Volumic mass of aluminum"
      ],
      "execution_count": 201,
      "outputs": []
    },
    {
      "cell_type": "markdown",
      "metadata": {
        "id": "keMCjdlTMgB8"
      },
      "source": [
        "- ### Propeller"
      ]
    },
    {
      "cell_type": "code",
      "metadata": {
        "id": "Lu9j6POsMgB8"
      },
      "source": [
        "# Specifications\n",
        "rho_air=1.18# [kg/m^3] Air density\n",
        "ND_max=105000./60.*.0254 #[Hz.m] Max speed limit (N.D max) for APC MR propellers\n",
        "\n",
        "\n",
        "# Reference parameters for scaling laws\n",
        "D_pro_ref=11.*.0254# [m] Reference propeller diameter\n",
        "M_pro_ref=0.53*0.0283# [kg] Reference propeller mass"
      ],
      "execution_count": 202,
      "outputs": []
    },
    {
      "cell_type": "code",
      "metadata": {
        "id": "BBo4WV7nMgB9"
      },
      "source": [
        "# -----------------------\n",
        "# sizing code\n",
        "# -----------------------\n",
        "# inputs: \n",
        "# - param: optimisation variables vector (reduction ratio, oversizing coefficient)\n",
        "# - arg: selection of output  \n",
        "# output: \n",
        "# - objective if arg='Obj', problem characteristics if arg='Prt', constraints other else\n",
        "def sizing_code(param, arg):\n",
        "# Design variables\n",
        "# ---\n",
        "    beta_pro = param[0] # pitch/diameter ratio of the propeller\n",
        "    k_os = param[1] # over sizing coefficient on the load mass \n",
        "    k_ND = param[2] # slow down propeller coef : ND = kNDmax / k_ND\n",
        "    k_mot = param[3] # over sizing coefficient on the motor torque\n",
        "    k_speed_mot = param[4] # over sizing coefficient on the motor speed\n",
        "    k_mb = param[5] # ratio battery / payload mass \n",
        "    k_vb = param[6] # over sizing coefficient for the battery voltage\n",
        "    k_D = param[7] # aspect ratio e_arm/D_out_arm (thickness/diameter) for the beam of the frame\n",
        "\n",
        "# Hover& Take-Off thrust \n",
        "# ---\n",
        "    M_total = k_os*M_pay # [kg] Estimation of the total mass (or equivalent weight of dynamic scenario)\n",
        "    F_pro_hov = M_total*9.81/N_pro # [N] Thrust per propeller for hover\n",
        "    F_pro_to = M_total*(a_to+9.81)/N_pro # [N] Thrust per propeller for take-off\n",
        "\n",
        "\n",
        "#PROPELLER\n",
        "# --- \n",
        "#Equations:\n",
        "#-----\n",
        "    ND = ND_max/k_ND\n",
        "\n",
        "# Regression\n",
        "    C_t = 4.27e-02 + 1.44e-01 * beta_pro # # Thrust coef with T=C_T.rho.n^2.D^4 - 0.8 for de-rating of APC catalog - Linear Regression from previous notebook 04_PropellerLinearRegression-Student.ipynb\n",
        "    C_p = -1.48e-03 + 9.72e-02 * beta_pro # Power coef with P=C_p.rho.n^3.D^5 - Linear Regression from previous notebook 04_PropellerLinearRegression-Student.ipynb\n",
        "\n",
        "# Propeller selection with take-off scenario\n",
        "\n",
        "    D_pro = sqrt(F_pro_to/(rho_air * (ND**2) * C_t)) # [m] Propeller diameter - From equation Ct = F/rho*N^2*D^3\n",
        "    n_pro_to = ND/D_pro # [Hz] Propeller speed\n",
        "    Omega_pro_to = n_pro_to*2*pi # [rad/s] Propeller speed\n",
        "    P_pro_to = C_p * rho_air * (ND**3) * D_pro**2 # From equation Cp = P/rho*N^3*D^5 and T = P/W\n",
        "    T_pro_to = P_pro_to/Omega_pro_to \n",
        "    M_pro = M_pro_ref * (D_pro/D_pro_ref)**3 # From equation M* = D*^2 et var* = var/var_ref\n",
        "    U_bat_est = k_vb*1.84*(P_pro_to)**(0.36) # [V] battery voltage estimation (from regression)\n",
        "\n",
        "# Propeller torque & speed for hover\n",
        "    D_pro_hov = sqrt(F_pro_hov/(rho_air * (ND**2) * C_t))  # From equation Ct = F/rho*N^2*D^3 \n",
        "    n_pro_hov = ND/D_pro_hov\n",
        "    Omega_pro_hov = n_pro_hov*2*pi\n",
        "    P_pro_hov = C_p * rho_air * (ND**3) * D_pro_hov**2 # From equation Cp = P/rho*N^3*D^5 and T = P/W\n",
        "    T_pro_hov = P_pro_hov/Omega_pro_hov\n",
        "    M_pro_hov = M_pro_ref * (D_pro_hov/D_pro_ref)**3 # From equation M* = D*^2 et var* = var/var_ref\n",
        "\n",
        "# MOTOR\n",
        "# --- \n",
        "\n",
        "#Equations:\n",
        "#-----\n",
        "    T_nom_mot = k_mot * T_pro_hov  # [N.m] Motor nominal torque per propeller\n",
        "    M_mot = M_mot_ref * (T_nom_mot/T_nom_mot_ref)**(3/3.5)  # [kg] Motor mass (scaling law)\n",
        "\n",
        "# Selection with take-off speed\n",
        "    K_mot = U_bat_est/Omega_pro_to/k_speed_mot # [N.m/A] or [V/(rad/s)] Kt motor\n",
        "    R_mot = R_mot_ref * (K_mot/K_mot_ref)**2 * (T_nom_mot/T_nom_mot_ref)**(-5/3.5)  # [Ohm] motor resistance (scaling law)\n",
        "\n",
        "    T_mot_fr = T_mot_fr_ref * (T_nom_mot/T_nom_mot_ref)**(3/3.5) # [N.m] Friction torque (scaling law)\n",
        "\n",
        "    T_max_mot = T_max_mot_ref*(T_nom_mot/T_nom_mot_ref)\n",
        "\n",
        "# Hover current and voltage\n",
        "    I_mot_hov = (T_nom_mot+T_mot_fr) / K_mot # [I] Current of the motor per propeller\n",
        "    U_mot_hov = R_mot * I_mot_hov + K_mot * Omega_pro_hov # [V] Voltage of the motor per propeller\n",
        "    P_el_mot_hov = I_mot_hov * U_mot_hov  # [W] Hover : electrical power\n",
        "\n",
        "# Takeoff current and voltage\n",
        "    I_mot_to = (T_max_mot+T_mot_fr) / K_mot # [I] Current of the motor per propeller\n",
        "    U_mot_to = R_mot * I_mot_to + K_mot * Omega_pro_to # [V] Voltage of the motor per propeller\n",
        "    P_el_mot_to = I_mot_to * U_mot_to # [W] Takeoff : electrical power\n",
        "\n",
        "# BATTERY AND ESC\n",
        "# ---   \n",
        "# Battery selection & scaling laws sized from hover\n",
        "    \n",
        "    \n",
        "    N_s_bat = ceil(U_bat_est/3.7)  # [-] Cell number, round (up value).  from math import *\n",
        "    U_bat = N_s_bat *3.7 # [V] Battery voltage\n",
        "\n",
        "    M_bat = k_mb * M_pay # [kg] Battery mass\n",
        "\n",
        "\n",
        "# Hover --> autonomy\n",
        "    E_bat = E_bat_ref * M_bat / M_bat_ref * 0.8 # [J] Energy  of the battery (.8 coefficient because 80% use only of the total capacity)\n",
        "    C_bat = E_bat/U_bat  # [A.s] Capacity  of the battery \n",
        "    I_bat =  P_el_mot_hov * N_pro / (0.95 * U_bat)  # [A] Current of the battery (Initial hypothese)\n",
        "    t_hov = C_bat /(I_bat*60)  # [min] Hover time \n",
        "\n",
        "\n",
        " #ESC    \n",
        "  \n",
        "    P_esc = P_el_mot_to * U_bat/U_mot_to # [W] power electronic power (corner power or apparent power)\n",
        "    M_esc =  M_esc_ref * P_esc / P_esc_ref  # [kg] Mass ESC\n",
        "    V_esc =  1.84e+00*P_esc**(3.60e-01) # [V] ESC voltage     \n",
        "\n",
        "# Frame sized from max thrust\n",
        "# ---\n",
        "    alpha_sep = 2*pi/N_arm # [rad] interior angle separation between propellers\n",
        "    L_arm =  D_pro/(2*math.sin(pi/N_arm)) # [m] length of the arm\n",
        "\n",
        "    # Tube diameter & thickness\n",
        "    D_out_arm = math.pow(F_pro_to*L_arm/(math.pi/32*(1-(1-k_D)**4)*sigma_max) , 1/3) # [m] outer diameter of the arm (hollow cylinder)\n",
        "    e_arm = D_out_arm*k_D # [m] thickness of the arm (hollow cylinder)  \n",
        "    D_in_arm = D_out_arm - e_arm # [m] inner diameter of the arm (hollow cylinder)\n",
        "\n",
        "    # Mass\n",
        "    M_arm = math.pi*(D_out_arm**2-D_in_arm**2)/4*L_arm*rho_s # [kg] mass of the arm (x1) (beams only)  composite\n",
        "    M_frame = (N_arm*M_arm)/0.4 # [kg] mass of the frame (40% of total mass is the arms)\n",
        "    M_body = M_frame*0.6\n",
        "    M_lg = 0 # [kg] Initial hypothese\n",
        "\n",
        "# Objective and Constraints sum up\n",
        "# ---\n",
        "    M_total_real= (M_pro + M_mot + M_esc)*N_pro + M_bat + M_frame + M_pay +M_lg\n",
        "\n",
        "    if MAX_TIME == True:\n",
        "            # One of the objectifs which is maximized the time of hover flight\n",
        "            constraints = [\n",
        "              M_total - M_total_real, # Mass limitation M_total_real compared to M_total (M_total>=M_total_real)\n",
        "              U_bat - U_mot_to,\n",
        "              T_max_mot - T_pro_to,# - T_mot_fr,# Magnetic limitation of the T_pro_to + T_max_fr compared to T_max_motor (T_max_motor>=T_pro_to + T_max_fr)\n",
        "              U_bat - V_esc, # Limitation of the V_esc compared to U_bat (U_bat>=V_esc)\n",
        "              V_esc - U_mot_to, # Limitation of the U_mot_to compared to V_esc (V_esc>=U_mot_to)\n",
        "              #Hypotheses sigma=sigma_max # Limitation of the sigma compared to sigma_max (sigma_max>=sigma)\n",
        "              MTOW - M_total_real \n",
        "              ]\n",
        "    else:\n",
        "            # One of the objectifs which is minimized the MTOW\n",
        "            constraints = [\n",
        "              M_total - M_total_real, # Mass limitation M_total_real compared to M_total (M_total>=M_total_real)\n",
        "              U_bat - U_mot_to,\n",
        "              T_max_mot - T_pro_to,# - T_mot_fr,# Magnetic limitation of the T_pro_to + T_max_fr compared to T_max_motor (T_max_motor>=T_pro_to + T_max_fr)\n",
        "              U_bat - V_esc, # Limitation of the V_esc compared to U_bat (U_bat>=V_esc)\n",
        "              V_esc - U_mot_to, # Limitation of the U_mot_to compared to V_esc (V_esc>=U_mot_to)\n",
        "              #Hypotheses sigma=sigma_max # Limitation of the sigma compared to sigma_max (sigma_max>=sigma)\n",
        "              t_hov - t_hov_spec\n",
        "            ]\n",
        "\n",
        " # Run algorithm slsqp\n",
        "    if arg == 'Obj':\n",
        "        if MAX_TIME == True:\n",
        "            return 1./t_hov # for time maximisation\n",
        "        else:\n",
        "            return M_total_real # for mass optimisation\n",
        "\n",
        "     # Run algorithm differential evolution\n",
        "    elif arg == 'ObjP':\n",
        "        P = 0. # Penalisation nulle\n",
        "        for C in constraints: \n",
        "            if (C < 0.): \n",
        "                P = P-1e9*C\n",
        "        if MAX_TIME==True:\n",
        "            return 1./t_hov + P # for time maximisation\n",
        "        else:\n",
        "            return M_total_real + P # for mass optimisation       \n",
        "\n",
        "    elif arg=='Prt':\n",
        "\n",
        "        col_names = ['Type', 'Name', 'Value', 'Unit', 'Comment']\n",
        "\n",
        "        df = pd.DataFrame()\n",
        "        print(constraints)\n",
        "        df = df.append([{'Type': 'Optimization', 'Name': 'beta_pro', 'Value': beta_pro,  'Unit': '[-]', 'Comment': 'ratio pitch-to-diameter '}])[col_names]\n",
        "        df = df.append([{'Type': 'Optimization', 'Name': 'k_os',  'Value': k_os,  'Unit': '[-]', 'Comment': 'over sizing coefficient on the load mass '}])[col_names]\n",
        "        df = df.append([{'Type': 'Optimization', 'Name': 'k_ND',  'Value': k_ND,  'Unit': '[-]', 'Comment': 'over sizing coefficient on the propeller speed'}])[col_names]\n",
        "        df = df.append([{'Type': 'Optimization', 'Name': 'k_mot', 'Value': k_mot,  'Unit': '[-]', 'Comment': 'over sizing coefficient on the motor torque  '}])[col_names]\n",
        "        df = df.append([{'Type': 'Optimization', 'Name': 'k_speed_mot',  'Value': k_speed_mot,  'Unit': '[-]', 'Comment': 'over sizing coefficient on the propeller speed'}])[col_names]\n",
        "        df = df.append([{'Type': 'Optimization', 'Name': 'k_mb',  'Value': k_mb,  'Unit': '[-]', 'Comment': 'over sizing coefficient on the battery load mass'}])[col_names]\n",
        "        df = df.append([{'Type': 'Optimization', 'Name': 'k_vb',  'Value': k_vb,  'Unit': '[-]', 'Comment': 'over sizing coefficient for the battery voltage'}])[col_names]\n",
        "        df = df.append([{'Type': 'Optimization', 'Name': 'k_D',  'Value': k_D,  'Unit': '[-]', 'Comment': 'aspect ratio e/c (thickness/side) for the beam of the frame'}])[col_names]\n",
        "        df = df.append([{'Type': 'Constraints', 'Name': 'Const 0',  'Value': constraints[0],  'Unit': '[-]', 'Comment': 'M_total-M_total_real'}])[col_names]\n",
        "        df = df.append([{'Type': 'Constraints', 'Name': 'Const 1',  'Value': constraints[1],  'Unit': '[-]', 'Comment': 'U_bat-U_mot_to'}])[col_names]\n",
        "        df = df.append([{'Type': 'Constraints', 'Name': 'Const 2',  'Value': constraints[2],  'Unit': '[-]', 'Comment': 'T_max_mot-T_pro_to'}])[col_names]\n",
        "        df = df.append([{'Type': 'Constraints', 'Name': 'Const 3',  'Value': constraints[3],  'Unit': '[-]', 'Comment': 'U_bat-V_esc'}])[col_names]\n",
        "        df = df.append([{'Type': 'Constraints', 'Name': 'Const 4',  'Value': constraints[4],  'Unit': '[-]', 'Comment': 'V_esc-U_mot_to'}])[col_names]\n",
        "        if MAX_TIME==False:\n",
        "            df = df.append([{'Type': 'Constraints', 'Name': 'Const 5',  'Value': constraints[4],  'Unit': '[-]', 'Comment': 't_hov-t_hov_spec'}])[col_names]\n",
        "        else:\n",
        "            df = df.append([{'Type': 'Constraints', 'Name': 'Const 5',  'Value': constraints[4],  'Unit': '[-]', 'Comment': 'MTOW-M_total_real'}])[col_names]\n",
        "        df = df.append([{'Type': 'Objective', 'Name': 'Objective',  'Value': M_total_real,  'Unit': '[kg]', 'Comment': 'Total mass'}])[col_names]\n",
        "        \n",
        "        df = df.append([{'Type': 'Propeller', 'Name': 'F_pro_to', 'Value': F_pro_to, 'Unit': '[N]', 'Comment': 'Thrust for 1 propeller during Take Off'}])[col_names]\n",
        "        df = df.append([{'Type': 'Propeller', 'Name': 'F_pro_hov', 'Value': F_pro_hov, 'Unit': '[N]', 'Comment': 'Thrust for 1 propeller during Hover'}])[col_names]\n",
        "        df = df.append([{'Type': 'Propeller', 'Name': 'rho_air', 'Value': rho_air, 'Unit': '[kg/m^3]', 'Comment': 'Air density'}])[col_names]\n",
        "        df = df.append([{'Type': 'Propeller', 'Name': 'ND_max', 'Value': ND_max, 'Unit': '[Hz.m]', 'Comment': 'Max speed limit (N.D max)'}])[col_names]\n",
        "        df = df.append([{'Type': 'Propeller', 'Name': 'Dpro_ref', 'Value': D_pro_ref, 'Unit': '[m]', 'Comment': 'Reference propeller diameter'}])[col_names]\n",
        "        df = df.append([{'Type': 'Propeller', 'Name': 'M_pro_ref', 'Value': M_pro_ref, 'Unit': '[kg]', 'Comment': 'Reference propeller mass'}])[col_names]\n",
        "        df = df.append([{'Type': 'Propeller', 'Name': 'C_t_sta', 'Value': C_t, 'Unit': '[-]', 'Comment': 'Static thrust coefficient of the propeller'}])[col_names]\n",
        "        df = df.append([{'Type': 'Propeller', 'Name': 'C_p_sta', 'Value': C_p, 'Unit': '[-]', 'Comment': 'Static power coefficient of the propeller'}])[col_names]\n",
        "        df = df.append([{'Type': 'Propeller', 'Name': 'D_pro', 'Value': D_pro, 'Unit': '[m]', 'Comment': 'Diameter of the propeller'}])[col_names]\n",
        "        df = df.append([{'Type': 'Propeller', 'Name': 'n_pro_to', 'Value': n_pro_to, 'Unit': '[Hz]', 'Comment': 'Rev speed of the propeller during takeoff'}])[col_names]\n",
        "        df = df.append([{'Type': 'Propeller', 'Name': 'n_pro_hov', 'Value': n_pro_hov, 'Unit': '[Hz]', 'Comment': 'Rev speed of the propeller during hover'}])[col_names]\n",
        "        df = df.append([{'Type': 'Propeller', 'Name': 'P_pro_to', 'Value': P_pro_to, 'Unit': '[W]', 'Comment': 'Power on the mechanical shaft of the propeller during takeoff'}])[col_names]\n",
        "        df = df.append([{'Type': 'Propeller', 'Name': 'P_pro_hov', 'Value': P_pro_hov, 'Unit': '[W]', 'Comment': 'Power on the mechanical shaft of the propeller during hover'}])[col_names]\n",
        "        df = df.append([{'Type': 'Propeller', 'Name': 'M_pro', 'Value': M_pro, 'Unit': '[kg]', 'Comment': 'Mass of the propeller'}])[col_names]\n",
        "        df = df.append([{'Type': 'Propeller', 'Name': 'Omega_pro_to', 'Value': Omega_pro_to, 'Unit': '[rad/s]', 'Comment': 'Rev speed of the propeller during takeoff'}])[col_names]\n",
        "        df = df.append([{'Type': 'Propeller', 'Name': 'Omega_pro_hov', 'Value': Omega_pro_hov, 'Unit': '[rad/s]', 'Comment': 'Rev speed of the propeller during hover'}])[col_names]\n",
        "        df = df.append([{'Type': 'Propeller', 'Name': 'T_pro_hov', 'Value': T_pro_hov, 'Unit': '[N.m]', 'Comment': 'Torque on the mechanical shaft of the propeller during hover'}])[col_names]\n",
        "        df = df.append([{'Type': 'Propeller', 'Name': 'T_pro_to', 'Value': T_pro_to, 'Unit': '[N.m]', 'Comment': 'Torque on the mechanical shaft of the propeller during takeoff'}])[col_names]\n",
        "        df = df.append([{'Type': 'Motor', 'Name': 'T_max_mot_ref', 'Value': T_max_mot_ref, 'Unit': '[N.m]', 'Comment': 'Max torque'}])[col_names]\n",
        "        df = df.append([{'Type': 'Motor', 'Name': 'R_mot_ref', 'Value': R_mot_ref, 'Unit': '[Ohm]', 'Comment': 'Resistance'}])[col_names]\n",
        "        df = df.append([{'Type': 'Motor', 'Name': 'M_mot_ref', 'Value': M_mot_ref, 'Unit': '[kg]', 'Comment': 'Reference motor mass'}])[col_names]\n",
        "        df = df.append([{'Type': 'Motor', 'Name': 'K_mot_ref', 'Value': K_mot_ref, 'Unit': '[N.m/A]', 'Comment': 'Torque coefficient'}])[col_names]\n",
        "        df = df.append([{'Type': 'Motor', 'Name': 'T_mot_fr_ref', 'Value': T_mot_fr_ref, 'Unit': '[N.m]', 'Comment': 'Friction torque (zero load, nominal speed)'}])[col_names]\n",
        "        df = df.append([{'Type': 'Motor', 'Name': 'T_nom_mot', 'Value': T_nom_mot, 'Unit': '[N.m]', 'Comment': 'Continuous of the selected motor torque'}])[col_names]\n",
        "        df = df.append([{'Type': 'Motor', 'Name': 'T_max_mot', 'Value': T_max_mot, 'Unit': '[N.m]', 'Comment': 'Transient torque possible for climbing'}])[col_names]\n",
        "        df = df.append([{'Type': 'Motor', 'Name': 'R_mot', 'Value': R_mot, 'Unit': '[Ohm]', 'Comment': 'Resistance'}])[col_names]\n",
        "        df = df.append([{'Type': 'Motor', 'Name': 'M_mot', 'Value': M_mot, 'Unit': '[kg]', 'Comment': 'Motor mass'}])[col_names]\n",
        "        df = df.append([{'Type': 'Motor', 'Name': 'K_mot', 'Value': K_mot, 'Unit': '[N.m/A', 'Comment': 'Torque constant of the selected motor'}])[col_names]\n",
        "        df = df.append([{'Type': 'Motor', 'Name': 'T_mot_fr', 'Value': T_mot_fr, 'Unit': '[N.m]', 'Comment': 'Friction torque of the selected motor'}])[col_names]\n",
        "        df = df.append([{'Type': 'Motor', 'Name': 'I_mot_hov', 'Value': I_mot_hov, 'Unit': '[A]', 'Comment': 'Motor current for hover'}])[col_names]\n",
        "        df = df.append([{'Type': 'Motor', 'Name': 'I_mot_to', 'Value': I_mot_to, 'Unit': '[A]', 'Comment': 'Motor current for takeoff'}])[col_names]\n",
        "        df = df.append([{'Type': 'Motor', 'Name': 'U_mot_to', 'Value': U_mot_to, 'Unit': '[V]', 'Comment': 'Motor voltage for takeoff'}])[col_names]\n",
        "        df = df.append([{'Type': 'Motor', 'Name': 'U_mot', 'Value': U_mot_hov, 'Unit': '[V]', 'Comment': 'Nominal voltage '}])[col_names]\n",
        "        df = df.append([{'Type': 'Motor', 'Name': 'P_el_mot_to', 'Value': P_el_mot_to, 'Unit': '[W]', 'Comment': 'Motor electrical power for takeoff'}])[col_names]\n",
        "        df = df.append([{'Type': 'Motor', 'Name': 'P_el_mot_hov', 'Value': P_el_mot_hov, 'Unit': '[W]', 'Comment': 'Motor electrical power for hover'}])[col_names]\n",
        "        df = df.append([{'Type': 'Battery & ESC', 'Name': 'M_bat_ref', 'Value': M_bat_ref, 'Unit': '[kg]', 'Comment': 'Mass of the reference battery '}])[col_names]\n",
        "        df = df.append([{'Type': 'Battery & ESC', 'Name': 'M_esc_ref', 'Value': M_esc_ref, 'Unit': '[kg]', 'Comment': 'Reference ESC mass '}])[col_names]\n",
        "        df = df.append([{'Type': 'Battery & ESC', 'Name': 'P_esc_ref', 'Value': P_esc_ref, 'Unit': '[W]', 'Comment': 'Reference ESC power '}])[col_names]\n",
        "        df = df.append([{'Type': 'Battery & ESC', 'Name': 'N_s_bat', 'Value': np.ceil(N_s_bat), 'Unit': '[-]', 'Comment': 'Number of battery cells '}])[col_names]\n",
        "        df = df.append([{'Type': 'Battery & ESC', 'Name': 'U_bat', 'Value': U_bat, 'Unit': '[V]', 'Comment': 'Battery voltage '}])[col_names]\n",
        "        df = df.append([{'Type': 'Battery & ESC', 'Name': 'M_bat', 'Value': M_bat, 'Unit': '[kg]', 'Comment': 'Battery mass '}])[col_names]\n",
        "        df = df.append([{'Type': 'Battery & ESC', 'Name': 'C_bat', 'Value': C_bat, 'Unit': '[A.s]', 'Comment': 'Battery capacity '}])[col_names]\n",
        "        df = df.append([{'Type': 'Battery & ESC', 'Name': 'I_bat', 'Value': I_bat, 'Unit': '[A]', 'Comment': 'Battery current '}])[col_names]\n",
        "        df = df.append([{'Type': 'Battery & ESC', 'Name': 't_hf', 'Value': t_hov, 'Unit': '[min]', 'Comment': 'Hovering time '}])[col_names]\n",
        "        df = df.append([{'Type': 'Battery & ESC', 'Name': 'P_esc', 'Value': P_esc, 'Unit': '[W]', 'Comment': 'Power electronic power (corner power or apparent power) '}])[col_names]\n",
        "        df = df.append([{'Type': 'Battery & ESC', 'Name': 'M_esc', 'Value': M_esc, 'Unit': '[kg]', 'Comment': 'ESC mass '}])[col_names]\n",
        "        df = df.append([{'Type': 'Battery & ESC', 'Name': 'V_esc', 'Value': V_esc, 'Unit': '[V]', 'Comment': 'ESC voltage '}])[col_names]\n",
        "        df = df.append([{'Type': 'Frame', 'Name': 'N_arm', 'Value': N_arm, 'Unit': '[-]', 'Comment': 'Number of arms '}])[col_names]\n",
        "        df = df.append([{'Type': 'Frame', 'Name': 'N_pro_arm', 'Value': N_pro_arm, 'Unit': '[-]', 'Comment': 'Number of propellers per arm '}])[col_names]\n",
        "        df = df.append([{'Type': 'Frame', 'Name': 'sigma_max', 'Value': sigma_max, 'Unit': '[Pa]', 'Comment': 'Max admisible stress'}])[col_names]\n",
        "        df = df.append([{'Type': 'Frame', 'Name': 'L_arm', 'Value': L_arm, 'Unit': '[m]', 'Comment': 'Length of the arm'}])[col_names]\n",
        "        df = df.append([{'Type': 'Frame', 'Name': 'D_out', 'Value': D_out_arm, 'Unit': '[m]', 'Comment': 'Outer diameter of the arm (tube)'}])[col_names]\n",
        "        df = df.append([{'Type': 'Frame', 'Name': 'Marm', 'Value': M_arm, 'Unit': '[kg]', 'Comment': '1 Arm mass'}])[col_names]\n",
        "        df = df.append([{'Type': 'Frame', 'Name': 'M_frame', 'Value': M_frame, 'Unit': '[kg]', 'Comment': 'Frame mass'}])[col_names]\n",
        "        df = df.append([{'Type': 'Specifications', 'Name': 'M_load', 'Value': M_pay, 'Unit': '[kg]', 'Comment': 'Payload mass'}])[col_names]\n",
        "        df = df.append([{'Type': 'Specifications', 'Name': 't_hf', 'Value': t_hov, 'Unit': '[min]', 'Comment': 'Hovering time '}])[col_names]\n",
        "        df = df.append([{'Type': 'Specifications', 'Name': 'N_arm', 'Value': N_arm, 'Unit': '[-]', 'Comment': 'Number of arms '}])[col_names]\n",
        "        df = df.append([{'Type': 'Specifications', 'Name': 'N_pro_arm', 'Value': N_pro_arm, 'Unit': '[-]', 'Comment': 'Number of propellers per arm '}])[col_names]\n",
        "        df = df.append([{'Type': 'Specifications', 'Name': 'MTOW', 'Value': MTOW, 'Unit': '[kg]', 'Comment': 'Max takeoff Weight'}])[col_names]\n",
        "\n",
        "        items = sorted(df['Type'].unique().tolist())\n",
        "        def f(Type):\n",
        "            return df[df['Type']==Type] \n",
        "        widgets.interact(f, Type=items)\n",
        "        return f\n",
        "        \n",
        "    else:\n",
        "        return constraints"
      ],
      "execution_count": 203,
      "outputs": []
    },
    {
      "cell_type": "markdown",
      "metadata": {
        "id": "AE5aw6tJMgCF"
      },
      "source": [
        "## Optimization problem\n"
      ]
    },
    {
      "cell_type": "markdown",
      "metadata": {
        "id": "GhVe-BmdMgCM"
      },
      "source": [
        "We will now use the [optimization algorithms](https://docs.scipy.org/doc/scipy/reference/optimize.html) of the Scipy package to solve and optimize the configuration. We use here the SLSQP algorithm without explicit expression of the gradient (Jacobian). A course on Multidisplinary Gradient optimization algorithms and gradient optimization algorithm is given [here](http://mdolab.engin.umich.edu/sites/default/files/Martins-MDO-course-notes.pdf):\n",
        "> Joaquim R. R. A. Martins (2012). A Short Course on Multidisciplinary Design Optimization. University of Michigan\n"
      ]
    },
    {
      "cell_type": "markdown",
      "metadata": {
        "id": "JSmxKsUAMgCM"
      },
      "source": [
        "The first step is to give an initial value of optimisation variables:"
      ]
    },
    {
      "cell_type": "code",
      "metadata": {
        "id": "QhCc2OjYMgCM",
        "colab": {
          "base_uri": "https://localhost:8080/"
        },
        "outputId": "77b7b785-4209-426c-da58-b747b1f20ffe"
      },
      "source": [
        "# Optimisation variables\n",
        "beta_pro = .33 # pitch/diameter ratio of the propeller\n",
        "k_os = 3.2 # over sizing coefficient on the load mass \n",
        "k_ND = 1.2 # slow down propeller coef : ND = kNDmax / k_ND\n",
        "k_mot = 1. # over sizing coefficient on the motor torque\n",
        "k_speed_mot = 1.2 # adaption winding coef on the motor speed\n",
        "k_mb = 1. # ratio battery/load mass\n",
        "k_vb = 1. # oversizing coefficient for voltage evaluation\n",
        "k_D = .01 # aspect ratio e/c (thickness/side) for the beam of the frame\n",
        "\n",
        "\n",
        "# Vector of parameters\n",
        "parameters = scipy.array((beta_pro, k_os, k_ND,k_mot, k_speed_mot, k_mb, k_vb,k_D,))"
      ],
      "execution_count": 204,
      "outputs": [
        {
          "output_type": "stream",
          "text": [
            "/usr/local/lib/python3.6/dist-packages/ipykernel_launcher.py:13: DeprecationWarning: scipy.array is deprecated and will be removed in SciPy 2.0.0, use numpy.array instead\n",
            "  del sys.path[0]\n"
          ],
          "name": "stderr"
        }
      ]
    },
    {
      "cell_type": "markdown",
      "metadata": {
        "id": "aapkzoXgMgCM"
      },
      "source": [
        "We can print of the characterisitcs of the problem before optimization with the initial vector of optimization variables:"
      ]
    },
    {
      "cell_type": "code",
      "metadata": {
        "id": "TeuCNyLWMgCN",
        "colab": {
          "base_uri": "https://localhost:8080/",
          "height": 532,
          "referenced_widgets": [
            "ae6063cb3aac4099b5ade5838ff5dca8",
            "228c11f731bc4a7f94208947bc66a4d8",
            "25674791f1ff4e7fa6d8861df59bdb0a",
            "f6301cb2e21641b4bf3c1011d7194108",
            "9d12e28e9bc9454ebb3072bc88d12594",
            "6fc42107b61a48a0b36b90fee2786457",
            "01109331cab1472899f49cd581ccbcd2"
          ]
        },
        "outputId": "b59dfdaa-dc49-4e23-c851-e4b8f01955b2"
      },
      "source": [
        "# Initial characteristics before optimization \n",
        "print(\"-----------------------------------------------\")\n",
        "print(\"Initial characteristics before optimization :\")\n",
        "sizing_code(parameters,'Prt')\n",
        "print(\"-----------------------------------------------\")"
      ],
      "execution_count": 205,
      "outputs": [
        {
          "output_type": "stream",
          "text": [
            "-----------------------------------------------\n",
            "Initial characteristics before optimization :\n",
            "[31.306776862220318, 0.638904619054351, -6.361397830568592, 0.411144932480326, 0.227759686574025, -3.4882449210950064]\n"
          ],
          "name": "stdout"
        },
        {
          "output_type": "display_data",
          "data": {
            "application/vnd.jupyter.widget-view+json": {
              "model_id": "ae6063cb3aac4099b5ade5838ff5dca8",
              "version_minor": 0,
              "version_major": 2
            },
            "text/plain": [
              "interactive(children=(Dropdown(description='Type', options=('Battery & ESC', 'Constraints', 'Frame', 'Motor', …"
            ]
          },
          "metadata": {
            "tags": []
          }
        },
        {
          "output_type": "stream",
          "text": [
            "-----------------------------------------------\n"
          ],
          "name": "stdout"
        }
      ]
    },
    {
      "cell_type": "markdown",
      "metadata": {
        "id": "gmkb6ZxHMgCN"
      },
      "source": [
        "Then we can solve the problem and print of the optimized solution:"
      ]
    },
    {
      "cell_type": "code",
      "metadata": {
        "id": "-Tw_Ek2cMgCN",
        "colab": {
          "base_uri": "https://localhost:8080/",
          "height": 532,
          "referenced_widgets": [
            "a2d7caa4bed84338b74e78bf232b6fea",
            "b91ef25426d04d16be75ba28e0e37f4f",
            "f316e63586ab4c04bd3633828103eff3",
            "dd8eb165fb774ce2b62c2e56dbcbb8a8",
            "d3ca1b265f5d44bba68778bb939a8752",
            "83e0e14eea70478fbc909894b8a71031",
            "d95dc77a7c6041469f12e87555542eae"
          ]
        },
        "outputId": "0901bede-34ae-490a-cc35-ddf1549ba17c"
      },
      "source": [
        "# Optimization with SLSQP algorithm\n",
        "contrainte = lambda x: sizing_code(x, 'Const')\n",
        "objectif = lambda x: sizing_code(x, 'Obj')\n",
        "objectifP = lambda x: sizing_code(x, 'ObjP')\n",
        "\n",
        "SLSQP = False # Optimization algorithm choice\n",
        "\n",
        "# Optimization bounds\n",
        "# beta,  k_os, k_ND, k_mot, k_speed_mot, k_mb, k_vb, k_D\n",
        "bounds = [(0.3,0.6), (1,400), (1,100), (1,100), (1,400), (0.1,100), (1,5), (0.1,0.99)]\n",
        "\n",
        "if SLSQP == True:\n",
        "    # SLSQP omptimisation\n",
        "    result = scipy.optimize.fmin_slsqp(func=objectif, x0=parameters, \n",
        "                                   bounds=bounds,\n",
        "                                   f_ieqcons=contrainte, iter=1500, acc=1e-12)\n",
        "else:\n",
        "    # Differential evolution omptimisation\n",
        "    result = scipy.optimize.differential_evolution(func=objectifP,\n",
        "                                   bounds=bounds,\n",
        "                                   tol=1e-12)\n",
        "\n",
        "# Final characteristics after optimization \n",
        "print(\"-----------------------------------------------\")\n",
        "print(\"Final characteristics after optimization :\")\n",
        "\n",
        "if SLSQP == True:\n",
        "    sizing_code(result,'Obj')\n",
        "    sizing_code(result, 'Prt')\n",
        "else:\n",
        "    sizing_code(result.x,'Obj')\n",
        "    sizing_code(result.x, 'Prt')\n",
        "print(\"-----------------------------------------------\")"
      ],
      "execution_count": 206,
      "outputs": [
        {
          "output_type": "stream",
          "text": [
            "-----------------------------------------------\n",
            "Final characteristics after optimization :\n",
            "[0.0017256311553524029, 2.4503438068140895, 9.203373439703455e-05, 2.428909485639501, 0.021434321174588433, 0.00012928263621603264]\n"
          ],
          "name": "stdout"
        },
        {
          "output_type": "display_data",
          "data": {
            "application/vnd.jupyter.widget-view+json": {
              "model_id": "a2d7caa4bed84338b74e78bf232b6fea",
              "version_minor": 0,
              "version_major": 2
            },
            "text/plain": [
              "interactive(children=(Dropdown(description='Type', options=('Battery & ESC', 'Constraints', 'Frame', 'Motor', …"
            ]
          },
          "metadata": {
            "tags": []
          }
        },
        {
          "output_type": "stream",
          "text": [
            "-----------------------------------------------\n"
          ],
          "name": "stdout"
        }
      ]
    },
    {
      "cell_type": "code",
      "metadata": {
        "id": "ijq3L0ZmMgCN"
      },
      "source": [
        ""
      ],
      "execution_count": 206,
      "outputs": []
    }
  ]
}