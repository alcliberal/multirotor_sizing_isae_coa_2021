{
  "nbformat": 4,
  "nbformat_minor": 0,
  "metadata": {
    "kernelspec": {
      "display_name": "Python 3",
      "language": "python",
      "name": "python3"
    },
    "language_info": {
      "codemirror_mode": {
        "name": "ipython",
        "version": 3
      },
      "file_extension": ".py",
      "mimetype": "text/x-python",
      "name": "python",
      "nbconvert_exporter": "python",
      "pygments_lexer": "ipython3",
      "version": "3.6.5"
    },
    "colab": {
      "name": "05b_MotorSelection-Student.ipynb",
      "provenance": [],
      "include_colab_link": true
    }
  },
  "cells": [
    {
      "cell_type": "markdown",
      "metadata": {
        "id": "view-in-github",
        "colab_type": "text"
      },
      "source": [
        "<a href=\"https://colab.research.google.com/github/alcliberal/multirotor_sizing_isae_coa_2021/blob/main/05b_MotorSelection-Student.ipynb\" target=\"_parent\"><img src=\"https://colab.research.google.com/assets/colab-badge.svg\" alt=\"Open In Colab\"/></a>"
      ]
    },
    {
      "cell_type": "markdown",
      "metadata": {
        "id": "CKzbptN1jDHT"
      },
      "source": [
        "<img src=\"https://github.com/alcliberal/multirotor_sizing_isae_coa_2021/blob/main/pictures/logo_sizinglab.png?raw=1\" style=\"float:right; max-width: 60px; display: inline\" alt=\"SizingLab\" /></a>"
      ]
    },
    {
      "cell_type": "markdown",
      "metadata": {
        "id": "3CtCfGlMjDHf"
      },
      "source": [
        "# Motor selection\n",
        "*Written by Marc Budinger (INSA Toulouse) and Scott Delbecq (ISAE-SUPAERO), Toulouse, France.*"
      ]
    },
    {
      "cell_type": "markdown",
      "metadata": {
        "id": "r28oFXUJjDHf"
      },
      "source": [
        "## Design graph \n",
        "\n",
        "The following diagram represents the design graph of the motor’s selection. The mean speed/thrust (Ωmoy & Tmoy), the max speed/thrust (Ωmax & Tmax) and the battery voltage are assumed to be known here.\n",
        "\n",
        "![DesignGraph](https://github.com/alcliberal/multirotor_sizing_isae_coa_2021/blob/main/pictures/MotorDesignGraph.png?raw=1)\n",
        "\n",
        "> **Questions:**\n",
        "* Give the 2 main sizing problems you are able to detect here.\n",
        "* Propose one or multiple solutions (which can request equation manipulation, addition of design variables, addition of constraints) \n",
        "* Orientate the arrows and write equations order, inputs/outputs at each step of this part of sizing procedure, additional constraints\n"
      ]
    },
    {
      "cell_type": "markdown",
      "metadata": {
        "id": "v9yh8L8WjDHh"
      },
      "source": [
        "### Sizing code and optimization\n",
        "\n",
        "> Exercice: propose a sizing code for the selection of a motor.\n"
      ]
    },
    {
      "cell_type": "code",
      "metadata": {
        "id": "_0h3jKpTjDHi"
      },
      "source": [
        "# Specifications\n",
        "\n",
        "# Reference parameters for scaling laws\n",
        "# Motor reference\n",
        "# Ref : AXI 5325/16 GOLD LINE\n",
        "T_nom_mot_ref = 2.32  # [N.m] rated torque\n",
        "T_max_mot_ref = 85./70.*T_nom_mot_ref # [N.m] max torque\n",
        "R_mot_ref = 0.03  # [Ohm] resistance\n",
        "M_mot_ref = 0.575 # [kg] mass\n",
        "K_mot_ref = 0.03 # [N.m/A] torque coefficient\n",
        "T_mot_fr_ref = 0.03 # [N.m] friction torque (zero load, nominal speed)\n",
        "\n",
        "# Assumption\n",
        "T_pro_to=0.5#[N.m] Propeller Torque during takeoff\n",
        "Omega_pro_to=400.0#[rad/s] Propeller speed during takeoff\n",
        "T_pro_hov=1.0#[N.m] Propeller Torque during hover\n",
        "Omega_pro_hov=0.22#[rad/s] Propeller speed during hover\n",
        "U_bat_est= 14.0#[V] Battery voltage value (estimation)\n"
      ],
      "execution_count": 3,
      "outputs": []
    },
    {
      "cell_type": "code",
      "metadata": {
        "id": "SWdy2ug7jDHk"
      },
      "source": [
        "#Design variables\n",
        "k_mot = 5 #over sizing coefficient on the motor torque\n",
        "k_speed_mot = 5  # over sizing coefficient on the motor speed\n",
        "\n",
        "#Equations:\n",
        "#-----\n",
        "T_nom_mot = k_mot * T_pro_hov  # [N.m] Motor nominal torque per propeller\n",
        "M_mot = M_mot_ref * (T_nom_mot/T_nom_mot_ref)**(3/3.5)  # [kg] Motor mass (scaling law)\n",
        "\n",
        "# Selection with take-off speed\n",
        "K_mot = U_bat_est/Omega_pro_to/k_speed_mot # [N.m/A] or [V/(rad/s)] Kt motor\n",
        "R_mot = R_mot_ref * (K_mot/K_mot_ref)**2 * (T_nom_mot/T_nom_mot_ref)**(-5/3.5)  # [Ohm] motor resistance (scaling law)\n",
        "\n",
        "T_mot_fr = T_mot_fr_ref * (T_nom_mot/T_nom_mot_ref)**(3/3.5) # [N.m] Friction torque (scaling law)\n",
        "\n",
        "T_max_mot = T_max_mot_ref*(T_nom_mot/T_nom_mot_ref)\n",
        "\n",
        "# Hover current and voltage\n",
        "I_mot_hov = (T_nom_mot+T_mot_fr) * R_mot # [I] Current of the motor per propeller\n",
        "U_mot_hov = R_mot * I_mot_hov + K_mot * Omega_pro_hov # [V] Voltage of the motor per propeller\n",
        "P_el_mot_hov = I_mot_hov * U_mot_hov  # [W] Hover : electrical power\n",
        "# Takeoff current and voltage\n",
        "I_mot_to = (T_max_mot+T_mot_fr) * R_mot # [I] Current of the motor per propeller\n",
        "U_mot_to = R_mot * I_mot_to + K_mot * Omega_pro_to # [V] Voltage of the motor per propeller\n",
        "P_el_mot_to = I_mot_to * U_mot_to # [W] Takeoff : electrical power"
      ],
      "execution_count": 4,
      "outputs": []
    },
    {
      "cell_type": "code",
      "metadata": {
        "id": "FHCfFePr2cbA",
        "outputId": "cdbaa6e4-dfef-4d53-e7a5-9f7ffe95c538",
        "colab": {
          "base_uri": "https://localhost:8080/"
        }
      },
      "source": [
        "print(\"Motor nominal torque per propeller:\",T_nom_mot, \" N.s\")\r\n",
        "print(\"Motor mass: \", M_mot,\" kg\")\r\n",
        "print(\"Limitant voltage due to speed constant:\", K_mot,\" V.s/rad\")\r\n",
        "print(\"Motor resistance:\",R_mot, \" Ohm\")\r\n",
        "\r\n",
        "print(\"Friction torque:\", T_mot_fr,\" N.m\")\r\n",
        "print(\"Motor torque maximum:\",T_max_mot, \" N.m\")\r\n",
        "\r\n",
        "print(\"Current of the motor per propeller:\",I_mot_hov, \" A\")\r\n",
        "print(\"Voltage of the motor per propeller:\",U_mot_hov, \" V\")\r\n",
        "print(\"Hover's electrical power:\",P_el_mot_hov, \" W\")\r\n",
        "\r\n",
        "print(\"Current of the motor per propeller:\",I_mot_to, \" A\")\r\n",
        "print(\"Voltage of the motor per propeller:\",U_mot_to, \" V\")\r\n",
        "print(\"Takeoff's electrical power\",P_el_mot_to, \" W\")"
      ],
      "execution_count": 5,
      "outputs": [
        {
          "output_type": "stream",
          "text": [
            "Motor nominal torque per propeller: 5.0  N.s\n",
            "Motor mass:  1.1104770196737836  kg\n",
            "Limitant voltage due to speed constant: 0.007000000000000001  V.s/rad\n",
            "Motor resistance: 0.0005453457593618132  Ohm\n",
            "Friction torque: 0.05793793146124089  N.m\n",
            "Motor torque maximum: 6.071428571428571  N.m\n",
            "Current of the motor per propeller: 0.0027583250020376485  A\n",
            "Voltage of the motor per propeller: 0.0015415042408428031  V\n",
            "Hover's electrical power: 4.251969688263769e-06  W\n",
            "Current of the motor per propeller: 0.0033426240299253055  A\n",
            "Voltage of the motor per propeller: 2.8000018228858403  V\n",
            "Takeoff's electrical power 0.00935935337701287  W\n"
          ],
          "name": "stdout"
        }
      ]
    }
  ]
}