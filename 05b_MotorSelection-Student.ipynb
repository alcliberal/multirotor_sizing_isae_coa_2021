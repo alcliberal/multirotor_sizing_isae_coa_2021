{
  "nbformat": 4,
  "nbformat_minor": 0,
  "metadata": {
    "kernelspec": {
      "display_name": "Python 3",
      "language": "python",
      "name": "python3"
    },
    "language_info": {
      "codemirror_mode": {
        "name": "ipython",
        "version": 3
      },
      "file_extension": ".py",
      "mimetype": "text/x-python",
      "name": "python",
      "nbconvert_exporter": "python",
      "pygments_lexer": "ipython3",
      "version": "3.6.5"
    },
    "colab": {
      "name": "05b_MotorSelection-Student.ipynb",
      "provenance": [],
      "include_colab_link": true
    }
  },
  "cells": [
    {
      "cell_type": "markdown",
      "metadata": {
        "id": "view-in-github",
        "colab_type": "text"
      },
      "source": [
        "<a href=\"https://colab.research.google.com/github/alcliberal/multirotor_sizing_isae_coa_2021/blob/main/05b_MotorSelection-Student.ipynb\" target=\"_parent\"><img src=\"https://colab.research.google.com/assets/colab-badge.svg\" alt=\"Open In Colab\"/></a>"
      ]
    },
    {
      "cell_type": "markdown",
      "metadata": {
        "id": "CKzbptN1jDHT"
      },
      "source": [
        "<img src=\"https://github.com/alcliberal/multirotor_sizing_isae_coa_2021/blob/main/pictures/logo_sizinglab.png?raw=1\" style=\"float:right; max-width: 60px; display: inline\" alt=\"SizingLab\" /></a>"
      ]
    },
    {
      "cell_type": "markdown",
      "metadata": {
        "id": "3CtCfGlMjDHf"
      },
      "source": [
        "# Motor selection\n",
        "*Written by Marc Budinger (INSA Toulouse) and Scott Delbecq (ISAE-SUPAERO), Toulouse, France.*"
      ]
    },
    {
      "cell_type": "markdown",
      "metadata": {
        "id": "r28oFXUJjDHf"
      },
      "source": [
        "## Design graph \n",
        "\n",
        "The following diagram represents the design graph of the motor’s selection. The mean speed/thrust (Ωmoy & Tmoy), the max speed/thrust (Ωmax & Tmax) and the battery voltage are assumed to be known here.\n",
        "\n",
        "![DesignGraph](https://github.com/alcliberal/multirotor_sizing_isae_coa_2021/blob/main/pictures/MotorDesignGraph.png?raw=1)\n",
        "\n",
        "> **Questions:**\n",
        "* Give the 2 main sizing problems you are able to detect here.\n",
        "* Propose one or multiple solutions (which can request equation manipulation, addition of design variables, addition of constraints) \n",
        "* Orientate the arrows and write equations order, inputs/outputs at each step of this part of sizing procedure, additional constraints\n"
      ]
    },
    {
      "cell_type": "markdown",
      "metadata": {
        "id": "v9yh8L8WjDHh"
      },
      "source": [
        "### Sizing code and optimization\n",
        "\n",
        "> Exercice: propose a sizing code for the selection of a motor.\n"
      ]
    },
    {
      "cell_type": "code",
      "metadata": {
        "id": "_0h3jKpTjDHi"
      },
      "source": [
        "# Specifications\n",
        "\n",
        "# Reference parameters for scaling laws\n",
        "# Motor reference\n",
        "# Ref : AXI 5325/16 GOLD LINE\n",
        "T_nom_mot_ref = 2.32  # [N.m] rated torque\n",
        "T_max_mot_ref = 85./70.*T_nom_mot_ref # [N.m] max torque\n",
        "R_mot_ref = 0.03  # [Ohm] resistance\n",
        "M_mot_ref = 0.575 # [kg] mass\n",
        "K_mot_ref = 0.03 # [N.m/A] torque coefficient\n",
        "T_mot_fr_ref = 0.03 # [N.m] friction torque (zero load, nominal speed)\n",
        "\n",
        "# Assumption\n",
        "T_pro_to=0.5#[N.m] Propeller Torque during takeoff\n",
        "Omega_pro_to=400.0#[rad/s] Propeller speed during takeoff\n",
        "T_pro_hov=1.0#[N.m] Propeller Torque during hover\n",
        "Omega_pro_hov=0.22#[rad/s] Propeller speed during hover\n",
        "U_bat_est= 14.0#[V] Battery voltage value (estimation)\n"
      ],
      "execution_count": 2,
      "outputs": []
    },
    {
      "cell_type": "code",
      "metadata": {
        "id": "SWdy2ug7jDHk"
      },
      "source": [
        "#Design variables\n",
        "k_mot = 1#over sizing coefficient on the motor torque\n",
        "k_speed_mot = 1  # over sizing coefficient on the motor speed\n",
        "\n",
        "#Equations:\n",
        "#-----\n",
        "T_nom_mot = k_mot * T_pro_hov  # [N.m] Motor nominal torque per propeller\n",
        "M_mot = M_mot_ref * (T_nom_mot/T_nom_mot_ref)**(3/3.5)  # [kg] Motor mass (scaling law)\n",
        "# Selection with take-off speed\n",
        "K_mot = U_bat_est/Omega_pro_to/k_speed_mot # [N.m/A] or [V/(rad/s)] Kt motor\n",
        "R_mot = R_mot_ref * (K_mot/K_mot_ref)**2 * (T_nom_mot/T_nom_mot_ref)**(-5/3.5)  # [Ohm] motor resistance (scaling law)\n",
        "\n",
        "T_mot_fr = T_mot_fr_ref * (T_nom_mot/T_nom_mot_ref)**(3/3.5) # [N.m] Friction torque (scaling law)\n",
        "\n",
        "T_max_mot = T_max_mot_ref*(T_nom_mot/T_nom_mot_ref)\n",
        "\n",
        "# Hover current and voltage\n",
        "I_mot_hov = (T_nom_mot+T_mot_fr) * R_mot # [I] Current of the motor per propeller\n",
        "U_mot_hov = R_mot * I_mot_hov + K_mot * Omega_pro_hov # [V] Voltage of the motor per propeller\n",
        "P_el_mot_hov = I_mot_hov * U_mot_hov  # [W] Hover : electrical power\n",
        "# Takeoff current and voltage\n",
        "I_mot_to = (T_max_mot+T_mot_fr) * R_mot # [I] Current of the motor per propeller\n",
        "U_mot_to = R_mot * I_mot_to + K_mot * Omega_pro_to # [V] Voltage of the motor per propeller\n",
        "P_el_mot_to = I_mot_to * U_mot_to # [W] Takeoff : electrical power"
      ],
      "execution_count": 3,
      "outputs": []
    },
    {
      "cell_type": "code",
      "metadata": {
        "id": "FHCfFePr2cbA"
      },
      "source": [
        "k"
      ],
      "execution_count": null,
      "outputs": []
    }
  ]
}