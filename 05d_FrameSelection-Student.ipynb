{
  "nbformat": 4,
  "nbformat_minor": 0,
  "metadata": {
    "kernelspec": {
      "display_name": "Python 3",
      "language": "python",
      "name": "python3"
    },
    "language_info": {
      "codemirror_mode": {
        "name": "ipython",
        "version": 3
      },
      "file_extension": ".py",
      "mimetype": "text/x-python",
      "name": "python",
      "nbconvert_exporter": "python",
      "pygments_lexer": "ipython3",
      "version": "3.6.5"
    },
    "colab": {
      "name": "05d_FrameSelection-Student.ipynb",
      "provenance": []
    }
  },
  "cells": [
    {
      "cell_type": "markdown",
      "metadata": {
        "id": "j5TkQobAzMvY"
      },
      "source": [
        "<img src=\"https://github.com/alcliberal/multirotor_sizing_isae_coa_2021/blob/main/pictures/logo_sizinglab.png?raw=1\" style=\"float:right; max-width: 60px; display: inline\" alt=\"SizingLab\" /></a>"
      ]
    },
    {
      "cell_type": "markdown",
      "metadata": {
        "id": "b0F0AUMCzMvg"
      },
      "source": [
        "# Frame selection\n",
        "*Written by Marc Budinger (INSA Toulouse) and Scott Delbecq (ISAE-SUPAERO), Toulouse, France.*"
      ]
    },
    {
      "cell_type": "markdown",
      "metadata": {
        "id": "ASyHb9gJzMvh"
      },
      "source": [
        "## Design graph \n",
        "\n",
        "The following diagram represents the design graph of the frame selection. \n",
        "\n",
        "\n",
        "![DesignGraph](https://github.com/alcliberal/multirotor_sizing_isae_coa_2021/blob/main/pictures/FrameDesignGraph.png?raw=1)\n",
        "\n",
        "> **Questions:**\n",
        "* Give the main sizing problems you are able to detect.\n",
        "* Propose one or multiple solutions (which can request equation manipulation, addition of design variables, addition of constraints) \n",
        "* Orientate the arrows\n",
        "* Give equations order, inputs/outputs at each step of this part of sizing procedure\n",
        "\n"
      ]
    },
    {
      "cell_type": "markdown",
      "metadata": {
        "id": "HM2nK8_5zMvh"
      },
      "source": [
        "### Sizing code and optimization\n",
        "\n",
        "> Exercice: propose a sizing code for the selection of the frame.\n"
      ]
    },
    {
      "cell_type": "code",
      "metadata": {
        "id": "LTy5Uoy5zMvh"
      },
      "source": [
        "# Specifications\n",
        "N_arm=4.0#[-] Number of arms\n",
        "N_pro_arm=1.0#[-] Number of propellers per arm (1 or 2)\n",
        "\n",
        "# Reference parameters for scaling laws\n",
        "sigma_max = 280e6/4. # [Pa] Composite max stress (2 reduction for dynamic, 2 reduction for stress concentration)\n",
        "rho_s = 1700. # [kg/m3] Volumic mass of aluminum\n",
        "\n",
        "# Assumption\n",
        "D_pro=0.3#[m] Propeller diameter\n",
        "F_pro_to=1.0#[N] Thrust for one propeller during take off\n"
      ],
      "execution_count": null,
      "outputs": []
    },
    {
      "cell_type": "code",
      "metadata": {
        "id": "6-ege3pzQ2ud"
      },
      "source": [
        ""
      ],
      "execution_count": null,
      "outputs": []
    },
    {
      "cell_type": "code",
      "metadata": {
        "id": "Vvx9gmPOzMvi"
      },
      "source": [
        "from math import pi\n",
        "import math\n",
        "\n",
        "#Design variables\n",
        "k_D # aspect ratio d_int_arm/D_out_arm for the beam of the frame\n",
        "\n",
        "# -----------------------\n",
        "# equations\n",
        "# -----------------------\n",
        "# Length calculation   \n",
        "\n",
        "L = D_pro/(2*math.sin(pi/N_arm)) # [m] length of the arm\n",
        "\n",
        "# Tube diameter & thickness\n",
        "\n",
        "D = math.pow(F_pro_to*L/(math.pi/32*(1-k_D**4)*sigma_max) , 1/3) # [m] extern diameter of the arm (hollow cylinder)\n",
        "d = k_D*D # [m] intern diameter of the arm\n",
        "e = (D - d)/2 # [m] thickness of the arm\n",
        "\n",
        "# Mass\n",
        "m = N_arm* math.pi*(D**-d**)/4*L*rho_s\n"
      ],
      "execution_count": null,
      "outputs": []
    },
    {
      "cell_type": "code",
      "metadata": {
        "id": "-4jxk4O9zMvi"
      },
      "source": [
        ""
      ],
      "execution_count": null,
      "outputs": []
    }
  ]
}