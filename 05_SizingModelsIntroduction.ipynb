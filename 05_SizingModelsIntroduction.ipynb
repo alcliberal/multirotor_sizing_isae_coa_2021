{
  "nbformat": 4,
  "nbformat_minor": 0,
  "metadata": {
    "kernelspec": {
      "display_name": "Python 3",
      "language": "python",
      "name": "python3"
    },
    "language_info": {
      "codemirror_mode": {
        "name": "ipython",
        "version": 3
      },
      "file_extension": ".py",
      "mimetype": "text/x-python",
      "name": "python",
      "nbconvert_exporter": "python",
      "pygments_lexer": "ipython3",
      "version": "3.8.5"
    },
    "colab": {
      "name": "05_SizingModelsIntroduction.ipynb",
      "provenance": [],
      "include_colab_link": true
    },
    "widgets": {
      "application/vnd.jupyter.widget-state+json": {
        "fdab82f231894526bfc0f48fbc3e3e89": {
          "model_module": "@jupyter-widgets/controls",
          "model_name": "VBoxModel",
          "state": {
            "_view_name": "VBoxView",
            "_dom_classes": [
              "widget-interact"
            ],
            "_model_name": "VBoxModel",
            "_view_module": "@jupyter-widgets/controls",
            "_model_module_version": "1.5.0",
            "_view_count": null,
            "_view_module_version": "1.5.0",
            "box_style": "",
            "layout": "IPY_MODEL_00e51d9dd3a64d248fc4b04092b5172d",
            "_model_module": "@jupyter-widgets/controls",
            "children": [
              "IPY_MODEL_fa610002d1d1433e868237eaad30e7e1",
              "IPY_MODEL_a7d05fc619c74fc188d8d9f810c5473f"
            ]
          }
        },
        "00e51d9dd3a64d248fc4b04092b5172d": {
          "model_module": "@jupyter-widgets/base",
          "model_name": "LayoutModel",
          "state": {
            "_view_name": "LayoutView",
            "grid_template_rows": null,
            "right": null,
            "justify_content": null,
            "_view_module": "@jupyter-widgets/base",
            "overflow": null,
            "_model_module_version": "1.2.0",
            "_view_count": null,
            "flex_flow": null,
            "width": null,
            "min_width": null,
            "border": null,
            "align_items": null,
            "bottom": null,
            "_model_module": "@jupyter-widgets/base",
            "top": null,
            "grid_column": null,
            "overflow_y": null,
            "overflow_x": null,
            "grid_auto_flow": null,
            "grid_area": null,
            "grid_template_columns": null,
            "flex": null,
            "_model_name": "LayoutModel",
            "justify_items": null,
            "grid_row": null,
            "max_height": null,
            "align_content": null,
            "visibility": null,
            "align_self": null,
            "height": null,
            "min_height": null,
            "padding": null,
            "grid_auto_rows": null,
            "grid_gap": null,
            "max_width": null,
            "order": null,
            "_view_module_version": "1.2.0",
            "grid_template_areas": null,
            "object_position": null,
            "object_fit": null,
            "grid_auto_columns": null,
            "margin": null,
            "display": null,
            "left": null
          }
        },
        "fa610002d1d1433e868237eaad30e7e1": {
          "model_module": "@jupyter-widgets/controls",
          "model_name": "DropdownModel",
          "state": {
            "_options_labels": [
              "Constraints",
              "Objective",
              "Tank",
              "Variables"
            ],
            "_view_name": "DropdownView",
            "style": "IPY_MODEL_5b2090701a6140fa95f71377c167bdca",
            "_dom_classes": [],
            "description": "Type",
            "_model_name": "DropdownModel",
            "index": 0,
            "_view_module": "@jupyter-widgets/controls",
            "_model_module_version": "1.5.0",
            "_view_count": null,
            "disabled": false,
            "_view_module_version": "1.5.0",
            "description_tooltip": null,
            "_model_module": "@jupyter-widgets/controls",
            "layout": "IPY_MODEL_d770f4261c194ef094030b52c3c91c01"
          }
        },
        "a7d05fc619c74fc188d8d9f810c5473f": {
          "model_module": "@jupyter-widgets/output",
          "model_name": "OutputModel",
          "state": {
            "_view_name": "OutputView",
            "msg_id": "",
            "_dom_classes": [],
            "_model_name": "OutputModel",
            "outputs": [
              {
                "output_type": "display_data",
                "metadata": {
                  "tags": []
                },
                "text/html": "<div>\n<style scoped>\n    .dataframe tbody tr th:only-of-type {\n        vertical-align: middle;\n    }\n\n    .dataframe tbody tr th {\n        vertical-align: top;\n    }\n\n    .dataframe thead th {\n        text-align: right;\n    }\n</style>\n<table border=\"1\" class=\"dataframe\">\n  <thead>\n    <tr style=\"text-align: right;\">\n      <th></th>\n      <th>Type</th>\n      <th>Name</th>\n      <th>Value</th>\n      <th>Unit</th>\n      <th>Comment</th>\n    </tr>\n  </thead>\n  <tbody>\n    <tr>\n      <th>0</th>\n      <td>Constraints</td>\n      <td>Const 1</td>\n      <td>-0.00</td>\n      <td>[m^3]</td>\n      <td>Volume</td>\n    </tr>\n    <tr>\n      <th>0</th>\n      <td>Constraints</td>\n      <td>Const 2</td>\n      <td>0.03</td>\n      <td>[m]</td>\n      <td>Developped length</td>\n    </tr>\n    <tr>\n      <th>0</th>\n      <td>Constraints</td>\n      <td>Const 3</td>\n      <td>0.03</td>\n      <td>[m]</td>\n      <td>Developped length</td>\n    </tr>\n  </tbody>\n</table>\n</div>",
                "text/plain": "          Type     Name  Value   Unit            Comment\n0  Constraints  Const 1  -0.00  [m^3]             Volume\n0  Constraints  Const 2   0.03    [m]  Developped length\n0  Constraints  Const 3   0.03    [m]  Developped length"
              }
            ],
            "_view_module": "@jupyter-widgets/output",
            "_model_module_version": "1.0.0",
            "_view_count": null,
            "_view_module_version": "1.0.0",
            "layout": "IPY_MODEL_4c599ed1961441a88e48d63f412ce48c",
            "_model_module": "@jupyter-widgets/output"
          }
        },
        "5b2090701a6140fa95f71377c167bdca": {
          "model_module": "@jupyter-widgets/controls",
          "model_name": "DescriptionStyleModel",
          "state": {
            "_view_name": "StyleView",
            "_model_name": "DescriptionStyleModel",
            "description_width": "",
            "_view_module": "@jupyter-widgets/base",
            "_model_module_version": "1.5.0",
            "_view_count": null,
            "_view_module_version": "1.2.0",
            "_model_module": "@jupyter-widgets/controls"
          }
        },
        "d770f4261c194ef094030b52c3c91c01": {
          "model_module": "@jupyter-widgets/base",
          "model_name": "LayoutModel",
          "state": {
            "_view_name": "LayoutView",
            "grid_template_rows": null,
            "right": null,
            "justify_content": null,
            "_view_module": "@jupyter-widgets/base",
            "overflow": null,
            "_model_module_version": "1.2.0",
            "_view_count": null,
            "flex_flow": null,
            "width": null,
            "min_width": null,
            "border": null,
            "align_items": null,
            "bottom": null,
            "_model_module": "@jupyter-widgets/base",
            "top": null,
            "grid_column": null,
            "overflow_y": null,
            "overflow_x": null,
            "grid_auto_flow": null,
            "grid_area": null,
            "grid_template_columns": null,
            "flex": null,
            "_model_name": "LayoutModel",
            "justify_items": null,
            "grid_row": null,
            "max_height": null,
            "align_content": null,
            "visibility": null,
            "align_self": null,
            "height": null,
            "min_height": null,
            "padding": null,
            "grid_auto_rows": null,
            "grid_gap": null,
            "max_width": null,
            "order": null,
            "_view_module_version": "1.2.0",
            "grid_template_areas": null,
            "object_position": null,
            "object_fit": null,
            "grid_auto_columns": null,
            "margin": null,
            "display": null,
            "left": null
          }
        },
        "4c599ed1961441a88e48d63f412ce48c": {
          "model_module": "@jupyter-widgets/base",
          "model_name": "LayoutModel",
          "state": {
            "_view_name": "LayoutView",
            "grid_template_rows": null,
            "right": null,
            "justify_content": null,
            "_view_module": "@jupyter-widgets/base",
            "overflow": null,
            "_model_module_version": "1.2.0",
            "_view_count": null,
            "flex_flow": null,
            "width": null,
            "min_width": null,
            "border": null,
            "align_items": null,
            "bottom": null,
            "_model_module": "@jupyter-widgets/base",
            "top": null,
            "grid_column": null,
            "overflow_y": null,
            "overflow_x": null,
            "grid_auto_flow": null,
            "grid_area": null,
            "grid_template_columns": null,
            "flex": null,
            "_model_name": "LayoutModel",
            "justify_items": null,
            "grid_row": null,
            "max_height": null,
            "align_content": null,
            "visibility": null,
            "align_self": null,
            "height": null,
            "min_height": null,
            "padding": null,
            "grid_auto_rows": null,
            "grid_gap": null,
            "max_width": null,
            "order": null,
            "_view_module_version": "1.2.0",
            "grid_template_areas": null,
            "object_position": null,
            "object_fit": null,
            "grid_auto_columns": null,
            "margin": null,
            "display": null,
            "left": null
          }
        }
      }
    }
  },
  "cells": [
    {
      "cell_type": "markdown",
      "metadata": {
        "id": "view-in-github",
        "colab_type": "text"
      },
      "source": [
        "<a href=\"https://colab.research.google.com/github/alcliberal/multirotor_sizing_isae_coa_2021/blob/main/05_SizingModelsIntroduction.ipynb\" target=\"_parent\"><img src=\"https://colab.research.google.com/assets/colab-badge.svg\" alt=\"Open In Colab\"/></a>"
      ]
    },
    {
      "cell_type": "markdown",
      "metadata": {
        "id": "3sK0lKrOdsf2"
      },
      "source": [
        "<img src=\"https://github.com/alcliberal/multirotor_sizing_isae_coa_2021/blob/main/pictures/logo_sizinglab.png?raw=1\" style=\"float:right; max-width: 60px; display: inline\" alt=\"SizingLab\" /></a>"
      ]
    },
    {
      "cell_type": "markdown",
      "metadata": {
        "id": "PiwFGz76dsgB"
      },
      "source": [
        "# Sizing models for multi-rotor definition \n",
        "*Written by Marc Budinger (INSA Toulouse) and Scott Delbecq (ISAE-SUPAERO), Toulouse, France.*"
      ]
    },
    {
      "cell_type": "markdown",
      "metadata": {
        "id": "bENYuIhndsgC"
      },
      "source": [
        "## Global sizing procedure with XDSM representation\n",
        "\n",
        "The following diagram represents the XDSM graph of the global sizing process of the multi-rotor. \n",
        "\n",
        "![XDSM](https://github.com/alcliberal/multirotor_sizing_isae_coa_2021/blob/main/pictures/xdsm_multirotor_base.png?raw=1)\n",
        "\n",
        "> **Questions:**\n",
        "* Give the main sizing problems you are able to detect.\n",
        "* Propose one or multiple solutions (which can request equation manipulation, addition of design variables, addition of constraints) "
      ]
    },
    {
      "cell_type": "markdown",
      "metadata": {
        "id": "B9SELkmkdsgD"
      },
      "source": [
        "### Solution using the Normalized Variable Hybrid formulation\n",
        "\n",
        "The following diagram represents the XDSM graph of the global sizing process of the multi-rotor with the NVH formulation to achieve the MultiDisciplinary Analysis (MDA). \n",
        "\n",
        "![XDSM](https://github.com/alcliberal/multirotor_sizing_isae_coa_2021/blob/main/pictures/xdsm_multirotor_mda.png?raw=1)\n",
        "\n",
        "It consists in addition an oversizing coefficent $k_{os} \\quad [1-10]$ as a design variable and additional inequality constraint $M_{total_{load}} \\geq M_{tot}$. This way, we make sure that the drone is capable of lifting the load and itself. As we are minimizing the total mass $M_{tot}$ the oversizing coefficient $k_{os}$ will tend to be as small as possible and thus the inequality constraint will be equivalent to an equality constraint ($M_{total_{load}} = M_{tot}$). This is one way of solving an algebraic loop, other methods use numerical solvers or other optimizer-based formulations.\n",
        "\n",
        "The quadrotor sizing problem contains other solvability issues such as overconstrained singularities. Try to utilize the NVH formulation to solve them."
      ]
    },
    {
      "cell_type": "markdown",
      "metadata": {
        "id": "SP3gs8n0dsgD"
      },
      "source": [
        "## Collaborative work\n",
        "\n",
        "The goal now is to work in a collaborative manner to quickly implement the global sizing procedure.\n",
        "You will work in teams and in each team will work on a sub-part:\n",
        "* [Propeller selection](06a_PropellerSelection.ipynb)\n",
        "* [Motor selection](06b_MotorSelection.ipynb)\n",
        "* [Battery and ESC selection](06c_BatteryESCSelection.ipynb)\n",
        "* [Frame definition](06d_FrameSelection.ipynb)\n",
        "\n",
        "In each of the following notebooks you will complete the code of a sizing brick that will be defined by already selected inputs and outputs. Thank you for respecting them to ensure a successful final assembly of these bricks in the complete optimization problem."
      ]
    },
    {
      "cell_type": "markdown",
      "metadata": {
        "id": "n4oiqPNHdsgE"
      },
      "source": [
        "#### Main problems to be solved\n",
        "\n",
        "In general, the establishment of a sizing procedure involves the resolution of the following 3 problems:\n",
        "* a set of equations sub-constrained by the addition of a design variable in the optimization problem;\n",
        "* an over-constrained variable by adding a design variable (multiplier) and the transfer of the excess equation(s) in the constrained part of the optimization problem;\n",
        "* an algebraic loop by the use of a simplified equation weighted by a multiplying coefficient and a constraint representing the initial equation.\n"
      ]
    },
    {
      "cell_type": "markdown",
      "metadata": {
        "id": "6bVOKpjhdsgF"
      },
      "source": [
        "#### Caution for the optimizer\n",
        "\n",
        "Where possible:\n",
        "* the design variables must take the form of a normalized variable around 1 (oversize coef. for example) or easily bounded to facilitate the work of the optimizer.\n",
        "* the constraints must take the form of inequality and not of equality which often introduce numerical difficulties. The optimization of the objective (for example the total mass) will certainly force some (active) constraints to come to an end. "
      ]
    },
    {
      "cell_type": "markdown",
      "metadata": {
        "id": "Sxx9LhBMdsgG"
      },
      "source": [
        "### Example of generic sizing code\n",
        "\n",
        "Below, you will find an example of an optimization code to solve the following problem.  \n",
        "\n",
        ">For a tank of $x,y,z$ dimensions with $x\\in[0.1,1]$, $y\\in[0.1,1]$ and $z\\in[0.1,2.5]$ m:   \n",
        "Minimize the surface $xy+2z(x+y)$ \n",
        "and \n",
        "respect the constraints      \n",
        " - volume $xyz$ bigger than 200 l.  \n",
        " - developped dimensions $2z+x$ and $2z+y$ lower than 1.5m for machining feasability.  \n",
        "   \n",
        "First work is to define a `SizingCode` function which enables:\n",
        "- to calculate the objective to minimize\n",
        "- to calculate the constraints\n",
        "- to print the results\n"
      ]
    },
    {
      "cell_type": "code",
      "metadata": {
        "id": "y2Y07r7BdsgH"
      },
      "source": [
        "import pandas as pd\n",
        "\n",
        "import ipywidgets as widgets\n",
        "from ipywidgets import interactive\n",
        "\n",
        "pd.options.display.float_format = '{:,.2f}'.format\n",
        "\n",
        "\n",
        "# -----------------------\n",
        "# sizing code\n",
        "# -----------------------\n",
        "# inputs: \n",
        "# - param: optimisation variables vector (reduction ratio, oversizing coefficient)\n",
        "# - arg: selection of output  \n",
        "# output: \n",
        "# - objective if arg='Obj', problem characteristics if arg='Prt', constraints other else\n",
        "\n",
        "def SizingCode(param, arg):\n",
        "# Design variables in param\n",
        "# ---\n",
        "    x = param[0] # variable x\n",
        "    y = param[1] # variable y \n",
        "    z = param[2] # variable z\n",
        "    \n",
        "# Calculus \n",
        "# ---\n",
        "    volume = x*y*z\n",
        "    surface = x*y+2*(x+y)*z\n",
        "        \n",
        "# Objective and Constraints sum up\n",
        "# ---\n",
        "    objective = surface\n",
        "    \n",
        "    constraints = [volume\n",
        "                   -.2,\n",
        "                   1.5-(2*z+x),\n",
        "                   1.5-(2*z+y) ]\n",
        "    \n",
        "# Returns selection\n",
        "# -------------------\n",
        "    if arg == 'Obj':\n",
        "        return objective\n",
        "\n",
        "    elif arg=='Prt':\n",
        "    # the data to print a defined into a Pandas dataframe\n",
        "        col_names = ['Type', 'Name', 'Value', 'Unit', 'Comment']\n",
        "\n",
        "        df = pd.DataFrame()\n",
        "    \n",
        "      \n",
        "        df = df.append([{'Type': 'Objective', 'Name': 'Surface', 'Value': objective, 'Unit': '[m^2]', 'Comment': 'Mini surface'}])[col_names]\n",
        "        df = df.append([{'Type': 'Constraints', 'Name': 'Const 1', 'Value': constraints[0], 'Unit': '[m^3]', 'Comment': 'Volume'}])[col_names]\n",
        "        df = df.append([{'Type': 'Constraints', 'Name': 'Const 2', 'Value': constraints[1], 'Unit': '[m]', 'Comment': 'Developped length'}])[col_names]\n",
        "        df = df.append([{'Type': 'Constraints', 'Name': 'Const 3', 'Value': constraints[2], 'Unit': '[m]', 'Comment': 'Developped length'}])[col_names]\n",
        "        df = df.append([{'Type': 'Variables', 'Name': 'x', 'Value': x, 'Unit': '[m]', 'Comment': 'x'}])[col_names]\n",
        "        df = df.append([{'Type': 'Variables', 'Name': 'y', 'Value': y, 'Unit': '[m]', 'Comment': 'y'}])[col_names]\n",
        "        df = df.append([{'Type': 'Variables', 'Name': 'z', 'Value': z, 'Unit': '[m]', 'Comment': 'z'}])[col_names]\n",
        "        df = df.append([{'Type': 'Tank', 'Name': 'Volume', 'Value': volume, 'Unit': '[m^3]', 'Comment': 'Tank volume'}])[col_names]\n",
        "        df = df.append([{'Type': 'Tank', 'Name': 'Surface', 'Value': surface, 'Unit': '[m^2]', 'Comment': 'Tank surface'}])[col_names]\n",
        "        df = df.append([{'Type': 'Tank', 'Name': 'Developped length', 'Value': 2*z+x, 'Unit': '[m]', 'Comment': 'x length'}])[col_names]        \n",
        "        df = df.append([{'Type': 'Tank', 'Name': 'Developped length', 'Value': 2*z+y, 'Unit': '[m]', 'Comment': 'y length'}])[col_names]\n",
        "\n",
        "    # the dataframe is then organised to be printed with interactive widgets\n",
        "        items = sorted(df['Type'].unique().tolist())\n",
        "\n",
        "        def f(Type):\n",
        "            return df[df['Type']==Type] \n",
        "        widgets.interact(f, Type=items)\n",
        "        return f\n",
        "        \n",
        "    else:\n",
        "        return constraints"
      ],
      "execution_count": 1,
      "outputs": []
    },
    {
      "cell_type": "markdown",
      "metadata": {
        "id": "tQ90dRjYdsgK"
      },
      "source": [
        "We will now use the [optimization algorithms](https://docs.scipy.org/doc/scipy/reference/optimize.html) of the Scipy package to solve and optimize the configuration. We use here the SLSQP algorithm without explicit expression of the gradient (Jacobian). For global evaluation of the solution, you can use the differential evolution algorithm.\n"
      ]
    },
    {
      "cell_type": "code",
      "metadata": {
        "id": "fcePj-ROdsgL",
        "outputId": "67f36a43-fa46-4afb-95d2-e1d4ee13fcf3",
        "colab": {
          "base_uri": "https://localhost:8080/",
          "height": 380,
          "referenced_widgets": [
            "fdab82f231894526bfc0f48fbc3e3e89",
            "00e51d9dd3a64d248fc4b04092b5172d",
            "fa610002d1d1433e868237eaad30e7e1",
            "a7d05fc619c74fc188d8d9f810c5473f",
            "5b2090701a6140fa95f71377c167bdca",
            "d770f4261c194ef094030b52c3c91c01",
            "4c599ed1961441a88e48d63f412ce48c"
          ]
        }
      },
      "source": [
        "import scipy\n",
        "import scipy.optimize\n",
        "\n",
        "# Vector of initial parameters\n",
        "parameters = scipy.array((1,1,1))\n",
        "\n",
        "# Optimization with SLSQP algorithm: definition of requested functions\n",
        "contrainte = lambda x: SizingCode(x, 'Const')\n",
        "objectif = lambda x: SizingCode(x, 'Obj')\n",
        "objectifP = lambda x: SizingCode(x, 'ObjP')\n",
        "\n",
        "# Optimization bounds\n",
        "bounds = [(.1,1), (.1,1), (0.1,2.5)]\n",
        "\n",
        "# SLSQP omptimisation\n",
        "result = scipy.optimize.fmin_slsqp(func=objectif, x0=parameters, \n",
        "                                   bounds=bounds,\n",
        "                                   f_ieqcons=contrainte, iter=1500, acc=1e-12)\n",
        "\n",
        "\n",
        "# Final characteristics after optimization \n",
        "print(\"-----------------------------------------------\")\n",
        "print(\"Final characteristics after optimization :\")\n",
        "\n",
        "print(SizingCode(result, 'Obj'))\n",
        "SizingCode(result, 'Prt')\n"
      ],
      "execution_count": 2,
      "outputs": [
        {
          "output_type": "stream",
          "text": [
            "Optimization terminated successfully.    (Exit mode 0)\n",
            "            Current function value: 1.6286505699551932\n",
            "            Iterations: 13\n",
            "            Function evaluations: 58\n",
            "            Gradient evaluations: 11\n",
            "-----------------------------------------------\n",
            "Final characteristics after optimization :\n",
            "1.6286505699551932\n"
          ],
          "name": "stdout"
        },
        {
          "output_type": "stream",
          "text": [
            "/usr/local/lib/python3.6/dist-packages/ipykernel_launcher.py:5: DeprecationWarning: scipy.array is deprecated and will be removed in SciPy 2.0.0, use numpy.array instead\n",
            "  \"\"\"\n"
          ],
          "name": "stderr"
        },
        {
          "output_type": "display_data",
          "data": {
            "application/vnd.jupyter.widget-view+json": {
              "model_id": "fdab82f231894526bfc0f48fbc3e3e89",
              "version_minor": 0,
              "version_major": 2
            },
            "text/plain": [
              "interactive(children=(Dropdown(description='Type', options=('Constraints', 'Objective', 'Tank', 'Variables'), …"
            ]
          },
          "metadata": {
            "tags": []
          }
        },
        {
          "output_type": "execute_result",
          "data": {
            "text/plain": [
              "<function __main__.SizingCode.<locals>.f>"
            ]
          },
          "metadata": {
            "tags": []
          },
          "execution_count": 2
        }
      ]
    },
    {
      "cell_type": "code",
      "metadata": {
        "id": "v5D5aG3CdsgN"
      },
      "source": [
        ""
      ],
      "execution_count": 2,
      "outputs": []
    }
  ]
}