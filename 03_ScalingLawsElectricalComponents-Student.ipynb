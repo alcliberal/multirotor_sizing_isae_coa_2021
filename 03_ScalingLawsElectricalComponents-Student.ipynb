{
 "cells": [
  {
   "cell_type": "markdown",
   "metadata": {},
   "source": [
    "<img src=\"./pictures/logo_sizinglab.png\" style=\"float:right; max-width: 60px; display: inline\" alt=\"SizingLab\" /></a>"
   ]
  },
  {
   "cell_type": "markdown",
   "metadata": {},
   "source": [
    "# Scaling laws of electrical components\n",
    "\n",
    "*Written by Marc Budinger, INSA Toulouse, France*\n",
    "\n",
    "The estimation models calculate the component characteristics requested for their selection without requiring a detailed design. Scaling laws are particularly suitable for this purpose. This notebook illustrates the approach with electrical drone components characteristics.\n",
    "Validation of the obtained scaling laws is realized thanks catalog data.  \n",
    "\n",
    "The [following article](https://hal.archives-ouvertes.fr/hal-00712986/file/IMECHE_v1.2_full.pdf) gives more details for components of electromechanical actuators:  \n",
    ">*Budinger, M., Liscouët, J., Hospital, F., & Maré, J. C. (2012). Estimation models for the preliminary design of electromechanical actuators. Proceedings of the Institution of Mechanical Engineers, Part G: Journal of Aerospace Engineering, 226(3), 243-259.*  \n",
    "\n",
    "**Notation**: The x* scaling ratio of a given parameter is calculated as $x^*=\\frac{x}{x_{ref}}$ where $x_{ref}$ is the parameter taken as the reference and $x$ the parameter under study."
   ]
  },
  {
   "cell_type": "markdown",
   "metadata": {},
   "source": [
    "### Lipo battery\n",
    "\n",
    "A lithium-ion polymer battery (abbreviated as LiPo) is a assembly of elementary cells. The more the cells are provided, the bigger is the power and stored energy. The following figure gives an example of a Lipo battery with the following characteristics:\n",
    "* **Voltage / Cell Count (\"S\")**: A LiPo cell has a nominal voltage of 3.7V (3V min, 4.2V max) . For the 7.4V battery above, this means that there are two cells in series (which means the voltage gets added together). This is sometimes why you will hear people talk about a \"2S\" battery pack - it means that there are 2 cells in Series. \n",
    "* **Capacity (\"C\")**: The capacity of a battery is basically a measure of the energy the battery can hold. The unit of measure here is milliamp hours (mAh). This is saying how much drain can be put on the battery to discharge it in one hour. The stored energy is given by the the product of voltage and thus here: Capacity (in Amps)*3600*7.4= 0.133 MJ \n",
    "* **Discharge Rating (\"C\" Rating)**: The C Rating is simply a measure of how fast the battery can be discharged safely and without harming the battery. The maximum safe continuous amp draw is here: 50C = 50 x Capacity (in Amps) = 250 A.\n",
    "\n",
    "![LipoBattery](./pictures/LipoBattery.jpeg)\n",
    "\n",
    "> **Exercice:** Propose a scaling law which links battery characteristics, as mass or max discharge current, to capacity $C_{bat}$ and voltage $V_{bat}$. Estimate the mass and max discharge current for a 3300 mAh - 4S battery knowing the following reference component:   \n",
    "\n",
    "Characteristic | Value\n",
    "--|--\n",
    "Capacity | 5000mAh\n",
    "Continuous discharge rate | 50C\n",
    "Burst rate  | 100C\n",
    "Voltage | 7.4V\n",
    "Cells | 2S\n",
    "Size (LxWxH) | 155x48x16mm\n",
    "Weight | 273g \n"
   ]
  },
  {
   "cell_type": "markdown",
   "metadata": {},
   "source": [
    "**Answer**:   \n",
    "\n",
    "To be completed\n"
   ]
  },
  {
   "cell_type": "code",
   "execution_count": 4,
   "metadata": {},
   "outputs": [
    {
     "name": "stdout",
     "output_type": "stream",
     "text": [
      "Battery mass: 0.360 kg\n",
      "Max discharge current: 165 A\n"
     ]
    }
   ],
   "source": [
    "# Reference battery 5000mAh 2S 50C ?P\n",
    "C_bat_ref=5 # [Ah] Capacity\n",
    "I_bat_max_ref=50*C_bat_ref # [A] max discharge current\n",
    "V_bat_ref=7.4 # [V] nominal voltage\n",
    "M_bat_ref=.273 # [kg] mass\n",
    "\n",
    "# New battery 3300 mA.h 4S ?P\n",
    "V_bat = (V_bat_ref/2) * 4 # [V]\n",
    "C_bat = 3.3 # [Ah]\n",
    "I_bat_max = 50 * C_bat # The maximum safe continuous amp draw is here: 50C = 50 x Capacity (in Amps) = 250 A.\n",
    "\n",
    "M_bat = M_bat_ref * (V_bat/V_bat_ref) * (C_bat/C_bat_ref)\n",
    "# ...\n",
    "\n",
    "print(\"Battery mass: %.3f kg\"%M_bat)\n",
    "print(\"Max discharge current: %.0f A\"%I_bat_max)"
   ]
  },
  {
   "cell_type": "markdown",
   "metadata": {},
   "source": [
    "## Brushless motor\n",
    "\n",
    "Multi-rotor drones use out runner brushless motors which are permanent magnet synchronous motors. The [following article](https://hal.archives-ouvertes.fr/hal-00712986/file/IMECHE_v1.2_full.pdf) explains how set up the scaling laws for this technology of component. \n",
    "\n",
    "![Brushless motor](./pictures/BrushlessMotor.jpg)\n",
    "\n",
    "#### Scaling laws\n",
    "\n",
    "The following table summarize the scaling laws which can be used for the brushless motors.\n",
    "\n",
    "|                 | Scaling laws            | References |\n",
    "| --------------  | ------------------------| -----------|\n",
    "|                 |                               |  AXI 2217/20       |\n",
    "| Nominal torque  | $T_{nom}^*$                   | $0.151$ N.m |\n",
    "| Torque constant |$K^*$                          | $1.14.10^{-2}$ N.m/A |\n",
    "| Max torque      | $T_{max}^*=T_{nom}^*$         | $0.198$ N.m |\n",
    "| Friction torque | $T_{fr}^*=T_{nom}^{*3/3.5}$   | $6.25.10^{-3}$ N.m |\n",
    "| Mass            | $M^*=T_{nom}^{*3/3.5}$        | $69.5$ g |\n",
    "| Resistance      | $R^*=K^{*2}T_{nom}^{*-5/3.5}$ | $0.185$ ohm  |\n",
    "| Inertia         | $J^*=T_{nom}^{*-5/3.5}$       | $2.5.10^{-5}$ kg.m² |\n",
    "\n"
   ]
  },
  {
   "cell_type": "code",
   "execution_count": 5,
   "metadata": {},
   "outputs": [],
   "source": [
    "# Motor reference data: AXI 2217/20 GOLD LINE\n",
    "T_mot_ref=0.15 # [N.m] motor nominal torque\n",
    "M_mot_ref=69.5e-3 # [kg] motor mass\n",
    "R_mot_ref=0.185 # [Ohm] motor resistance\n",
    "K_mot_ref=1.14e-2 # [N.m/A] Torque or fem constant"
   ]
  },
  {
   "cell_type": "markdown",
   "metadata": {},
   "source": [
    ">**Question**: Explain how to find the mass scaling laws. Give the main assumptions and demonstrate the relationship."
   ]
  },
  {
   "cell_type": "markdown",
   "metadata": {},
   "source": [
    "**Answer:**\n",
    "Mass scaling law with lengths:\n",
    "\n",
    "$L^* = \\frac{L}{L_{ref}}$\n",
    "\n",
    "$M = \\rho Vol $\n",
    "\n",
    "$Vol^* = (L^*)^3$\n",
    "\n",
    "$M^* = Vol^* = (L^*)^3$\n",
    "\n",
    "Resistance scaling law with lengths:\n",
    "\n",
    "$R_{th} = \\frac{1}{hS}$, first assumption $h=1$.\n",
    "\n",
    "$R_{th}^* = (L^*)^{-2}$\n",
    "\n",
    "Temperature scaling law with lengths:\n",
    "\n",
    "$P_J = R_{motor}I^2$\n",
    "\n",
    "$P_J^* = (J^*)^2 (L^*)^3$ \n",
    "\n",
    "$\\theta = R_{th}P_J$\n",
    "\n",
    "$\\theta^* = R_{th}^* P_J^* = (L^*)^{-2} (J^*)^2 (L^*)^3 = L^* (J^*)^2$, second assumption $\\theta^* = 1$, because the temperature is same in the two models.\n",
    "\n",
    "Third assumption, $B^* = 1$, because the magnetic fields in the motors is the same the magnetic material is the same in two models.\n",
    "\n",
    "$T^*_{mot} = J^* B^* (L^*)^4 = (L^*)^{3,5}$\n",
    "\n",
    "So,\n",
    "\n",
    "$L^* =  (T^*_{mot})^{\\frac{1}{3,5}} = (M^*)^{\\frac{1}{3}}$\n",
    "\n",
    "$M^* = (T^*_{mot})^{\\frac{3}{3,5}}$\n",
    "\n",
    "\n"
   ]
  },
  {
   "cell_type": "markdown",
   "metadata": {},
   "source": [
    "## Validation with a data plot\n",
    "\n",
    "We will compare the scaling law with a plot on catalog data. \n",
    "\n",
    "#### Import data\n",
    "\n",
    "The first step is to import catalog data stored in a excel file. We use for that functions from [Panda](https://pandas.pydata.org/index.html) package (with here an [introduction to panda](https://jakevdp.github.io/PythonDataScienceHandbook/03.00-introduction-to-pandas.html)). "
   ]
  },
  {
   "cell_type": "code",
   "execution_count": 7,
   "metadata": {},
   "outputs": [
    {
     "data": {
      "text/html": [
       "<div>\n",
       "<style scoped>\n",
       "    .dataframe tbody tr th:only-of-type {\n",
       "        vertical-align: middle;\n",
       "    }\n",
       "\n",
       "    .dataframe tbody tr th {\n",
       "        vertical-align: top;\n",
       "    }\n",
       "\n",
       "    .dataframe thead th {\n",
       "        text-align: right;\n",
       "    }\n",
       "</style>\n",
       "<table border=\"1\" class=\"dataframe\">\n",
       "  <thead>\n",
       "    <tr style=\"text-align: right;\">\n",
       "      <th></th>\n",
       "      <th>Name</th>\n",
       "      <th>Kv (rpm/v)</th>\n",
       "      <th>Pole (number)</th>\n",
       "      <th>Io (A)</th>\n",
       "      <th>r (omn)</th>\n",
       "      <th>weight (g)</th>\n",
       "      <th>Imax (A)</th>\n",
       "      <th>No s</th>\n",
       "      <th>Voltage</th>\n",
       "      <th>Inom_max (A)</th>\n",
       "      <th>Eta_max (%)</th>\n",
       "      <th>Kt (N.m/A)</th>\n",
       "      <th>Tnom (N.m)</th>\n",
       "      <th>Unnamed: 13</th>\n",
       "    </tr>\n",
       "  </thead>\n",
       "  <tbody>\n",
       "    <tr>\n",
       "      <th>0</th>\n",
       "      <td>AXI 2203/40VPP GOLD LINE</td>\n",
       "      <td>2000.0</td>\n",
       "      <td>14.0</td>\n",
       "      <td>0.50</td>\n",
       "      <td>0.245</td>\n",
       "      <td>17.5</td>\n",
       "      <td>9.0</td>\n",
       "      <td>2.0</td>\n",
       "      <td>7.4</td>\n",
       "      <td>7.5</td>\n",
       "      <td>75.0</td>\n",
       "      <td>0.004775</td>\n",
       "      <td>0.033423</td>\n",
       "      <td>NaN</td>\n",
       "    </tr>\n",
       "    <tr>\n",
       "      <th>1</th>\n",
       "      <td>AXI 2203/46 GOLD LINE</td>\n",
       "      <td>1720.0</td>\n",
       "      <td>14.0</td>\n",
       "      <td>0.50</td>\n",
       "      <td>0.285</td>\n",
       "      <td>18.5</td>\n",
       "      <td>8.5</td>\n",
       "      <td>2.0</td>\n",
       "      <td>7.4</td>\n",
       "      <td>7.0</td>\n",
       "      <td>75.0</td>\n",
       "      <td>0.005552</td>\n",
       "      <td>0.036087</td>\n",
       "      <td>NaN</td>\n",
       "    </tr>\n",
       "    <tr>\n",
       "      <th>2</th>\n",
       "      <td>AXI 2203/52 GOLD LINE</td>\n",
       "      <td>1525.0</td>\n",
       "      <td>14.0</td>\n",
       "      <td>0.40</td>\n",
       "      <td>0.390</td>\n",
       "      <td>18.5</td>\n",
       "      <td>7.0</td>\n",
       "      <td>2.0</td>\n",
       "      <td>7.4</td>\n",
       "      <td>5.5</td>\n",
       "      <td>74.0</td>\n",
       "      <td>0.006262</td>\n",
       "      <td>0.031935</td>\n",
       "      <td>NaN</td>\n",
       "    </tr>\n",
       "    <tr>\n",
       "      <th>3</th>\n",
       "      <td>AXI 2203/RACE GOLD LINE</td>\n",
       "      <td>2300.0</td>\n",
       "      <td>14.0</td>\n",
       "      <td>0.55</td>\n",
       "      <td>0.220</td>\n",
       "      <td>18.5</td>\n",
       "      <td>9.0</td>\n",
       "      <td>3.0</td>\n",
       "      <td>11.1</td>\n",
       "      <td>7.5</td>\n",
       "      <td>74.0</td>\n",
       "      <td>0.004152</td>\n",
       "      <td>0.028855</td>\n",
       "      <td>NaN</td>\n",
       "    </tr>\n",
       "    <tr>\n",
       "      <th>4</th>\n",
       "      <td>AXI 2204/54 GOLD LINE</td>\n",
       "      <td>1400.0</td>\n",
       "      <td>14.0</td>\n",
       "      <td>0.35</td>\n",
       "      <td>0.320</td>\n",
       "      <td>25.9</td>\n",
       "      <td>7.5</td>\n",
       "      <td>3.0</td>\n",
       "      <td>11.1</td>\n",
       "      <td>6.0</td>\n",
       "      <td>77.0</td>\n",
       "      <td>0.006821</td>\n",
       "      <td>0.038538</td>\n",
       "      <td>NaN</td>\n",
       "    </tr>\n",
       "  </tbody>\n",
       "</table>\n",
       "</div>"
      ],
      "text/plain": [
       "                       Name  Kv (rpm/v)  Pole (number)  Io (A)  r (omn)  \\\n",
       "0  AXI 2203/40VPP GOLD LINE      2000.0           14.0    0.50    0.245   \n",
       "1     AXI 2203/46 GOLD LINE      1720.0           14.0    0.50    0.285   \n",
       "2     AXI 2203/52 GOLD LINE      1525.0           14.0    0.40    0.390   \n",
       "3   AXI 2203/RACE GOLD LINE      2300.0           14.0    0.55    0.220   \n",
       "4     AXI 2204/54 GOLD LINE      1400.0           14.0    0.35    0.320   \n",
       "\n",
       "   weight (g)  Imax (A)  No s  Voltage  Inom_max (A)  Eta_max (%)  Kt (N.m/A)  \\\n",
       "0        17.5       9.0   2.0      7.4           7.5         75.0    0.004775   \n",
       "1        18.5       8.5   2.0      7.4           7.0         75.0    0.005552   \n",
       "2        18.5       7.0   2.0      7.4           5.5         74.0    0.006262   \n",
       "3        18.5       9.0   3.0     11.1           7.5         74.0    0.004152   \n",
       "4        25.9       7.5   3.0     11.1           6.0         77.0    0.006821   \n",
       "\n",
       "   Tnom (N.m)  Unnamed: 13  \n",
       "0    0.033423          NaN  \n",
       "1    0.036087          NaN  \n",
       "2    0.031935          NaN  \n",
       "3    0.028855          NaN  \n",
       "4    0.038538          NaN  "
      ]
     },
     "execution_count": 7,
     "metadata": {},
     "output_type": "execute_result"
    }
   ],
   "source": [
    "# Panda package Importation\n",
    "import pandas as pd\n",
    "\n",
    "# Read the .csv file with bearing data\n",
    "path='./data/'\n",
    "df = pd.read_excel(path+'AXI_mot_db_student.xlsx')\n",
    "# Print the head (first lines of the file)\n",
    "df.head()"
   ]
  },
  {
   "cell_type": "markdown",
   "metadata": {},
   "source": [
    "##### Plot data: Mass\n",
    "\n",
    "We can now compare graphically the catalog data with scaling law:\n",
    "- blue points, catalog data\n",
    "- red line, scaling law\n",
    "- red point, the reference for scaling law.\n",
    "\n",
    "For the plot, we use the [matplotlib](https://matplotlib.org/) package."
   ]
  },
  {
   "cell_type": "code",
   "execution_count": 9,
   "metadata": {},
   "outputs": [
    {
     "data": {
      "image/png": "[encoded data removed]",
      "text/plain": [
       "<Figure size 432x288 with 1 Axes>"
      ]
     },
     "metadata": {
      "needs_background": "light"
     },
     "output_type": "display_data"
    }
   ],
   "source": [
    "import numpy as np\n",
    "import matplotlib.pyplot as plt\n",
    "\n",
    "T_mot=np.logspace(np.log10(0.01), np.log10(5), num=50)\n",
    "\n",
    "# Scaling law\n",
    "M_mot=M_mot_ref*(T_mot/T_mot_ref)**(3/3.5)\n",
    "\n",
    "# plot\n",
    "h, ax = plt.subplots(1,1,sharex=True)\n",
    "ax.plot(df['Tnom (N.m)'],df['weight (g)'],'.b')\n",
    "ax.plot(T_mot, M_mot*1000, '--r',df['Tnom (N.m)'],df['weight (g)'],'.b', T_mot_ref, M_mot_ref*1000, '.r')\n",
    "ax.set_ylabel('Motor Mass [g]')\n",
    "ax.set_xlabel('Nominal torque [N.m]')\n",
    "ax.grid()"
   ]
  },
  {
   "cell_type": "markdown",
   "metadata": {},
   "source": [
    "##### Plot data: Resistance\n",
    "\n",
    "We want now to compare graphically the catalog data with scaling law calculations for the resistance value:\n",
    "- blue points, catalog data\n",
    "- red point, the estimated data\n",
    "\n",
    ">**Exercice**: Implement the corresponding python code."
   ]
  },
  {
   "cell_type": "markdown",
   "metadata": {},
   "source": [
    "$R^*=K^{*2}T_{nom}^{*-5/3.5}$"
   ]
  },
  {
   "cell_type": "code",
   "execution_count": 30,
   "metadata": {},
   "outputs": [
    {
     "data": {
      "image/png": "[encoded data removed]",
      "text/plain": [
       "<Figure size 432x288 with 1 Axes>"
      ]
     },
     "metadata": {
      "needs_background": "light"
     },
     "output_type": "display_data"
    },
    {
     "data": {
      "image/png": "[encoded data removed]",
      "text/plain": [
       "<Figure size 432x288 with 1 Axes>"
      ]
     },
     "metadata": {
      "needs_background": "light"
     },
     "output_type": "display_data"
    }
   ],
   "source": [
    "# Resistance plot \n",
    "\n",
    "# Scaling law\n",
    "T_mot_data=df['Tnom (N.m)'].values\n",
    "K_mot_data=df['Kt (N.m/A)'].values\n",
    "R_mot_data=df['r (omn)'].values\n",
    "\n",
    "# Scaling law\n",
    "R_mot = R_mot_ref * (K_mot_data/K_mot_ref)**2 * (T_mot_data/T_mot_ref)**(-5/3.5)\n",
    "\n",
    "# plot x=T_mot y=R_mot\n",
    "h, ax = plt.subplots(1,1,sharex=True)\n",
    "ax.plot(T_mot_data, R_mot_data, '.b', T_mot_data,R_mot,'.r')\n",
    "ax.set_ylabel('Motor Resistance [ohm]')\n",
    "ax.set_xlabel('Nominal torque [N.m]')\n",
    "ax.grid()\n",
    "\n",
    "# plot x=T_mot y=R_mot/K_mot^2\n",
    "h, ax = plt.subplots(1,1,sharex=True)\n",
    "ax.loglog(T_mot_data, R_mot_data/K_mot_data**2, '.b', T_mot_data,R_mot/K_mot_data**2,'.r')\n",
    "ax.set_ylabel('Motor Resistance/Torque constant^2 [Ohm/((N.m)/A)^2]')\n",
    "ax.set_xlabel('Nominal torque [N.m]')\n",
    "ax.grid()"
   ]
  },
  {
   "cell_type": "markdown",
   "metadata": {},
   "source": [
    "#### Power electronic converter\n",
    "\n",
    "ESC (electronic speed controllers) motor controllers are mainly DC/AC converter (inverter) composed of power electronic switchs (Mosfet transistors). We will use here a simple linear regression in order to set up a model for mass estimation.\n",
    "\n",
    "![ESC](./pictures/ESC.jpeg)\n",
    "\n",
    "\n"
   ]
  },
  {
   "cell_type": "markdown",
   "metadata": {},
   "source": [
    "The first step is to import catalog data stored in a .csv file. We use for that functions from [Panda](https://pandas.pydata.org/index.html) package (with here an [introduction to panda](https://jakevdp.github.io/PythonDataScienceHandbook/03.00-introduction-to-pandas.html)).  \n",
    "The data base gives informations about mass, voltage & current (DC side) and power of the converter."
   ]
  },
  {
   "cell_type": "code",
   "execution_count": 31,
   "metadata": {},
   "outputs": [
    {
     "data": {
      "text/html": [
       "<div>\n",
       "<style scoped>\n",
       "    .dataframe tbody tr th:only-of-type {\n",
       "        vertical-align: middle;\n",
       "    }\n",
       "\n",
       "    .dataframe tbody tr th {\n",
       "        vertical-align: top;\n",
       "    }\n",
       "\n",
       "    .dataframe thead th {\n",
       "        text-align: right;\n",
       "    }\n",
       "</style>\n",
       "<table border=\"1\" class=\"dataframe\">\n",
       "  <thead>\n",
       "    <tr style=\"text-align: right;\">\n",
       "      <th></th>\n",
       "      <th>Model</th>\n",
       "      <th>Imax.in[A]</th>\n",
       "      <th>m[g]</th>\n",
       "      <th>Vmax.in[V]</th>\n",
       "      <th>Pmax.in[W]</th>\n",
       "    </tr>\n",
       "  </thead>\n",
       "  <tbody>\n",
       "    <tr>\n",
       "      <th>0</th>\n",
       "      <td>Jive 80+ LV</td>\n",
       "      <td>80</td>\n",
       "      <td>84.0</td>\n",
       "      <td>22.2</td>\n",
       "      <td>1776</td>\n",
       "    </tr>\n",
       "    <tr>\n",
       "      <th>1</th>\n",
       "      <td>Jive 100+ LV</td>\n",
       "      <td>100</td>\n",
       "      <td>92.0</td>\n",
       "      <td>22.2</td>\n",
       "      <td>2220</td>\n",
       "    </tr>\n",
       "    <tr>\n",
       "      <th>2</th>\n",
       "      <td>FAI Jive 150+ LV</td>\n",
       "      <td>150</td>\n",
       "      <td>140.0</td>\n",
       "      <td>18.5</td>\n",
       "      <td>2775</td>\n",
       "    </tr>\n",
       "    <tr>\n",
       "      <th>3</th>\n",
       "      <td>Jive 60+ HV</td>\n",
       "      <td>60</td>\n",
       "      <td>84.0</td>\n",
       "      <td>44.4</td>\n",
       "      <td>2664</td>\n",
       "    </tr>\n",
       "    <tr>\n",
       "      <th>4</th>\n",
       "      <td>Jive 80+ HV</td>\n",
       "      <td>80</td>\n",
       "      <td>84.0</td>\n",
       "      <td>44.4</td>\n",
       "      <td>3552</td>\n",
       "    </tr>\n",
       "  </tbody>\n",
       "</table>\n",
       "</div>"
      ],
      "text/plain": [
       "               Model  Imax.in[A]   m[g]  Vmax.in[V]  Pmax.in[W]\n",
       "0       Jive 80+ LV           80   84.0        22.2        1776\n",
       "1      Jive 100+ LV          100   92.0        22.2        2220\n",
       "2  FAI Jive 150+ LV          150  140.0        18.5        2775\n",
       "3       Jive 60+ HV           60   84.0        44.4        2664\n",
       "4       Jive 80+ HV           80   84.0        44.4        3552"
      ]
     },
     "execution_count": 31,
     "metadata": {},
     "output_type": "execute_result"
    }
   ],
   "source": [
    "# Panda package Importation\n",
    "import pandas as pd\n",
    "\n",
    "# Read the .csv file with bearing data\n",
    "path='./data/'\n",
    "df = pd.read_csv(path+'ESC_data.csv', sep=';')\n",
    "\n",
    "# Print the head (first lines of the file) of the following columns\n",
    "\n",
    "df.head()\n"
   ]
  },
  {
   "cell_type": "code",
   "execution_count": 34,
   "metadata": {},
   "outputs": [
    {
     "data": {
      "text/html": [
       "<div>\n",
       "<style scoped>\n",
       "    .dataframe tbody tr th:only-of-type {\n",
       "        vertical-align: middle;\n",
       "    }\n",
       "\n",
       "    .dataframe tbody tr th {\n",
       "        vertical-align: top;\n",
       "    }\n",
       "\n",
       "    .dataframe thead th {\n",
       "        text-align: right;\n",
       "    }\n",
       "</style>\n",
       "<table border=\"1\" class=\"dataframe\">\n",
       "  <thead>\n",
       "    <tr style=\"text-align: right;\">\n",
       "      <th></th>\n",
       "      <th>Model</th>\n",
       "      <th>Imax.in[A]</th>\n",
       "      <th>m[g]</th>\n",
       "      <th>Vmax.in[V]</th>\n",
       "      <th>Pmax.in[W]</th>\n",
       "    </tr>\n",
       "  </thead>\n",
       "  <tbody>\n",
       "    <tr>\n",
       "      <th>0</th>\n",
       "      <td>Jive 80+ LV</td>\n",
       "      <td>80</td>\n",
       "      <td>84.0</td>\n",
       "      <td>22.2</td>\n",
       "      <td>1776</td>\n",
       "    </tr>\n",
       "    <tr>\n",
       "      <th>1</th>\n",
       "      <td>Jive 100+ LV</td>\n",
       "      <td>100</td>\n",
       "      <td>92.0</td>\n",
       "      <td>22.2</td>\n",
       "      <td>2220</td>\n",
       "    </tr>\n",
       "    <tr>\n",
       "      <th>2</th>\n",
       "      <td>FAI Jive 150+ LV</td>\n",
       "      <td>150</td>\n",
       "      <td>140.0</td>\n",
       "      <td>18.5</td>\n",
       "      <td>2775</td>\n",
       "    </tr>\n",
       "    <tr>\n",
       "      <th>3</th>\n",
       "      <td>Jive 60+ HV</td>\n",
       "      <td>60</td>\n",
       "      <td>84.0</td>\n",
       "      <td>44.4</td>\n",
       "      <td>2664</td>\n",
       "    </tr>\n",
       "    <tr>\n",
       "      <th>4</th>\n",
       "      <td>Jive 80+ HV</td>\n",
       "      <td>80</td>\n",
       "      <td>84.0</td>\n",
       "      <td>44.4</td>\n",
       "      <td>3552</td>\n",
       "    </tr>\n",
       "    <tr>\n",
       "      <th>...</th>\n",
       "      <td>...</td>\n",
       "      <td>...</td>\n",
       "      <td>...</td>\n",
       "      <td>...</td>\n",
       "      <td>...</td>\n",
       "    </tr>\n",
       "    <tr>\n",
       "      <th>69</th>\n",
       "      <td>Turnigy Plush 60</td>\n",
       "      <td>60</td>\n",
       "      <td>75.0</td>\n",
       "      <td>22.2</td>\n",
       "      <td>1332</td>\n",
       "    </tr>\n",
       "    <tr>\n",
       "      <th>70</th>\n",
       "      <td>Turnigy Plush 30</td>\n",
       "      <td>30</td>\n",
       "      <td>55.0</td>\n",
       "      <td>14.8</td>\n",
       "      <td>444</td>\n",
       "    </tr>\n",
       "    <tr>\n",
       "      <th>71</th>\n",
       "      <td>Turnigy Trust 70</td>\n",
       "      <td>70</td>\n",
       "      <td>79.0</td>\n",
       "      <td>22.2</td>\n",
       "      <td>1554</td>\n",
       "    </tr>\n",
       "    <tr>\n",
       "      <th>72</th>\n",
       "      <td>Turnigy Trust 55</td>\n",
       "      <td>55</td>\n",
       "      <td>79.0</td>\n",
       "      <td>22.2</td>\n",
       "      <td>1221</td>\n",
       "    </tr>\n",
       "    <tr>\n",
       "      <th>73</th>\n",
       "      <td>Turnigy Trust 45</td>\n",
       "      <td>45</td>\n",
       "      <td>69.0</td>\n",
       "      <td>22.2</td>\n",
       "      <td>999</td>\n",
       "    </tr>\n",
       "  </tbody>\n",
       "</table>\n",
       "<p>74 rows × 5 columns</p>\n",
       "</div>"
      ],
      "text/plain": [
       "                Model  Imax.in[A]   m[g]  Vmax.in[V]  Pmax.in[W]\n",
       "0        Jive 80+ LV           80   84.0        22.2        1776\n",
       "1       Jive 100+ LV          100   92.0        22.2        2220\n",
       "2   FAI Jive 150+ LV          150  140.0        18.5        2775\n",
       "3        Jive 60+ HV           60   84.0        44.4        2664\n",
       "4        Jive 80+ HV           80   84.0        44.4        3552\n",
       "..                ...         ...    ...         ...         ...\n",
       "69  Turnigy Plush 60           60   75.0        22.2        1332\n",
       "70  Turnigy Plush 30           30   55.0        14.8         444\n",
       "71  Turnigy Trust 70           70   79.0        22.2        1554\n",
       "72  Turnigy Trust 55           55   79.0        22.2        1221\n",
       "73  Turnigy Trust 45           45   69.0        22.2         999\n",
       "\n",
       "[74 rows x 5 columns]"
      ]
     },
     "execution_count": 34,
     "metadata": {},
     "output_type": "execute_result"
    }
   ],
   "source": [
    "df"
   ]
  },
  {
   "cell_type": "markdown",
   "metadata": {},
   "source": [
    "Here we recover the information of power, mass and voltage and we render them on a scatter plot."
   ]
  },
  {
   "cell_type": "code",
   "execution_count": 32,
   "metadata": {},
   "outputs": [
    {
     "data": {
      "image/png": "[encoded data removed]",
      "text/plain": [
       "<Figure size 432x288 with 2 Axes>"
      ]
     },
     "metadata": {
      "needs_background": "light"
     },
     "output_type": "display_data"
    }
   ],
   "source": [
    "# Get values from panda data \n",
    "x=df['Pmax.in[W]'].values\n",
    "y=df['m[g]'].values\n",
    "v=df['Vmax.in[V]'].values\n",
    "\n",
    "# plot the data : scatter plot\n",
    "plt.scatter(x, y, c=v, cmap='viridis')\n",
    "cbar=plt.colorbar();  # show color scale\n",
    "plt.xlabel('ESC Power [W]')\n",
    "plt.ylabel('ESC Mass [g]')\n",
    "cbar.set_label('Voltage [V]')\n",
    "plt.title('Mass vs Power for ESC (Voltage in color)')\n",
    "plt.grid()\n",
    "plt.show()"
   ]
  },
  {
   "cell_type": "markdown",
   "metadata": {},
   "source": [
    "The voltage increases with the power in order to maintain reasonable current values. "
   ]
  },
  {
   "cell_type": "code",
   "execution_count": 33,
   "metadata": {},
   "outputs": [
    {
     "data": {
      "image/png": "[encoded data removed]",
      "text/plain": [
       "<Figure size 432x288 with 1 Axes>"
      ]
     },
     "metadata": {
      "needs_background": "light"
     },
     "output_type": "display_data"
    }
   ],
   "source": [
    "# plot the data : Voltage vs Power\n",
    "plt.plot(x,v, 'o')\n",
    "plt.xlabel('ESC Power [W]')\n",
    "plt.ylabel('ESC Voltage [V]')\n",
    "plt.grid()\n",
    "plt.show()"
   ]
  },
  {
   "cell_type": "markdown",
   "metadata": {},
   "source": [
    "The use of a Ordinary Least Square linear regression (with the [StatsModels](https://www.statsmodels.org/stable/index.html) package) enables to generate simple mass and voltage estimation models. "
   ]
  },
  {
   "cell_type": "code",
   "execution_count": 35,
   "metadata": {},
   "outputs": [
    {
     "name": "stdout",
     "output_type": "stream",
     "text": [
      "Parameters:  [0.02876598]\n",
      "R2:  0.8870547413373204\n"
     ]
    },
    {
     "data": {
      "image/png": "[encoded data removed]",
      "text/plain": [
       "<Figure size 432x288 with 1 Axes>"
      ]
     },
     "metadata": {
      "needs_background": "light"
     },
     "output_type": "display_data"
    },
    {
     "name": "stdout",
     "output_type": "stream",
     "text": [
      "Mass / Power coefficient : 2.88e-02 [g/W] or 2.88e-05 [kg/W] \n"
     ]
    }
   ],
   "source": [
    "# Determination of the least squares estimator with the OLS function \n",
    "# of the SatsModels package\n",
    "\n",
    "import statsmodels.api as sm\n",
    "\n",
    "# Matrix X and Y\n",
    "\n",
    "#X=np.transpose(np.array((np.ones(np.size(x)), x)))\n",
    "X=np.transpose(np.array(x))\n",
    "Y=y.reshape((np.size(x),1))\n",
    "\n",
    "model = sm.OLS(Y, X)\n",
    "results = model.fit()\n",
    "\n",
    "print('Parameters: ', results.params)\n",
    "print('R2: ', results.rsquared)\n",
    "\n",
    "# Y vector prediction\n",
    "y_OLS=results.predict(X)\n",
    "\n",
    "# plot the data \n",
    "plt.plot(x,y, 'o',x,y_OLS, '-g')\n",
    "plt.xlabel('ESC Power [W]')\n",
    "plt.ylabel('ESC Mass [g]')\n",
    "plt.title('Comparison of original data (circles) and OLS regression (green)')\n",
    "plt.grid()\n",
    "plt.show()\n",
    "\n",
    "print(\"Mass / Power coefficient : %.2e [g/W] or %.2e [kg/W] \"%(results.params[0],results.params[0]/1000))"
   ]
  },
  {
   "cell_type": "markdown",
   "metadata": {},
   "source": [
    "> **Exercice**: Explain how the following code gives a power law which can represent the evolution of voltage with power. Complete the code with a print of the final relationship. "
   ]
  },
  {
   "cell_type": "code",
   "execution_count": 49,
   "metadata": {},
   "outputs": [
    {
     "name": "stdout",
     "output_type": "stream",
     "text": [
      "Parameters:  [0.26597404 0.36024037]\n",
      "R2:  0.8870547413373204\n"
     ]
    },
    {
     "data": {
      "image/png": "[encoded data removed]",
      "text/plain": [
       "<Figure size 432x288 with 1 Axes>"
      ]
     },
     "metadata": {
      "needs_background": "light"
     },
     "output_type": "display_data"
    },
    {
     "name": "stdout",
     "output_type": "stream",
     "text": [
      "Voltage (Power): log(ESC_V) = 2.66e-01 + 3.60e-01 * log(ESC_P)\n",
      "Voltage (Power): ESC_V = 1.84e+00 ESP_P ^(3.60e-01)\n",
      "where Voltage ESC_V [V] and Power ESC_P [W]\n"
     ]
    }
   ],
   "source": [
    "# Matrix X and Y\n",
    "\n",
    "#X=np.transpose(np.array((np.ones(np.size(x)), x)))\n",
    "one_vect=np.ones(np.size(x)).reshape(np.size(x),1)\n",
    "X_vect=np.log10(x).reshape(np.size(x),1)\n",
    "\n",
    "XV=np.concatenate((one_vect, X_vect), axis=1)\n",
    "YV=np.log10(v).reshape((np.size(x),1))\n",
    "\n",
    "modelV = sm.OLS(YV, XV)\n",
    "resultsV = modelV.fit()\n",
    "\n",
    "print('Parameters: ', resultsV.params)\n",
    "print('R2: ', results.rsquared)\n",
    "\n",
    "# Y vector prediction\n",
    "yV_OLS=10**(resultsV.predict(XV))\n",
    "\n",
    "# plot the data \n",
    "plt.plot(x,v, 'o',x,yV_OLS, 'og')\n",
    "plt.xlabel('ESC Power [W]')\n",
    "plt.ylabel('ESC Voltage [V]')\n",
    "plt.title('Comparison of original data (blue circles) and OLS regression (green circles)')\n",
    "plt.grid()\n",
    "plt.show()\n",
    "\n",
    "# Final part to be completed\n",
    "print(\"Voltage (Power): log(ESC_V) = %.2e + %.2e * log(ESC_P)\"%(resultsV.params[0], resultsV.params[1]))\n",
    "print(\"Voltage (Power): ESC_V = %.2e ESP_P ^(%.2e)\"%(10**resultsV.params[0], resultsV.params[1]))\n",
    "print(\"where Voltage ESC_V [V] and Power ESC_P [W]\")"
   ]
  },
  {
   "cell_type": "markdown",
   "metadata": {},
   "source": [
    "**Remark aubout the mass evolution of ESC**:   \n",
    "The *conduction losses* occurring in a MOS switch are given by the following expression:  \n",
    "$P_{loss,MOS}=R_{ds,on}.I^2$  \n",
    "In case of a MOS, the resistance $R_{ds,on}$ which defines the conduction losses decreases inversely proportionally to the current calibration. We have thus with the scaling law notation:  \n",
    "$P_{loss,MOS}^*=I^*$  \n",
    "Which gives if the voltage is approximated by $V^*\\approx P*^{1/3}$:  \n",
    "$P_{loss,MOS}^* \\approx P^{*2/3}$  \n",
    "with $P$ the converter power.\n",
    "\n",
    "The *heat exchange* of the converter shall ensure a constant temperature for the entire power range of a given line of converters. It is assumed that the dissipation is fixed here by forced convection (due to propeller air flow) which can be expressed finally with converter dimension $d^*$ by:   \n",
    "$P_{conv}^* = h^* S^* \\Delta \\theta^*= d^{*2} $  \n",
    "and as $P_{conv}^*=P_{loss,MOS}^*$, we have $d^*=P^{*1/3}$ and thus a mass evolution express by the following linear trend can be deduced:  \n",
    "$M^*=d^{*3}=P^*$  \n",
    "\n"
   ]
  }
 ],
 "metadata": {
  "kernelspec": {
   "display_name": "Python 3",
   "language": "python",
   "name": "python3"
  },
  "language_info": {
   "codemirror_mode": {
    "name": "ipython",
    "version": 3
   },
   "file_extension": ".py",
   "mimetype": "text/x-python",
   "name": "python",
   "nbconvert_exporter": "python",
   "pygments_lexer": "ipython3",
   "version": "3.8.5"
  }
 },
 "nbformat": 4,
 "nbformat_minor": 4
}
