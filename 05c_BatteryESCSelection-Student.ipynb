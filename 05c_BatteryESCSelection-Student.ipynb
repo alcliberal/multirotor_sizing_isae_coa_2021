{
  "nbformat": 4,
  "nbformat_minor": 0,
  "metadata": {
    "kernelspec": {
      "display_name": "Python 3",
      "language": "python",
      "name": "python3"
    },
    "language_info": {
      "codemirror_mode": {
        "name": "ipython",
        "version": 3
      },
      "file_extension": ".py",
      "mimetype": "text/x-python",
      "name": "python",
      "nbconvert_exporter": "python",
      "pygments_lexer": "ipython3",
      "version": "3.6.5"
    },
    "colab": {
      "name": "05c_BatteryESCSelection-Student_Melissa_Good.ipynb",
      "provenance": [],
      "include_colab_link": true
    }
  },
  "cells": [
    {
      "cell_type": "markdown",
      "metadata": {
        "id": "view-in-github",
        "colab_type": "text"
      },
      "source": [
        "<a href=\"https://colab.research.google.com/github/alcliberal/multirotor_sizing_isae_coa_2021/blob/main/05c_BatteryESCSelection-Student.ipynb\" target=\"_parent\"><img src=\"https://colab.research.google.com/assets/colab-badge.svg\" alt=\"Open In Colab\"/></a>"
      ]
    },
    {
      "cell_type": "markdown",
      "metadata": {
        "id": "voJtWJJq_YSR"
      },
      "source": [
        "<img src=\"https://github.com/alcliberal/multirotor_sizing_isae_coa_2021/blob/main/pictures/logo_sizinglab.png?raw=1\" style=\"float:right; max-width: 60px; display: inline\" alt=\"SizingLab\" /></a>"
      ]
    },
    {
      "cell_type": "markdown",
      "metadata": {
        "id": "esKV3OK2_YSZ"
      },
      "source": [
        "# Battery and ESC selection\n",
        "*Written by Marc Budinger (INSA Toulouse) and Scott Delbecq (ISAE-SUPAERO), Toulouse, France.*"
      ]
    },
    {
      "cell_type": "markdown",
      "metadata": {
        "id": "xo_rdSvX_YSZ"
      },
      "source": [
        "## Design graph \n",
        "\n",
        "The following diagram represents the design graph of the battery and ESC selection.\n",
        "\n",
        "\n",
        "![DesignGraph](https://github.com/alcliberal/multirotor_sizing_isae_coa_2021/blob/main/pictures/ESCBatteryDesignGraph.png?raw=1)\n",
        "\n",
        "> **Questions:**\n",
        "* Recall the main equations to take into account during ESC and battery selection\n",
        "* Orientate the arrows\n",
        "* Give equations order, inputs/outputs at each step of this part of sizing procedure\n",
        "\n",
        "*   Main equations to take into account during ESC and battery selection :\n",
        "    - V_esc =  1.84e+00*P_esc**(3.60e-01)\n",
        "    - M_esc =  M_esc_ref * P_esc / P_esc_ref\n",
        "    - E_bat = E_bat_ref * M_bat / M_bat_ref * 0.8 \n",
        "    - C_bat = E_bat/U_bat\n",
        "    - I_bat =  P_el_mot_hov * N_pro / (0.95 * U_bat) \n",
        "    - t_hov = C_bat /(I_bat*60)\n",
        "\n",
        "\n",
        "\n"
      ]
    },
    {
      "cell_type": "markdown",
      "metadata": {
        "id": "lA3UJCKK_YSa"
      },
      "source": [
        "### Sizing code and optimization\n",
        "\n",
        "> Exercice: propose a sizing code for the selection of a battery and ESC.\n"
      ]
    },
    {
      "cell_type": "code",
      "metadata": {
        "id": "VmVBZAGB_YSa"
      },
      "source": [
        "# Specifications\n",
        "N_pro=4.0#[-] Number of propellers\n",
        "M_pay=1.0#[kg] Payload mass\n",
        "t_hov = 3 #[h]\n",
        "\n",
        "# Reference parameters for scaling laws\n",
        "# Ref : MK-quadro\n",
        "M_bat_ref = .329 # [kg] mass\n",
        "E_bat_ref = 220.*3600.*.329 # [J]\n",
        "\n",
        "# Ref : Turnigy K_Force 70HV \n",
        "P_esc_ref = 3108. # [W] Power\n",
        "M_esc_ref = .115 # [kg] Mass\n",
        "\n",
        "# Assumption\n",
        "U_bat_est=14.0#[V] Battery voltage estimation\n",
        "P_el_mot_hov=10.0#[W] Electrical power consumption for one motor during hover\n",
        "P_el_mot_to=30.0#[W] Electrical power consumption for one motor during takeoff\n",
        "U_mot_to=12.0#[V] Motor voltage during takeoff\n",
        "\n"
      ],
      "execution_count": null,
      "outputs": []
    },
    {
      "cell_type": "code",
      "metadata": {
        "id": "h-TZntfkApAj"
      },
      "source": [
        "# BATTERY AND ESC\n",
        "# ---   \n",
        "# Battery selection & scaling laws sized from hover\n",
        "    \n",
        "    \n",
        "    N_s_bat = ceil(U_bat_est/3.7)  # [-] Cell number, round (up value).  from math import *\n",
        "    U_bat = N_s_bat *3.7 # [V] Battery voltage\n",
        "\n",
        "    M_bat = k_mb * M_pay # [kg] Battery mass\n",
        "\n",
        "\n",
        "# Hover --> autonomy\n",
        "    E_bat = E_bat_ref * M_bat / M_bat_ref * 0.8  # [J] Energy  of the battery (.8 coefficient because 80% use only of the total capacity)\n",
        "    C_bat = E_bat/U_bat  # [A.s] Capacity  of the battery \n",
        "    I_bat =  P_el_mot_hov * N_pro / (0.95 * U_bat)  # [A] Current of the battery   #notebook 2\n",
        "    t_hov = C_bat /(I_bat*60)  # [min] Hover time \n",
        "\n",
        "\n",
        " #ESC    \n",
        "  \n",
        "    P_esc = P_el_mot_to* (U_bat/U_mot_to) # [W] power electronic power (corner power or apparent power)\n",
        "    M_esc =  M_esc_ref * P_esc / P_esc_ref  # [kg] Mass ESC\n",
        "    V_esc =  1.84e+00*P_esc**(3.60e-01) # [V] ESC voltage  "
      ],
      "execution_count": null,
      "outputs": []
    }
  ]
}