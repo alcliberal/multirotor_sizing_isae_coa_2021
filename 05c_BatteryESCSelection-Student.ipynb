{
  "nbformat": 4,
  "nbformat_minor": 0,
  "metadata": {
    "kernelspec": {
      "display_name": "Python 3",
      "language": "python",
      "name": "python3"
    },
    "language_info": {
      "codemirror_mode": {
        "name": "ipython",
        "version": 3
      },
      "file_extension": ".py",
      "mimetype": "text/x-python",
      "name": "python",
      "nbconvert_exporter": "python",
      "pygments_lexer": "ipython3",
      "version": "3.6.5"
    },
    "colab": {
      "name": "05c_BatteryESCSelection-Student.ipynb",
      "provenance": []
    },
    "widgets": {
      "application/vnd.jupyter.widget-state+json": {
        "ff4d12af93da4e51bced7cfae220b08c": {
          "model_module": "@jupyter-widgets/controls",
          "model_name": "VBoxModel",
          "state": {
            "_view_name": "VBoxView",
            "_dom_classes": [
              "widget-interact"
            ],
            "_model_name": "VBoxModel",
            "_view_module": "@jupyter-widgets/controls",
            "_model_module_version": "1.5.0",
            "_view_count": null,
            "_view_module_version": "1.5.0",
            "box_style": "",
            "layout": "IPY_MODEL_94dbf0f3781a4999af91fcf7661d800c",
            "_model_module": "@jupyter-widgets/controls",
            "children": [
              "IPY_MODEL_17e8cca7e3c9472a8ec76b8de69aaa3e",
              "IPY_MODEL_f7a21b29d47c4a48b995a948236a4edb"
            ]
          }
        },
        "94dbf0f3781a4999af91fcf7661d800c": {
          "model_module": "@jupyter-widgets/base",
          "model_name": "LayoutModel",
          "state": {
            "_view_name": "LayoutView",
            "grid_template_rows": null,
            "right": null,
            "justify_content": null,
            "_view_module": "@jupyter-widgets/base",
            "overflow": null,
            "_model_module_version": "1.2.0",
            "_view_count": null,
            "flex_flow": null,
            "width": null,
            "min_width": null,
            "border": null,
            "align_items": null,
            "bottom": null,
            "_model_module": "@jupyter-widgets/base",
            "top": null,
            "grid_column": null,
            "overflow_y": null,
            "overflow_x": null,
            "grid_auto_flow": null,
            "grid_area": null,
            "grid_template_columns": null,
            "flex": null,
            "_model_name": "LayoutModel",
            "justify_items": null,
            "grid_row": null,
            "max_height": null,
            "align_content": null,
            "visibility": null,
            "align_self": null,
            "height": null,
            "min_height": null,
            "padding": null,
            "grid_auto_rows": null,
            "grid_gap": null,
            "max_width": null,
            "order": null,
            "_view_module_version": "1.2.0",
            "grid_template_areas": null,
            "object_position": null,
            "object_fit": null,
            "grid_auto_columns": null,
            "margin": null,
            "display": null,
            "left": null
          }
        },
        "17e8cca7e3c9472a8ec76b8de69aaa3e": {
          "model_module": "@jupyter-widgets/controls",
          "model_name": "DropdownModel",
          "state": {
            "_options_labels": [
              "Constraints",
              "ESC",
              "Objective",
              "Variables"
            ],
            "_view_name": "DropdownView",
            "style": "IPY_MODEL_a749cc5cb9d34542a92dc74e9bed46a8",
            "_dom_classes": [],
            "description": "Type",
            "_model_name": "DropdownModel",
            "index": 0,
            "_view_module": "@jupyter-widgets/controls",
            "_model_module_version": "1.5.0",
            "_view_count": null,
            "disabled": false,
            "_view_module_version": "1.5.0",
            "description_tooltip": null,
            "_model_module": "@jupyter-widgets/controls",
            "layout": "IPY_MODEL_98bbf15519344d0485ac629206dc3153"
          }
        },
        "f7a21b29d47c4a48b995a948236a4edb": {
          "model_module": "@jupyter-widgets/output",
          "model_name": "OutputModel",
          "state": {
            "_view_name": "OutputView",
            "msg_id": "",
            "_dom_classes": [],
            "_model_name": "OutputModel",
            "outputs": [
              {
                "output_type": "display_data",
                "metadata": {
                  "tags": []
                },
                "text/html": "<div>\n<style scoped>\n    .dataframe tbody tr th:only-of-type {\n        vertical-align: middle;\n    }\n\n    .dataframe tbody tr th {\n        vertical-align: top;\n    }\n\n    .dataframe thead th {\n        text-align: right;\n    }\n</style>\n<table border=\"1\" class=\"dataframe\">\n  <thead>\n    <tr style=\"text-align: right;\">\n      <th></th>\n      <th>Type</th>\n      <th>Name</th>\n      <th>Value</th>\n      <th>Unit</th>\n      <th>Comment</th>\n    </tr>\n  </thead>\n  <tbody>\n    <tr>\n      <th>0</th>\n      <td>Constraints</td>\n      <td>P_esc &gt; P_max</td>\n      <td>1,524.00</td>\n      <td>[W]</td>\n      <td>Power Constraint</td>\n    </tr>\n  </tbody>\n</table>\n</div>",
                "text/plain": "          Type           Name    Value Unit           Comment\n0  Constraints  P_esc > P_max 1,524.00  [W]  Power Constraint"
              }
            ],
            "_view_module": "@jupyter-widgets/output",
            "_model_module_version": "1.0.0",
            "_view_count": null,
            "_view_module_version": "1.0.0",
            "layout": "IPY_MODEL_5144e444315840bfb399a4d96e5d1811",
            "_model_module": "@jupyter-widgets/output"
          }
        },
        "a749cc5cb9d34542a92dc74e9bed46a8": {
          "model_module": "@jupyter-widgets/controls",
          "model_name": "DescriptionStyleModel",
          "state": {
            "_view_name": "StyleView",
            "_model_name": "DescriptionStyleModel",
            "description_width": "",
            "_view_module": "@jupyter-widgets/base",
            "_model_module_version": "1.5.0",
            "_view_count": null,
            "_view_module_version": "1.2.0",
            "_model_module": "@jupyter-widgets/controls"
          }
        },
        "98bbf15519344d0485ac629206dc3153": {
          "model_module": "@jupyter-widgets/base",
          "model_name": "LayoutModel",
          "state": {
            "_view_name": "LayoutView",
            "grid_template_rows": null,
            "right": null,
            "justify_content": null,
            "_view_module": "@jupyter-widgets/base",
            "overflow": null,
            "_model_module_version": "1.2.0",
            "_view_count": null,
            "flex_flow": null,
            "width": null,
            "min_width": null,
            "border": null,
            "align_items": null,
            "bottom": null,
            "_model_module": "@jupyter-widgets/base",
            "top": null,
            "grid_column": null,
            "overflow_y": null,
            "overflow_x": null,
            "grid_auto_flow": null,
            "grid_area": null,
            "grid_template_columns": null,
            "flex": null,
            "_model_name": "LayoutModel",
            "justify_items": null,
            "grid_row": null,
            "max_height": null,
            "align_content": null,
            "visibility": null,
            "align_self": null,
            "height": null,
            "min_height": null,
            "padding": null,
            "grid_auto_rows": null,
            "grid_gap": null,
            "max_width": null,
            "order": null,
            "_view_module_version": "1.2.0",
            "grid_template_areas": null,
            "object_position": null,
            "object_fit": null,
            "grid_auto_columns": null,
            "margin": null,
            "display": null,
            "left": null
          }
        },
        "5144e444315840bfb399a4d96e5d1811": {
          "model_module": "@jupyter-widgets/base",
          "model_name": "LayoutModel",
          "state": {
            "_view_name": "LayoutView",
            "grid_template_rows": null,
            "right": null,
            "justify_content": null,
            "_view_module": "@jupyter-widgets/base",
            "overflow": null,
            "_model_module_version": "1.2.0",
            "_view_count": null,
            "flex_flow": null,
            "width": null,
            "min_width": null,
            "border": null,
            "align_items": null,
            "bottom": null,
            "_model_module": "@jupyter-widgets/base",
            "top": null,
            "grid_column": null,
            "overflow_y": null,
            "overflow_x": null,
            "grid_auto_flow": null,
            "grid_area": null,
            "grid_template_columns": null,
            "flex": null,
            "_model_name": "LayoutModel",
            "justify_items": null,
            "grid_row": null,
            "max_height": null,
            "align_content": null,
            "visibility": null,
            "align_self": null,
            "height": null,
            "min_height": null,
            "padding": null,
            "grid_auto_rows": null,
            "grid_gap": null,
            "max_width": null,
            "order": null,
            "_view_module_version": "1.2.0",
            "grid_template_areas": null,
            "object_position": null,
            "object_fit": null,
            "grid_auto_columns": null,
            "margin": null,
            "display": null,
            "left": null
          }
        }
      }
    }
  },
  "cells": [
    {
      "cell_type": "markdown",
      "metadata": {
        "id": "LiIRrPcwnHnx"
      },
      "source": [
        "<img src=\"https://github.com/alcliberal/multirotor_sizing_isae_coa_2021/blob/main/pictures/logo_sizinglab.png?raw=1\" style=\"float:right; max-width: 60px; display: inline\" alt=\"SizingLab\" /></a>"
      ]
    },
    {
      "cell_type": "markdown",
      "metadata": {
        "id": "dsnZvLdQnHn-"
      },
      "source": [
        "# Battery and ESC selection\n",
        "*Written by Marc Budinger (INSA Toulouse) and Scott Delbecq (ISAE-SUPAERO), Toulouse, France.*"
      ]
    },
    {
      "cell_type": "markdown",
      "metadata": {
        "id": "jokUYXzwnHoA"
      },
      "source": [
        "## Design graph \n",
        "\n",
        "The following diagram represents the design graph of the battery and ESC selection.\n",
        "\n",
        "\n",
        "![DesignGraph](https://github.com/alcliberal/multirotor_sizing_isae_coa_2021/blob/main/pictures/ESCBatteryDesignGraph.png?raw=1)\n",
        "\n",
        "> **Questions:**\n",
        "* Recall the main equations to take into account during ESC and battery selection\n",
        "* Orientate the arrows\n",
        "* Give equations order, inputs/outputs at each step of this part of sizing procedure\n",
        "\n"
      ]
    },
    {
      "cell_type": "markdown",
      "metadata": {
        "id": "v4eGluwOnHoH"
      },
      "source": [
        "### Sizing code and optimization\n",
        "\n",
        "> Exercice: propose a sizing code for the selection of a battery and ESC.\n"
      ]
    },
    {
      "cell_type": "code",
      "metadata": {
        "id": "JkK3-QKlnHoK"
      },
      "source": [
        "# Specifications\n",
        "N_pro=4.0#[-] Number of propellers\n",
        "M_pay=1.0#[kg] Payload mass\n",
        "\n",
        "# Reference parameters for scaling laws\n",
        "# Ref : MK-quadro\n",
        "M_bat_ref = .329 # [kg] mass\n",
        "E_bat_ref = 220.*3600.*.329 # [J]\n",
        "\n",
        "# Ref : Turnigy K_Force 70HV \n",
        "P_esc_ref = 3108. # [W] Power\n",
        "M_esc_ref = .115 # [kg] Mass\n",
        "\n",
        "# Assumption\n",
        "U_bat_est=14.0#[V] Battery voltage estimation\n",
        "P_el_mot_hov=10.0#[W] Electrical power consumption for one motor during hover\n",
        "P_el_mot_to=30.0#[W] Electrical power consumption for one motor during takeoff\n",
        "U_mot_to=12.0#[V] Motor voltage during takeoff"
      ],
      "execution_count": 1,
      "outputs": []
    },
    {
      "cell_type": "code",
      "metadata": {
        "id": "ZMqqfwFQoN26"
      },
      "source": [
        "import pandas as pd\r\n",
        "\r\n",
        "import ipywidgets as widgets\r\n",
        "from ipywidgets import interactive\r\n",
        "\r\n",
        "pd.options.display.float_format = '{:,.2f}'.format"
      ],
      "execution_count": 2,
      "outputs": []
    },
    {
      "cell_type": "code",
      "metadata": {
        "id": "x2uLGq_FnHoN"
      },
      "source": [
        "#Design variables\n",
        "# kesc from 1 to 10\n",
        "# -----------------------\n",
        "# equations\n",
        "\n",
        "\n",
        "\n",
        "\n",
        "# -----------------------\n",
        "# sizing code\n",
        "# -----------------------\n",
        "# inputs: \n",
        "# - param: optimisation variables vector (reduction ratio, oversizing coefficient)\n",
        "# - arg: selection of output  \n",
        "# output: \n",
        "# - objective if arg='Obj', problem characteristics if arg='Prt', constraints other else\n",
        "\n",
        "def SizingCode(param, arg):\n",
        "# Design variables in param\n",
        "# ---\n",
        "    kesc = param[0] # variable x\n",
        "     \n",
        "# Calculus \n",
        "# ---\n",
        "    P_esc = kesc * P_esc_ref\n",
        "    M_esc = 2.88e-02 * P_esc\n",
        "        \n",
        "# Objective and Constraints sum up\n",
        "# ---\n",
        "    objective = M_esc\n",
        "    \n",
        "    constraints = [P_esc - P_el_mot_to,\n",
        "                  ]\n",
        "    \n",
        "# Returns selection\n",
        "# -------------------\n",
        "    if arg == 'Obj':\n",
        "        return objective\n",
        "\n",
        "    elif arg=='Prt':\n",
        "    # the data to print a defined into a Pandas dataframe\n",
        "        col_names = ['Type', 'Name', 'Value', 'Unit', 'Comment']\n",
        "\n",
        "        df = pd.DataFrame()\n",
        "    \n",
        "      \n",
        "        df = df.append([{'Type': 'Objective', 'Name': 'M_esc', 'Value': objective, 'Unit': '[g]', 'Comment': 'Mini mass ESC'}])[col_names]\n",
        "        df = df.append([{'Type': 'Constraints', 'Name': 'P_esc > P_max', 'Value': constraints[0], 'Unit': '[W]', 'Comment': 'Power Constraint'}])[col_names]\n",
        "        df = df.append([{'Type': 'Variables', 'Name': 'kesc', 'Value': kesc, 'Unit': '[-]', 'Comment': 'kesc'}])[col_names]\n",
        "        df = df.append([{'Type': 'ESC', 'Name': 'P_esc', 'Value': P_esc, 'Unit': '[W]', 'Comment': 'P_esc'}])[col_names]\n",
        "\n",
        "    # the dataframe is then organised to be printed with interactive widgets\n",
        "        items = sorted(df['Type'].unique().tolist())\n",
        "\n",
        "        def f(Type):\n",
        "            return df[df['Type']==Type] \n",
        "        widgets.interact(f, Type=items)\n",
        "        return f\n",
        "        \n",
        "    else:\n",
        "        return constraints"
      ],
      "execution_count": 3,
      "outputs": []
    },
    {
      "cell_type": "code",
      "metadata": {
        "id": "IuXmZm-_oZ1c",
        "outputId": "b12ee623-36b9-4657-bc3f-bcf7ca73c7ac",
        "colab": {
          "base_uri": "https://localhost:8080/",
          "height": 317,
          "referenced_widgets": [
            "ff4d12af93da4e51bced7cfae220b08c",
            "94dbf0f3781a4999af91fcf7661d800c",
            "17e8cca7e3c9472a8ec76b8de69aaa3e",
            "f7a21b29d47c4a48b995a948236a4edb",
            "a749cc5cb9d34542a92dc74e9bed46a8",
            "98bbf15519344d0485ac629206dc3153",
            "5144e444315840bfb399a4d96e5d1811"
          ]
        }
      },
      "source": [
        "import scipy\r\n",
        "import scipy.optimize\r\n",
        "\r\n",
        "# Vector of initial parameters\r\n",
        "parameters = scipy.array((1))\r\n",
        "\r\n",
        "# Optimization with SLSQP algorithm: definition of requested functions\r\n",
        "contrainte = lambda kesc: SizingCode(kesc, 'Const')\r\n",
        "objectif = lambda kesc: SizingCode(kesc, 'Obj')\r\n",
        "objectifP = lambda kesc: SizingCode(kesc, 'ObjP')\r\n",
        "\r\n",
        "# Optimization bounds\r\n",
        "bounds = [(0.5,5)]\r\n",
        "\r\n",
        "# SLSQP omptimisation\r\n",
        "result = scipy.optimize.fmin_slsqp(func=objectif, x0=parameters, \r\n",
        "                                   bounds=bounds,\r\n",
        "                                   f_ieqcons=contrainte, iter=1500, acc=1e-12)\r\n",
        "\r\n",
        "\r\n",
        "# Final characteristics after optimization \r\n",
        "print(\"-----------------------------------------------\")\r\n",
        "print(\"Final characteristics after optimization :\")\r\n",
        "\r\n",
        "print(SizingCode(result, 'Obj'))\r\n",
        "SizingCode(result, 'Prt')"
      ],
      "execution_count": 4,
      "outputs": [
        {
          "output_type": "stream",
          "text": [
            "Optimization terminated successfully.    (Exit mode 0)\n",
            "            Current function value: 44.75520001382431\n",
            "            Iterations: 6\n",
            "            Function evaluations: 6\n",
            "            Gradient evaluations: 2\n",
            "-----------------------------------------------\n",
            "Final characteristics after optimization :\n",
            "44.75520001382431\n"
          ],
          "name": "stdout"
        },
        {
          "output_type": "stream",
          "text": [
            "/usr/local/lib/python3.6/dist-packages/ipykernel_launcher.py:5: DeprecationWarning: scipy.array is deprecated and will be removed in SciPy 2.0.0, use numpy.array instead\n",
            "  \"\"\"\n"
          ],
          "name": "stderr"
        },
        {
          "output_type": "display_data",
          "data": {
            "application/vnd.jupyter.widget-view+json": {
              "model_id": "ff4d12af93da4e51bced7cfae220b08c",
              "version_minor": 0,
              "version_major": 2
            },
            "text/plain": [
              "interactive(children=(Dropdown(description='Type', options=('Constraints', 'ESC', 'Objective', 'Variables'), v…"
            ]
          },
          "metadata": {
            "tags": []
          }
        },
        {
          "output_type": "execute_result",
          "data": {
            "text/plain": [
              "<function __main__.SizingCode.<locals>.f>"
            ]
          },
          "metadata": {
            "tags": []
          },
          "execution_count": 4
        }
      ]
    },
    {
      "cell_type": "code",
      "metadata": {
        "id": "VnfK9NBPoU_N"
      },
      "source": [
        "# -----------------------\r\n",
        "# equations\r\n",
        "# -----------------------\r\n",
        "\r\n",
        "# Hover --> autonomy\r\n",
        "# -----------------------\r\n",
        "# sizing code\r\n",
        "# -----------------------\r\n",
        "# inputs: \r\n",
        "# - param: optimisation variables vector (reduction ratio, oversizing coefficient)\r\n",
        "# - arg: selection of output  \r\n",
        "# output: \r\n",
        "# - objective if arg='Obj', problem characteristics if arg='Prt', constraints other else\r\n",
        "\r\n",
        "def SizingCode(param, arg):\r\n",
        "# Design variables in param\r\n",
        "# ---\r\n",
        "    kmot = param[0] # variable x\r\n",
        "    \r\n",
        "# Calculus \r\n",
        "# ---\r\n",
        "    V_bat = U_bat_est * kmot\r\n",
        "    C = P_el_mot_hov * t_hov\r\n",
        "    M_bat = C /220\r\n",
        "    E_bat = 220.*3600.*M_bat\r\n",
        "        \r\n",
        "# Objective and Constraints sum up\r\n",
        "# ---\r\n",
        "    objective = M_bat\r\n",
        "    \r\n",
        "    constraints = [V_bat - U_mot_to]\r\n",
        "    \r\n",
        "# Returns selection\r\n",
        "# -------------------\r\n",
        "    if arg == 'Obj':\r\n",
        "        return objective\r\n",
        "\r\n",
        "    elif arg=='Prt':\r\n",
        "    # the data to print a defined into a Pandas dataframe\r\n",
        "        col_names = ['Type', 'Name', 'Value', 'Unit', 'Comment']\r\n",
        "\r\n",
        "        df = pd.DataFrame()\r\n",
        "    \r\n",
        "      \r\n",
        "        df = df.append([{'Type': 'Objective', 'Name': 'M_bat', 'Value': objective, 'Unit': '[Kg]', 'Comment': 'Mini mass battery'}])[col_names]\r\n",
        "        df = df.append([{'Type': 'Constraints', 'Name': 'Power', 'Value': constraints[0], 'Unit': '[W]', 'Comment': 'Power constraint'}])[col_names]\r\n",
        "        df = df.append([{'Type': 'Variables', 'Name': 'kmot', 'Value': kmot, 'Unit': '[]', 'Comment': 'kmot'}])[col_names]\r\n",
        "        df = df.append([{'Type': 'Battery', 'Name': 'Capacity', 'Value': C, 'Unit': '[Wh]', 'Comment': 'Battery capacity'}])[col_names]\r\n",
        "        df = df.append([{'Type': 'Battery', 'Name': ' Voltage', 'Value': V_bat, 'Unit': '[V]', 'Comment': 'Battery voltage'}])[col_names]\r\n",
        "        df = df.append([{'Type': 'Battery', 'Name': ' Energy', 'Value': E_bat, 'Unit': '[J]', 'Comment': 'Battery energy'}])[col_names]\r\n",
        "\r\n",
        "    # the dataframe is then organised to be printed with interactive widgets\r\n",
        "        items = sorted(df['Type'].unique().tolist())\r\n",
        "\r\n",
        "        def f(Type):\r\n",
        "            return df[df['Type']==Type] \r\n",
        "        widgets.interact(f, Type=items)\r\n",
        "        return f\r\n",
        "        \r\n",
        "    else:\r\n",
        "        return constraints\r\n",
        "\r\n"
      ],
      "execution_count": 5,
      "outputs": []
    },
    {
      "cell_type": "code",
      "metadata": {
        "id": "a77rvM2fonGT",
        "outputId": "cd307df0-edb9-4c01-8032-43d11047fb55",
        "colab": {
          "base_uri": "https://localhost:8080/",
          "height": 981
        }
      },
      "source": [
        "import scipy\r\n",
        "import scipy.optimize\r\n",
        "\r\n",
        "# Vector of initial parameters\r\n",
        "parameters = scipy.array((1))\r\n",
        "\r\n",
        "# Optimization with SLSQP algorithm: definition of requested functions\r\n",
        "contrainte = lambda kmot: SizingCode(kmot, 'Const')\r\n",
        "objectif = lambda kmot: SizingCode(kmot, 'Obj')\r\n",
        "objectifP = lambda kmot: SizingCode(kmot, 'ObjP')\r\n",
        "\r\n",
        "# Optimization bounds\r\n",
        "bounds = [(1,10)]\r\n",
        "\r\n",
        "# SLSQP omptimisation\r\n",
        "result = scipy.optimize.fmin_slsqp(func=objectif, x0=parameters, \r\n",
        "                                   bounds=bounds,\r\n",
        "                                   f_ieqcons=contrainte, iter=1500, acc=1e-12)\r\n",
        "\r\n",
        "\r\n",
        "# Final characteristics after optimization \r\n",
        "print(\"-----------------------------------------------\")\r\n",
        "print(\"Final characteristics after optimization :\")\r\n",
        "\r\n",
        "print(SizingCode(result, 'Obj'))\r\n",
        "SizingCode(result, 'Prt')"
      ],
      "execution_count": 6,
      "outputs": [
        {
          "output_type": "stream",
          "text": [
            "/usr/local/lib/python3.6/dist-packages/ipykernel_launcher.py:5: DeprecationWarning: scipy.array is deprecated and will be removed in SciPy 2.0.0, use numpy.array instead\n",
            "  \"\"\"\n"
          ],
          "name": "stderr"
        },
        {
          "output_type": "error",
          "ename": "NameError",
          "evalue": "ignored",
          "traceback": [
            "\u001b[0;31m---------------------------------------------------------------------------\u001b[0m",
            "\u001b[0;31mNameError\u001b[0m                                 Traceback (most recent call last)",
            "\u001b[0;32m<ipython-input-6-f3e91b5408a3>\u001b[0m in \u001b[0;36m<module>\u001b[0;34m()\u001b[0m\n\u001b[1;32m     16\u001b[0m result = scipy.optimize.fmin_slsqp(func=objectif, x0=parameters, \n\u001b[1;32m     17\u001b[0m                                    \u001b[0mbounds\u001b[0m\u001b[0;34m=\u001b[0m\u001b[0mbounds\u001b[0m\u001b[0;34m,\u001b[0m\u001b[0;34m\u001b[0m\u001b[0;34m\u001b[0m\u001b[0m\n\u001b[0;32m---> 18\u001b[0;31m                                    f_ieqcons=contrainte, iter=1500, acc=1e-12)\n\u001b[0m\u001b[1;32m     19\u001b[0m \u001b[0;34m\u001b[0m\u001b[0m\n\u001b[1;32m     20\u001b[0m \u001b[0;34m\u001b[0m\u001b[0m\n",
            "\u001b[0;32m/usr/local/lib/python3.6/dist-packages/scipy/optimize/slsqp.py\u001b[0m in \u001b[0;36mfmin_slsqp\u001b[0;34m(func, x0, eqcons, f_eqcons, ieqcons, f_ieqcons, bounds, fprime, fprime_eqcons, fprime_ieqcons, args, iter, acc, iprint, disp, full_output, epsilon, callback)\u001b[0m\n\u001b[1;32m    206\u001b[0m \u001b[0;34m\u001b[0m\u001b[0m\n\u001b[1;32m    207\u001b[0m     res = _minimize_slsqp(func, x0, args, jac=fprime, bounds=bounds,\n\u001b[0;32m--> 208\u001b[0;31m                           constraints=cons, **opts)\n\u001b[0m\u001b[1;32m    209\u001b[0m     \u001b[0;32mif\u001b[0m \u001b[0mfull_output\u001b[0m\u001b[0;34m:\u001b[0m\u001b[0;34m\u001b[0m\u001b[0;34m\u001b[0m\u001b[0m\n\u001b[1;32m    210\u001b[0m         \u001b[0;32mreturn\u001b[0m \u001b[0mres\u001b[0m\u001b[0;34m[\u001b[0m\u001b[0;34m'x'\u001b[0m\u001b[0;34m]\u001b[0m\u001b[0;34m,\u001b[0m \u001b[0mres\u001b[0m\u001b[0;34m[\u001b[0m\u001b[0;34m'fun'\u001b[0m\u001b[0;34m]\u001b[0m\u001b[0;34m,\u001b[0m \u001b[0mres\u001b[0m\u001b[0;34m[\u001b[0m\u001b[0;34m'nit'\u001b[0m\u001b[0;34m]\u001b[0m\u001b[0;34m,\u001b[0m \u001b[0mres\u001b[0m\u001b[0;34m[\u001b[0m\u001b[0;34m'status'\u001b[0m\u001b[0;34m]\u001b[0m\u001b[0;34m,\u001b[0m \u001b[0mres\u001b[0m\u001b[0;34m[\u001b[0m\u001b[0;34m'message'\u001b[0m\u001b[0;34m]\u001b[0m\u001b[0;34m\u001b[0m\u001b[0;34m\u001b[0m\u001b[0m\n",
            "\u001b[0;32m/usr/local/lib/python3.6/dist-packages/scipy/optimize/slsqp.py\u001b[0m in \u001b[0;36m_minimize_slsqp\u001b[0;34m(func, x0, args, jac, bounds, constraints, maxiter, ftol, iprint, disp, eps, callback, **unknown_options)\u001b[0m\n\u001b[1;32m    313\u001b[0m               for c in cons['eq']]))\n\u001b[1;32m    314\u001b[0m     mieq = sum(map(len, [atleast_1d(c['fun'](x, *c['args']))\n\u001b[0;32m--> 315\u001b[0;31m                for c in cons['ineq']]))\n\u001b[0m\u001b[1;32m    316\u001b[0m     \u001b[0;31m# m = The total number of constraints\u001b[0m\u001b[0;34m\u001b[0m\u001b[0;34m\u001b[0m\u001b[0;34m\u001b[0m\u001b[0m\n\u001b[1;32m    317\u001b[0m     \u001b[0mm\u001b[0m \u001b[0;34m=\u001b[0m \u001b[0mmeq\u001b[0m \u001b[0;34m+\u001b[0m \u001b[0mmieq\u001b[0m\u001b[0;34m\u001b[0m\u001b[0;34m\u001b[0m\u001b[0m\n",
            "\u001b[0;32m/usr/local/lib/python3.6/dist-packages/scipy/optimize/slsqp.py\u001b[0m in \u001b[0;36m<listcomp>\u001b[0;34m(.0)\u001b[0m\n\u001b[1;32m    313\u001b[0m               for c in cons['eq']]))\n\u001b[1;32m    314\u001b[0m     mieq = sum(map(len, [atleast_1d(c['fun'](x, *c['args']))\n\u001b[0;32m--> 315\u001b[0;31m                for c in cons['ineq']]))\n\u001b[0m\u001b[1;32m    316\u001b[0m     \u001b[0;31m# m = The total number of constraints\u001b[0m\u001b[0;34m\u001b[0m\u001b[0;34m\u001b[0m\u001b[0;34m\u001b[0m\u001b[0m\n\u001b[1;32m    317\u001b[0m     \u001b[0mm\u001b[0m \u001b[0;34m=\u001b[0m \u001b[0mmeq\u001b[0m \u001b[0;34m+\u001b[0m \u001b[0mmieq\u001b[0m\u001b[0;34m\u001b[0m\u001b[0;34m\u001b[0m\u001b[0m\n",
            "\u001b[0;32m<ipython-input-6-f3e91b5408a3>\u001b[0m in \u001b[0;36m<lambda>\u001b[0;34m(kmot)\u001b[0m\n\u001b[1;32m      6\u001b[0m \u001b[0;34m\u001b[0m\u001b[0m\n\u001b[1;32m      7\u001b[0m \u001b[0;31m# Optimization with SLSQP algorithm: definition of requested functions\u001b[0m\u001b[0;34m\u001b[0m\u001b[0;34m\u001b[0m\u001b[0;34m\u001b[0m\u001b[0m\n\u001b[0;32m----> 8\u001b[0;31m \u001b[0mcontrainte\u001b[0m \u001b[0;34m=\u001b[0m \u001b[0;32mlambda\u001b[0m \u001b[0mkmot\u001b[0m\u001b[0;34m:\u001b[0m \u001b[0mSizingCode\u001b[0m\u001b[0;34m(\u001b[0m\u001b[0mkmot\u001b[0m\u001b[0;34m,\u001b[0m \u001b[0;34m'Const'\u001b[0m\u001b[0;34m)\u001b[0m\u001b[0;34m\u001b[0m\u001b[0;34m\u001b[0m\u001b[0m\n\u001b[0m\u001b[1;32m      9\u001b[0m \u001b[0mobjectif\u001b[0m \u001b[0;34m=\u001b[0m \u001b[0;32mlambda\u001b[0m \u001b[0mkmot\u001b[0m\u001b[0;34m:\u001b[0m \u001b[0mSizingCode\u001b[0m\u001b[0;34m(\u001b[0m\u001b[0mkmot\u001b[0m\u001b[0;34m,\u001b[0m \u001b[0;34m'Obj'\u001b[0m\u001b[0;34m)\u001b[0m\u001b[0;34m\u001b[0m\u001b[0;34m\u001b[0m\u001b[0m\n\u001b[1;32m     10\u001b[0m \u001b[0mobjectifP\u001b[0m \u001b[0;34m=\u001b[0m \u001b[0;32mlambda\u001b[0m \u001b[0mkmot\u001b[0m\u001b[0;34m:\u001b[0m \u001b[0mSizingCode\u001b[0m\u001b[0;34m(\u001b[0m\u001b[0mkmot\u001b[0m\u001b[0;34m,\u001b[0m \u001b[0;34m'ObjP'\u001b[0m\u001b[0;34m)\u001b[0m\u001b[0;34m\u001b[0m\u001b[0;34m\u001b[0m\u001b[0m\n",
            "\u001b[0;32m<ipython-input-5-546b080f0ec7>\u001b[0m in \u001b[0;36mSizingCode\u001b[0;34m(param, arg)\u001b[0m\n\u001b[1;32m     21\u001b[0m \u001b[0;31m# ---\u001b[0m\u001b[0;34m\u001b[0m\u001b[0;34m\u001b[0m\u001b[0;34m\u001b[0m\u001b[0m\n\u001b[1;32m     22\u001b[0m     \u001b[0mV_bat\u001b[0m \u001b[0;34m=\u001b[0m \u001b[0mU_bat_est\u001b[0m \u001b[0;34m*\u001b[0m \u001b[0mkmot\u001b[0m\u001b[0;34m\u001b[0m\u001b[0;34m\u001b[0m\u001b[0m\n\u001b[0;32m---> 23\u001b[0;31m     \u001b[0mC\u001b[0m \u001b[0;34m=\u001b[0m \u001b[0mP_el_mot_hov\u001b[0m \u001b[0;34m*\u001b[0m \u001b[0mt_hov\u001b[0m\u001b[0;34m\u001b[0m\u001b[0;34m\u001b[0m\u001b[0m\n\u001b[0m\u001b[1;32m     24\u001b[0m     \u001b[0mM_bat\u001b[0m \u001b[0;34m=\u001b[0m \u001b[0mC\u001b[0m \u001b[0;34m/\u001b[0m\u001b[0;36m220\u001b[0m\u001b[0;34m\u001b[0m\u001b[0;34m\u001b[0m\u001b[0m\n\u001b[1;32m     25\u001b[0m     \u001b[0mE_bat\u001b[0m \u001b[0;34m=\u001b[0m \u001b[0;36m220.\u001b[0m\u001b[0;34m*\u001b[0m\u001b[0;36m3600.\u001b[0m\u001b[0;34m*\u001b[0m\u001b[0mM_bat\u001b[0m\u001b[0;34m\u001b[0m\u001b[0;34m\u001b[0m\u001b[0m\n",
            "\u001b[0;31mNameError\u001b[0m: name 't_hov' is not defined"
          ]
        }
      ]
    },
    {
      "cell_type": "code",
      "metadata": {
        "id": "oXYQHhjdoom2"
      },
      "source": [
        "# ESC"
      ],
      "execution_count": null,
      "outputs": []
    }
  ]
}