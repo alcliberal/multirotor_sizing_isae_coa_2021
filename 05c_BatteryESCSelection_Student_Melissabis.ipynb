{
  "nbformat": 4,
  "nbformat_minor": 0,
  "metadata": {
    "kernelspec": {
      "display_name": "Python 3",
      "language": "python",
      "name": "python3"
    },
    "language_info": {
      "codemirror_mode": {
        "name": "ipython",
        "version": 3
      },
      "file_extension": ".py",
      "mimetype": "text/x-python",
      "name": "python",
      "nbconvert_exporter": "python",
      "pygments_lexer": "ipython3",
      "version": "3.6.5"
    },
    "colab": {
      "name": "05c_BatteryESCSelection-Student_Melissa.ipynb",
      "provenance": [],
      "include_colab_link": true
    },
    "widgets": {
      "application/vnd.jupyter.widget-state+json": {
        "5e15f57cca3449058cdfdf8e160bfe47": {
          "model_module": "@jupyter-widgets/controls",
          "model_name": "VBoxModel",
          "state": {
            "_view_name": "VBoxView",
            "_dom_classes": [
              "widget-interact"
            ],
            "_model_name": "VBoxModel",
            "_view_module": "@jupyter-widgets/controls",
            "_model_module_version": "1.5.0",
            "_view_count": null,
            "_view_module_version": "1.5.0",
            "box_style": "",
            "layout": "IPY_MODEL_39cce75eeeb54a4d92baa4ec767ed687",
            "_model_module": "@jupyter-widgets/controls",
            "children": [
              "IPY_MODEL_36aab73a74fd4fbeaa9d6f0d7bedb74a",
              "IPY_MODEL_eb1a38f6d81b41a58b03575769d3cd67"
            ]
          }
        },
        "39cce75eeeb54a4d92baa4ec767ed687": {
          "model_module": "@jupyter-widgets/base",
          "model_name": "LayoutModel",
          "state": {
            "_view_name": "LayoutView",
            "grid_template_rows": null,
            "right": null,
            "justify_content": null,
            "_view_module": "@jupyter-widgets/base",
            "overflow": null,
            "_model_module_version": "1.2.0",
            "_view_count": null,
            "flex_flow": null,
            "width": null,
            "min_width": null,
            "border": null,
            "align_items": null,
            "bottom": null,
            "_model_module": "@jupyter-widgets/base",
            "top": null,
            "grid_column": null,
            "overflow_y": null,
            "overflow_x": null,
            "grid_auto_flow": null,
            "grid_area": null,
            "grid_template_columns": null,
            "flex": null,
            "_model_name": "LayoutModel",
            "justify_items": null,
            "grid_row": null,
            "max_height": null,
            "align_content": null,
            "visibility": null,
            "align_self": null,
            "height": null,
            "min_height": null,
            "padding": null,
            "grid_auto_rows": null,
            "grid_gap": null,
            "max_width": null,
            "order": null,
            "_view_module_version": "1.2.0",
            "grid_template_areas": null,
            "object_position": null,
            "object_fit": null,
            "grid_auto_columns": null,
            "margin": null,
            "display": null,
            "left": null
          }
        },
        "36aab73a74fd4fbeaa9d6f0d7bedb74a": {
          "model_module": "@jupyter-widgets/controls",
          "model_name": "DropdownModel",
          "state": {
            "_options_labels": [
              "Constraints",
              "ESC",
              "Objective",
              "Variables"
            ],
            "_view_name": "DropdownView",
            "style": "IPY_MODEL_c19d2da3f9144a4e9b98e4e6cf977772",
            "_dom_classes": [],
            "description": "Type",
            "_model_name": "DropdownModel",
            "index": 0,
            "_view_module": "@jupyter-widgets/controls",
            "_model_module_version": "1.5.0",
            "_view_count": null,
            "disabled": false,
            "_view_module_version": "1.5.0",
            "description_tooltip": null,
            "_model_module": "@jupyter-widgets/controls",
            "layout": "IPY_MODEL_e5c3562c64da44918a2aa4cddd7d3c78"
          }
        },
        "eb1a38f6d81b41a58b03575769d3cd67": {
          "model_module": "@jupyter-widgets/output",
          "model_name": "OutputModel",
          "state": {
            "_view_name": "OutputView",
            "msg_id": "",
            "_dom_classes": [],
            "_model_name": "OutputModel",
            "outputs": [
              {
                "output_type": "display_data",
                "metadata": {
                  "tags": []
                },
                "text/html": "<div>\n<style scoped>\n    .dataframe tbody tr th:only-of-type {\n        vertical-align: middle;\n    }\n\n    .dataframe tbody tr th {\n        vertical-align: top;\n    }\n\n    .dataframe thead th {\n        text-align: right;\n    }\n</style>\n<table border=\"1\" class=\"dataframe\">\n  <thead>\n    <tr style=\"text-align: right;\">\n      <th></th>\n      <th>Type</th>\n      <th>Name</th>\n      <th>Value</th>\n      <th>Unit</th>\n      <th>Comment</th>\n    </tr>\n  </thead>\n  <tbody>\n    <tr>\n      <th>0</th>\n      <td>Constraints</td>\n      <td>P_esc &gt; P_max</td>\n      <td>1,524.00</td>\n      <td>[W]</td>\n      <td>Power Constraint</td>\n    </tr>\n  </tbody>\n</table>\n</div>",
                "text/plain": "          Type           Name    Value Unit           Comment\n0  Constraints  P_esc > P_max 1,524.00  [W]  Power Constraint"
              }
            ],
            "_view_module": "@jupyter-widgets/output",
            "_model_module_version": "1.0.0",
            "_view_count": null,
            "_view_module_version": "1.0.0",
            "layout": "IPY_MODEL_6826f45f16a0431f89055eac097acd3f",
            "_model_module": "@jupyter-widgets/output"
          }
        },
        "c19d2da3f9144a4e9b98e4e6cf977772": {
          "model_module": "@jupyter-widgets/controls",
          "model_name": "DescriptionStyleModel",
          "state": {
            "_view_name": "StyleView",
            "_model_name": "DescriptionStyleModel",
            "description_width": "",
            "_view_module": "@jupyter-widgets/base",
            "_model_module_version": "1.5.0",
            "_view_count": null,
            "_view_module_version": "1.2.0",
            "_model_module": "@jupyter-widgets/controls"
          }
        },
        "e5c3562c64da44918a2aa4cddd7d3c78": {
          "model_module": "@jupyter-widgets/base",
          "model_name": "LayoutModel",
          "state": {
            "_view_name": "LayoutView",
            "grid_template_rows": null,
            "right": null,
            "justify_content": null,
            "_view_module": "@jupyter-widgets/base",
            "overflow": null,
            "_model_module_version": "1.2.0",
            "_view_count": null,
            "flex_flow": null,
            "width": null,
            "min_width": null,
            "border": null,
            "align_items": null,
            "bottom": null,
            "_model_module": "@jupyter-widgets/base",
            "top": null,
            "grid_column": null,
            "overflow_y": null,
            "overflow_x": null,
            "grid_auto_flow": null,
            "grid_area": null,
            "grid_template_columns": null,
            "flex": null,
            "_model_name": "LayoutModel",
            "justify_items": null,
            "grid_row": null,
            "max_height": null,
            "align_content": null,
            "visibility": null,
            "align_self": null,
            "height": null,
            "min_height": null,
            "padding": null,
            "grid_auto_rows": null,
            "grid_gap": null,
            "max_width": null,
            "order": null,
            "_view_module_version": "1.2.0",
            "grid_template_areas": null,
            "object_position": null,
            "object_fit": null,
            "grid_auto_columns": null,
            "margin": null,
            "display": null,
            "left": null
          }
        },
        "6826f45f16a0431f89055eac097acd3f": {
          "model_module": "@jupyter-widgets/base",
          "model_name": "LayoutModel",
          "state": {
            "_view_name": "LayoutView",
            "grid_template_rows": null,
            "right": null,
            "justify_content": null,
            "_view_module": "@jupyter-widgets/base",
            "overflow": null,
            "_model_module_version": "1.2.0",
            "_view_count": null,
            "flex_flow": null,
            "width": null,
            "min_width": null,
            "border": null,
            "align_items": null,
            "bottom": null,
            "_model_module": "@jupyter-widgets/base",
            "top": null,
            "grid_column": null,
            "overflow_y": null,
            "overflow_x": null,
            "grid_auto_flow": null,
            "grid_area": null,
            "grid_template_columns": null,
            "flex": null,
            "_model_name": "LayoutModel",
            "justify_items": null,
            "grid_row": null,
            "max_height": null,
            "align_content": null,
            "visibility": null,
            "align_self": null,
            "height": null,
            "min_height": null,
            "padding": null,
            "grid_auto_rows": null,
            "grid_gap": null,
            "max_width": null,
            "order": null,
            "_view_module_version": "1.2.0",
            "grid_template_areas": null,
            "object_position": null,
            "object_fit": null,
            "grid_auto_columns": null,
            "margin": null,
            "display": null,
            "left": null
          }
        },
        "e75fc267eeda4f83a583ec2ea978d090": {
          "model_module": "@jupyter-widgets/controls",
          "model_name": "VBoxModel",
          "state": {
            "_view_name": "VBoxView",
            "_dom_classes": [
              "widget-interact"
            ],
            "_model_name": "VBoxModel",
            "_view_module": "@jupyter-widgets/controls",
            "_model_module_version": "1.5.0",
            "_view_count": null,
            "_view_module_version": "1.5.0",
            "box_style": "",
            "layout": "IPY_MODEL_90caa517d362417297f00b520091860a",
            "_model_module": "@jupyter-widgets/controls",
            "children": [
              "IPY_MODEL_98906e3d10a549bfb2b09869cbb1c3ec",
              "IPY_MODEL_c979436f2197429bb1cd584e87be93d8"
            ]
          }
        },
        "90caa517d362417297f00b520091860a": {
          "model_module": "@jupyter-widgets/base",
          "model_name": "LayoutModel",
          "state": {
            "_view_name": "LayoutView",
            "grid_template_rows": null,
            "right": null,
            "justify_content": null,
            "_view_module": "@jupyter-widgets/base",
            "overflow": null,
            "_model_module_version": "1.2.0",
            "_view_count": null,
            "flex_flow": null,
            "width": null,
            "min_width": null,
            "border": null,
            "align_items": null,
            "bottom": null,
            "_model_module": "@jupyter-widgets/base",
            "top": null,
            "grid_column": null,
            "overflow_y": null,
            "overflow_x": null,
            "grid_auto_flow": null,
            "grid_area": null,
            "grid_template_columns": null,
            "flex": null,
            "_model_name": "LayoutModel",
            "justify_items": null,
            "grid_row": null,
            "max_height": null,
            "align_content": null,
            "visibility": null,
            "align_self": null,
            "height": null,
            "min_height": null,
            "padding": null,
            "grid_auto_rows": null,
            "grid_gap": null,
            "max_width": null,
            "order": null,
            "_view_module_version": "1.2.0",
            "grid_template_areas": null,
            "object_position": null,
            "object_fit": null,
            "grid_auto_columns": null,
            "margin": null,
            "display": null,
            "left": null
          }
        },
        "98906e3d10a549bfb2b09869cbb1c3ec": {
          "model_module": "@jupyter-widgets/controls",
          "model_name": "DropdownModel",
          "state": {
            "_options_labels": [
              "Battery",
              "Constraints",
              "Objective",
              "Variables"
            ],
            "_view_name": "DropdownView",
            "style": "IPY_MODEL_8d82939d1e684d69a76b47fb8e0974bf",
            "_dom_classes": [],
            "description": "Type",
            "_model_name": "DropdownModel",
            "index": 0,
            "_view_module": "@jupyter-widgets/controls",
            "_model_module_version": "1.5.0",
            "_view_count": null,
            "disabled": false,
            "_view_module_version": "1.5.0",
            "description_tooltip": null,
            "_model_module": "@jupyter-widgets/controls",
            "layout": "IPY_MODEL_6c16c34914254110ab5da1e0005463b7"
          }
        },
        "c979436f2197429bb1cd584e87be93d8": {
          "model_module": "@jupyter-widgets/output",
          "model_name": "OutputModel",
          "state": {
            "_view_name": "OutputView",
            "msg_id": "",
            "_dom_classes": [],
            "_model_name": "OutputModel",
            "outputs": [
              {
                "output_type": "display_data",
                "metadata": {
                  "tags": []
                },
                "text/html": "<div>\n<style scoped>\n    .dataframe tbody tr th:only-of-type {\n        vertical-align: middle;\n    }\n\n    .dataframe tbody tr th {\n        vertical-align: top;\n    }\n\n    .dataframe thead th {\n        text-align: right;\n    }\n</style>\n<table border=\"1\" class=\"dataframe\">\n  <thead>\n    <tr style=\"text-align: right;\">\n      <th></th>\n      <th>Type</th>\n      <th>Name</th>\n      <th>Value</th>\n      <th>Unit</th>\n      <th>Comment</th>\n    </tr>\n  </thead>\n  <tbody>\n    <tr>\n      <th>0</th>\n      <td>Battery</td>\n      <td>Capacity</td>\n      <td>30.00</td>\n      <td>[Wh]</td>\n      <td>Battery capacity</td>\n    </tr>\n    <tr>\n      <th>0</th>\n      <td>Battery</td>\n      <td>Voltage</td>\n      <td>14.00</td>\n      <td>[V]</td>\n      <td>Battery voltage</td>\n    </tr>\n    <tr>\n      <th>0</th>\n      <td>Battery</td>\n      <td>Energy</td>\n      <td>108,000.00</td>\n      <td>[J]</td>\n      <td>Battery energy</td>\n    </tr>\n  </tbody>\n</table>\n</div>",
                "text/plain": "      Type      Name      Value  Unit           Comment\n0  Battery  Capacity      30.00  [Wh]  Battery capacity\n0  Battery   Voltage      14.00   [V]   Battery voltage\n0  Battery    Energy 108,000.00   [J]    Battery energy"
              }
            ],
            "_view_module": "@jupyter-widgets/output",
            "_model_module_version": "1.0.0",
            "_view_count": null,
            "_view_module_version": "1.0.0",
            "layout": "IPY_MODEL_af1b0a0e5696432b977b8308725a4e00",
            "_model_module": "@jupyter-widgets/output"
          }
        },
        "8d82939d1e684d69a76b47fb8e0974bf": {
          "model_module": "@jupyter-widgets/controls",
          "model_name": "DescriptionStyleModel",
          "state": {
            "_view_name": "StyleView",
            "_model_name": "DescriptionStyleModel",
            "description_width": "",
            "_view_module": "@jupyter-widgets/base",
            "_model_module_version": "1.5.0",
            "_view_count": null,
            "_view_module_version": "1.2.0",
            "_model_module": "@jupyter-widgets/controls"
          }
        },
        "6c16c34914254110ab5da1e0005463b7": {
          "model_module": "@jupyter-widgets/base",
          "model_name": "LayoutModel",
          "state": {
            "_view_name": "LayoutView",
            "grid_template_rows": null,
            "right": null,
            "justify_content": null,
            "_view_module": "@jupyter-widgets/base",
            "overflow": null,
            "_model_module_version": "1.2.0",
            "_view_count": null,
            "flex_flow": null,
            "width": null,
            "min_width": null,
            "border": null,
            "align_items": null,
            "bottom": null,
            "_model_module": "@jupyter-widgets/base",
            "top": null,
            "grid_column": null,
            "overflow_y": null,
            "overflow_x": null,
            "grid_auto_flow": null,
            "grid_area": null,
            "grid_template_columns": null,
            "flex": null,
            "_model_name": "LayoutModel",
            "justify_items": null,
            "grid_row": null,
            "max_height": null,
            "align_content": null,
            "visibility": null,
            "align_self": null,
            "height": null,
            "min_height": null,
            "padding": null,
            "grid_auto_rows": null,
            "grid_gap": null,
            "max_width": null,
            "order": null,
            "_view_module_version": "1.2.0",
            "grid_template_areas": null,
            "object_position": null,
            "object_fit": null,
            "grid_auto_columns": null,
            "margin": null,
            "display": null,
            "left": null
          }
        },
        "af1b0a0e5696432b977b8308725a4e00": {
          "model_module": "@jupyter-widgets/base",
          "model_name": "LayoutModel",
          "state": {
            "_view_name": "LayoutView",
            "grid_template_rows": null,
            "right": null,
            "justify_content": null,
            "_view_module": "@jupyter-widgets/base",
            "overflow": null,
            "_model_module_version": "1.2.0",
            "_view_count": null,
            "flex_flow": null,
            "width": null,
            "min_width": null,
            "border": null,
            "align_items": null,
            "bottom": null,
            "_model_module": "@jupyter-widgets/base",
            "top": null,
            "grid_column": null,
            "overflow_y": null,
            "overflow_x": null,
            "grid_auto_flow": null,
            "grid_area": null,
            "grid_template_columns": null,
            "flex": null,
            "_model_name": "LayoutModel",
            "justify_items": null,
            "grid_row": null,
            "max_height": null,
            "align_content": null,
            "visibility": null,
            "align_self": null,
            "height": null,
            "min_height": null,
            "padding": null,
            "grid_auto_rows": null,
            "grid_gap": null,
            "max_width": null,
            "order": null,
            "_view_module_version": "1.2.0",
            "grid_template_areas": null,
            "object_position": null,
            "object_fit": null,
            "grid_auto_columns": null,
            "margin": null,
            "display": null,
            "left": null
          }
        }
      }
    }
  },
  "cells": [
    {
      "cell_type": "markdown",
      "metadata": {
        "id": "view-in-github",
        "colab_type": "text"
      },
      "source": [
        "<a href=\"https://colab.research.google.com/github/alcliberal/multirotor_sizing_isae_coa_2021/blob/main/05c_BatteryESCSelection_Student_Melissabis.ipynb\" target=\"_parent\"><img src=\"https://colab.research.google.com/assets/colab-badge.svg\" alt=\"Open In Colab\"/></a>"
      ]
    },
    {
      "cell_type": "markdown",
      "metadata": {
        "id": "voJtWJJq_YSR"
      },
      "source": [
        "<img src=\"https://github.com/alcliberal/multirotor_sizing_isae_coa_2021/blob/main/pictures/logo_sizinglab.png?raw=1\" style=\"float:right; max-width: 60px; display: inline\" alt=\"SizingLab\" /></a>"
      ]
    },
    {
      "cell_type": "markdown",
      "metadata": {
        "id": "esKV3OK2_YSZ"
      },
      "source": [
        "# Battery and ESC selection\n",
        "*Written by Marc Budinger (INSA Toulouse) and Scott Delbecq (ISAE-SUPAERO), Toulouse, France.*"
      ]
    },
    {
      "cell_type": "markdown",
      "metadata": {
        "id": "xo_rdSvX_YSZ"
      },
      "source": [
        "## Design graph \n",
        "\n",
        "The following diagram represents the design graph of the battery and ESC selection.\n",
        "\n",
        "\n",
        "![DesignGraph](https://github.com/alcliberal/multirotor_sizing_isae_coa_2021/blob/main/pictures/ESCBatteryDesignGraph.png?raw=1)\n",
        "\n",
        "> **Questions:**\n",
        "* Recall the main equations to take into account during ESC and battery selection\n",
        "* Orientate the arrows\n",
        "* Give equations order, inputs/outputs at each step of this part of sizing procedure\n",
        "\n",
        "*   Main equations to take into account during ESC and battery selection :\n",
        "    - M_esc (kg) = 2.88e-05 * Pesc   (w) (according to notebook 3)\n",
        "    - Pesc > Pmax (take-off)\n",
        "    - t (h) = C(Ah) *Vbat (V) / Pmoy(W)\n",
        "    - Vbat > U_mot_to\n",
        "    - V_bat = V_cell * ns\n",
        "    - Ebat (Wh) =  M_bat * E_massique (220 Wh/kg)\n",
        "\n",
        "\n",
        "*   Oriented diagram\n",
        "\n",
        "\n",
        "\n",
        "*   Sizing procedure\n",
        "    - Pesc = kesc * P_esc_ref with 1 <= kesc <= 10 \n",
        "    - M_esc = 0.02876598 * Pesc\n",
        "    - Vbat =  U_bat_estimé * kmot    1 <= kmot <= 10 \n",
        "    - C (Ah) = Pmoy * t / Vbat\n",
        "    - C (Wh) = Pmoy* t\n",
        "    - M_bat =  C (Wh) /E_massique\n",
        "    - E_massique (?? fonction de ns ??)\n",
        "\n"
      ]
    },
    {
      "cell_type": "markdown",
      "metadata": {
        "id": "lA3UJCKK_YSa"
      },
      "source": [
        "### Sizing code and optimization\n",
        "\n",
        "> Exercice: propose a sizing code for the selection of a battery and ESC.\n"
      ]
    },
    {
      "cell_type": "code",
      "metadata": {
        "id": "VmVBZAGB_YSa"
      },
      "source": [
        "# Specifications\n",
        "N_pro=4.0#[-] Number of propellers\n",
        "M_pay=1.0#[kg] Payload mass\n",
        "t_hov = 3 #[h]\n",
        "\n",
        "# Reference parameters for scaling laws\n",
        "# Ref : MK-quadro\n",
        "M_bat_ref = .329 # [kg] mass\n",
        "E_bat_ref = 220.*3600.*.329 # [J]\n",
        "\n",
        "# Ref : Turnigy K_Force 70HV \n",
        "P_esc_ref = 3108. # [W] Power\n",
        "M_esc_ref = .115 # [kg] Mass\n",
        "\n",
        "# Assumption\n",
        "U_bat_est=14.0#[V] Battery voltage estimation\n",
        "P_el_mot_hov=10.0#[W] Electrical power consumption for one motor during hover\n",
        "P_el_mot_to=30.0#[W] Electrical power consumption for one motor during takeoff\n",
        "U_mot_to=12.0#[V] Motor voltage during takeoff\n",
        "\n"
      ],
      "execution_count": null,
      "outputs": []
    },
    {
      "cell_type": "code",
      "metadata": {
        "id": "xUyT_0nnUK_8"
      },
      "source": [
        "# Battery selection & scaling laws sized from hover\n",
        "    \n",
        "    \n",
        "    U_bat = 1.84e+00*P_el_mot_to**(3.60e-01) # [V] Battery voltage\n",
        "    N_s_bat = ceil(U_bat/3.7)  # [-] Cell number, round (up value).  from math import *\n",
        "\n",
        "    M_bat = k_mb * M_pay # [kg] Battery mass\n",
        "\n",
        "\n",
        "# Hover --> autonomy\n",
        "    E_bat = E_bat_ref * M_bat_ref / M_bat * 0.8 # [J] Energy  of the battery (.8 coefficient because 80% use only of the total capacity)\n",
        "    C_bat = E_bat/U_bat  # [A.s] Capacity  of the battery \n",
        "    I_bat =  P_el_mot_hov * N_pro / (0.95 * U_bat)  # [A] Current of the battery   #notebook 2\n",
        "    t_hov = C_bat /I_bat*60  # [min] Hover time \n",
        "\n",
        "\n",
        " #ESC    \n",
        "  \n",
        "    P_esc = P_el_mot_to # [W] power electronic power (corner power or apparent power)\n",
        "    M_esc =  2.88e-05 * Pesc  # [kg] Mass ESC\n",
        "    V_esc =  1.84e+00*P_esc^(3.60e-01) # [V] ESC voltage  "
      ],
      "execution_count": null,
      "outputs": []
    },
    {
      "cell_type": "code",
      "metadata": {
        "id": "xMOA2HdJ_YSb"
      },
      "source": [
        "#Design variables\n",
        "\n",
        "# -----------------------\n",
        "# equations\n",
        "# -----------------------\n",
        "\n",
        "# Hover --> autonomy\n",
        "\n",
        "# ESC\n",
        "\n",
        "\n",
        "#Design variables\n",
        "# kesc from 1 to 10\n",
        "# -----------------------\n",
        "# equations\n",
        "\n",
        "import pandas as pd\n",
        "\n",
        "import ipywidgets as widgets\n",
        "from ipywidgets import interactive\n",
        "\n",
        "pd.options.display.float_format = '{:,.2f}'.format\n",
        "\n",
        "\n",
        "# -----------------------\n",
        "# sizing code\n",
        "# -----------------------\n",
        "# inputs: \n",
        "# - param: optimisation variables vector (reduction ratio, oversizing coefficient)\n",
        "# - arg: selection of output  \n",
        "# output: \n",
        "# - objective if arg='Obj', problem characteristics if arg='Prt', constraints other else\n",
        "\n",
        "def SizingCode(param, arg):\n",
        "# Design variables in param\n",
        "# ---\n",
        "    kesc = param[0] # variable x\n",
        "     \n",
        "# Calculus \n",
        "# ---\n",
        "    P_esc = kesc * P_esc_ref\n",
        "    M_esc = 2.88e-02 * P_esc\n",
        "        \n",
        "# Objective and Constraints sum up\n",
        "# ---\n",
        "    objective = M_esc\n",
        "    \n",
        "    constraints = [P_esc - P_el_mot_to,\n",
        "                  ]\n",
        "    \n",
        "# Returns selection\n",
        "# -------------------\n",
        "    if arg == 'Obj':\n",
        "        return objective\n",
        "\n",
        "    elif arg=='Prt':\n",
        "    # the data to print a defined into a Pandas dataframe\n",
        "        col_names = ['Type', 'Name', 'Value', 'Unit', 'Comment']\n",
        "\n",
        "        df = pd.DataFrame()\n",
        "    \n",
        "      \n",
        "        df = df.append([{'Type': 'Objective', 'Name': 'M_esc', 'Value': objective, 'Unit': '[g]', 'Comment': 'Mini mass ESC'}])[col_names]\n",
        "        df = df.append([{'Type': 'Constraints', 'Name': 'P_esc > P_max', 'Value': constraints[0], 'Unit': '[W]', 'Comment': 'Power Constraint'}])[col_names]\n",
        "        df = df.append([{'Type': 'Variables', 'Name': 'kesc', 'Value': kesc, 'Unit': '[-]', 'Comment': 'kesc'}])[col_names]\n",
        "        df = df.append([{'Type': 'ESC', 'Name': 'P_esc', 'Value': P_esc, 'Unit': '[W]', 'Comment': 'P_esc'}])[col_names]\n",
        "\n",
        "    # the dataframe is then organised to be printed with interactive widgets\n",
        "        items = sorted(df['Type'].unique().tolist())\n",
        "\n",
        "        def f(Type):\n",
        "            return df[df['Type']==Type] \n",
        "        widgets.interact(f, Type=items)\n",
        "        return f\n",
        "        \n",
        "    else:\n",
        "        return constraints"
      ],
      "execution_count": null,
      "outputs": []
    },
    {
      "cell_type": "code",
      "metadata": {
        "colab": {
          "base_uri": "https://localhost:8080/",
          "height": 319,
          "referenced_widgets": [
            "5e15f57cca3449058cdfdf8e160bfe47",
            "39cce75eeeb54a4d92baa4ec767ed687",
            "36aab73a74fd4fbeaa9d6f0d7bedb74a",
            "eb1a38f6d81b41a58b03575769d3cd67",
            "c19d2da3f9144a4e9b98e4e6cf977772",
            "e5c3562c64da44918a2aa4cddd7d3c78",
            "6826f45f16a0431f89055eac097acd3f"
          ]
        },
        "id": "aEjY0M_5_tbl",
        "outputId": "b3f75b46-5de6-4382-f21f-918706535111"
      },
      "source": [
        "import scipy\n",
        "import scipy.optimize\n",
        "\n",
        "# Vector of initial parameters\n",
        "parameters = scipy.array((1))\n",
        "\n",
        "# Optimization with SLSQP algorithm: definition of requested functions\n",
        "contrainte = lambda kesc: SizingCode(kesc, 'Const')\n",
        "objectif = lambda kesc: SizingCode(kesc, 'Obj')\n",
        "objectifP = lambda kesc: SizingCode(kesc, 'ObjP')\n",
        "\n",
        "# Optimization bounds\n",
        "bounds = [(0.5,5)]\n",
        "\n",
        "# SLSQP omptimisation\n",
        "result = scipy.optimize.fmin_slsqp(func=objectif, x0=parameters, \n",
        "                                   bounds=bounds,\n",
        "                                   f_ieqcons=contrainte, iter=1500, acc=1e-12)\n",
        "\n",
        "\n",
        "# Final characteristics after optimization \n",
        "print(\"-----------------------------------------------\")\n",
        "print(\"Final characteristics after optimization :\")\n",
        "\n",
        "print(SizingCode(result, 'Obj'))\n",
        "SizingCode(result, 'Prt')"
      ],
      "execution_count": null,
      "outputs": [
        {
          "output_type": "stream",
          "text": [
            "Optimization terminated successfully.    (Exit mode 0)\n",
            "            Current function value: 44.75520001382431\n",
            "            Iterations: 6\n",
            "            Function evaluations: 6\n",
            "            Gradient evaluations: 2\n",
            "-----------------------------------------------\n",
            "Final characteristics after optimization :\n",
            "44.75520001382431\n"
          ],
          "name": "stdout"
        },
        {
          "output_type": "stream",
          "text": [
            "/usr/local/lib/python3.6/dist-packages/ipykernel_launcher.py:5: DeprecationWarning: scipy.array is deprecated and will be removed in SciPy 2.0.0, use numpy.array instead\n",
            "  \"\"\"\n"
          ],
          "name": "stderr"
        },
        {
          "output_type": "display_data",
          "data": {
            "application/vnd.jupyter.widget-view+json": {
              "model_id": "5e15f57cca3449058cdfdf8e160bfe47",
              "version_minor": 0,
              "version_major": 2
            },
            "text/plain": [
              "interactive(children=(Dropdown(description='Type', options=('Constraints', 'ESC', 'Objective', 'Variables'), v…"
            ]
          },
          "metadata": {
            "tags": []
          }
        },
        {
          "output_type": "execute_result",
          "data": {
            "text/plain": [
              "<function __main__.SizingCode.<locals>.f>"
            ]
          },
          "metadata": {
            "tags": []
          },
          "execution_count": 3
        }
      ]
    },
    {
      "cell_type": "code",
      "metadata": {
        "id": "F_ysVARM_00a"
      },
      "source": [
        "# Hover --> autonomy\n",
        "\n",
        "import pandas as pd\n",
        "\n",
        "import ipywidgets as widgets\n",
        "from ipywidgets import interactive\n",
        "\n",
        "pd.options.display.float_format = '{:,.2f}'.format\n",
        "\n",
        "\n",
        "# -----------------------\n",
        "# sizing code\n",
        "# -----------------------\n",
        "# inputs: \n",
        "# - param: optimisation variables vector (reduction ratio, oversizing coefficient)\n",
        "# - arg: selection of output  \n",
        "# output: \n",
        "# - objective if arg='Obj', problem characteristics if arg='Prt', constraints other else\n",
        "\n",
        "def SizingCode(param, arg):\n",
        "# Design variables in param\n",
        "# ---\n",
        "    kmot = param[0] # variable x\n",
        "    \n",
        "# Calculus \n",
        "# ---\n",
        "    V_bat = U_bat_est * kmot\n",
        "    C = P_el_mot_hov * t_hov\n",
        "    M_bat = C /220\n",
        "    E_bat = 220.*3600.*M_bat\n",
        "        \n",
        "# Objective and Constraints sum up\n",
        "# ---\n",
        "    objective = M_bat\n",
        "    \n",
        "    constraints = [V_bat - U_mot_to]\n",
        "    \n",
        "# Returns selection\n",
        "# -------------------\n",
        "    if arg == 'Obj':\n",
        "        return objective\n",
        "\n",
        "    elif arg=='Prt':\n",
        "    # the data to print a defined into a Pandas dataframe\n",
        "        col_names = ['Type', 'Name', 'Value', 'Unit', 'Comment']\n",
        "\n",
        "        df = pd.DataFrame()\n",
        "    \n",
        "      \n",
        "        df = df.append([{'Type': 'Objective', 'Name': 'M_bat', 'Value': objective, 'Unit': '[Kg]', 'Comment': 'Mini mass battery'}])[col_names]\n",
        "        df = df.append([{'Type': 'Constraints', 'Name': 'Power', 'Value': constraints[0], 'Unit': '[W]', 'Comment': 'Power constraint'}])[col_names]\n",
        "        df = df.append([{'Type': 'Variables', 'Name': 'kmot', 'Value': kmot, 'Unit': '[]', 'Comment': 'kmot'}])[col_names]\n",
        "        df = df.append([{'Type': 'Battery', 'Name': 'Capacity', 'Value': C, 'Unit': '[Wh]', 'Comment': 'Battery capacity'}])[col_names]\n",
        "        df = df.append([{'Type': 'Battery', 'Name': ' Voltage', 'Value': V_bat, 'Unit': '[V]', 'Comment': 'Battery voltage'}])[col_names]\n",
        "        df = df.append([{'Type': 'Battery', 'Name': ' Energy', 'Value': E_bat, 'Unit': '[J]', 'Comment': 'Battery energy'}])[col_names]\n",
        "\n",
        "    # the dataframe is then organised to be printed with interactive widgets\n",
        "        items = sorted(df['Type'].unique().tolist())\n",
        "\n",
        "        def f(Type):\n",
        "            return df[df['Type']==Type] \n",
        "        widgets.interact(f, Type=items)\n",
        "        return f\n",
        "        \n",
        "    else:\n",
        "        return constraints"
      ],
      "execution_count": null,
      "outputs": []
    },
    {
      "cell_type": "code",
      "metadata": {
        "colab": {
          "base_uri": "https://localhost:8080/",
          "height": 381,
          "referenced_widgets": [
            "e75fc267eeda4f83a583ec2ea978d090",
            "90caa517d362417297f00b520091860a",
            "98906e3d10a549bfb2b09869cbb1c3ec",
            "c979436f2197429bb1cd584e87be93d8",
            "8d82939d1e684d69a76b47fb8e0974bf",
            "6c16c34914254110ab5da1e0005463b7",
            "af1b0a0e5696432b977b8308725a4e00"
          ]
        },
        "id": "Qafkzpj6_33W",
        "outputId": "b595b0f5-a32f-467b-a903-1f613af96ad8"
      },
      "source": [
        "import scipy\n",
        "import scipy.optimize\n",
        "\n",
        "# Vector of initial parameters\n",
        "parameters = scipy.array((1))\n",
        "\n",
        "# Optimization with SLSQP algorithm: definition of requested functions\n",
        "contrainte = lambda kmot: SizingCode(kmot, 'Const')\n",
        "objectif = lambda kmot: SizingCode(kmot, 'Obj')\n",
        "objectifP = lambda kmot: SizingCode(kmot, 'ObjP')\n",
        "\n",
        "# Optimization bounds\n",
        "bounds = [(1,10)]\n",
        "\n",
        "# SLSQP omptimisation\n",
        "result = scipy.optimize.fmin_slsqp(func=objectif, x0=parameters, \n",
        "                                   bounds=bounds,\n",
        "                                   f_ieqcons=contrainte, iter=1500, acc=1e-12)\n",
        "\n",
        "\n",
        "# Final characteristics after optimization \n",
        "print(\"-----------------------------------------------\")\n",
        "print(\"Final characteristics after optimization :\")\n",
        "\n",
        "print(SizingCode(result, 'Obj'))\n",
        "SizingCode(result, 'Prt')"
      ],
      "execution_count": null,
      "outputs": [
        {
          "output_type": "stream",
          "text": [
            "Optimization terminated successfully.    (Exit mode 0)\n",
            "            Current function value: 0.13636363636363635\n",
            "            Iterations: 1\n",
            "            Function evaluations: 3\n",
            "            Gradient evaluations: 1\n",
            "-----------------------------------------------\n",
            "Final characteristics after optimization :\n",
            "0.13636363636363635\n"
          ],
          "name": "stdout"
        },
        {
          "output_type": "stream",
          "text": [
            "/usr/local/lib/python3.6/dist-packages/ipykernel_launcher.py:5: DeprecationWarning: scipy.array is deprecated and will be removed in SciPy 2.0.0, use numpy.array instead\n",
            "  \"\"\"\n"
          ],
          "name": "stderr"
        },
        {
          "output_type": "display_data",
          "data": {
            "application/vnd.jupyter.widget-view+json": {
              "model_id": "e75fc267eeda4f83a583ec2ea978d090",
              "version_minor": 0,
              "version_major": 2
            },
            "text/plain": [
              "interactive(children=(Dropdown(description='Type', options=('Battery', 'Constraints', 'Objective', 'Variables'…"
            ]
          },
          "metadata": {
            "tags": []
          }
        },
        {
          "output_type": "execute_result",
          "data": {
            "text/plain": [
              "<function __main__.SizingCode.<locals>.f>"
            ]
          },
          "metadata": {
            "tags": []
          },
          "execution_count": 8
        }
      ]
    },
    {
      "cell_type": "code",
      "metadata": {
        "id": "ZbsfgzP6ACzi"
      },
      "source": [
        ""
      ],
      "execution_count": null,
      "outputs": []
    }
  ]
}