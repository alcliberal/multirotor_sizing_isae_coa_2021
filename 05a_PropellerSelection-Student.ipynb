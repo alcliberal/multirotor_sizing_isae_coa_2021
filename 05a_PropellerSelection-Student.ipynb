{
  "nbformat": 4,
  "nbformat_minor": 0,
  "metadata": {
    "kernelspec": {
      "display_name": "Python 3",
      "language": "python",
      "name": "python3"
    },
    "language_info": {
      "codemirror_mode": {
        "name": "ipython",
        "version": 3
      },
      "file_extension": ".py",
      "mimetype": "text/x-python",
      "name": "python",
      "nbconvert_exporter": "python",
      "pygments_lexer": "ipython3",
      "version": "3.6.5"
    },
    "colab": {
      "name": "05a_PropellerSelection-Student.ipynb",
      "provenance": [],
      "include_colab_link": true
    }
  },
  "cells": [
    {
      "cell_type": "markdown",
      "metadata": {
        "id": "view-in-github",
        "colab_type": "text"
      },
      "source": [
        "<a href=\"https://colab.research.google.com/github/alcliberal/multirotor_sizing_isae_coa_2021/blob/main/05a_PropellerSelection-Student.ipynb\" target=\"_parent\"><img src=\"https://colab.research.google.com/assets/colab-badge.svg\" alt=\"Open In Colab\"/></a>"
      ]
    },
    {
      "cell_type": "markdown",
      "metadata": {
        "id": "XVEeOSd_YPoy"
      },
      "source": [
        "<img src=\"https://github.com/alcliberal/multirotor_sizing_isae_coa_2021/blob/main/pictures/logo_sizinglab.png?raw=1\" style=\"float:right; max-width: 60px; display: inline\" alt=\"SizingLab\" /></a>"
      ]
    },
    {
      "cell_type": "markdown",
      "metadata": {
        "id": "CWMvOqxEYPo0"
      },
      "source": [
        "# Propeller selection\n",
        "*Written by Marc Budinger (INSA Toulouse) and Scott Delbecq (ISAE-SUPAERO), Toulouse, France.*"
      ]
    },
    {
      "cell_type": "markdown",
      "metadata": {
        "id": "09qQl7L3YPo0"
      },
      "source": [
        "## Design graph \n",
        "\n",
        "The following diagram represents the design graph of the propeller’s selection. The max thrust is assumed to be known here.\n",
        "\n",
        "\n",
        "![DesignGraph](https://github.com/alcliberal/multirotor_sizing_isae_coa_2021/blob/main/pictures/PropellerDesignGraph.png?raw=1)\n",
        "\n",
        "> **Questions:**\n",
        "* Give the main sizing problems you are able to detect.\n",
        "* Propose one or multiple solutions (which can request equation manipulation, addition of design variables, addition of constraints) \n",
        "* Orientate the arrows\n",
        "* Give equations order, inputs/outputs at each step of this part of sizing procedure\n",
        "\n",
        "> **Responses:**\n",
        "* Given pitch/D and the F_max, we need an estimation of nD for the calculus of D and, consequently, n. So, we need to create and design variable K_nD as nD = k_nD*(Nd)_max with 0 < k_nD < 1\n",
        "\n",
        "![DesignGraph](https://github.com/alcliberal/multirotor_sizing_isae_coa_2021/blob/main/pictures/PropellerDesignGraphAvecOrdre.png?raw=1)\n",
        "\n",
        "\n",
        "* Sizing Procedure :\n",
        "\n",
        "  - ND = k_nD*ND_max with 0 < k_nD < 1\n",
        "  - C_t (estimation model)\n",
        "  - C_p (estimation model)\n",
        "  - Take off scenario D = sqrt(F_pro_to/(rho_air * (ND^2) * C_t))\n",
        "  - For hover         D = sqrt(F_pro_hov/(rho_air * (ND^2) * C_t))   \n",
        "  - n = ND/D\n",
        "  - T_max = C_p * rho_air * (ND^2) * D^2/W\n",
        "  - M_pro = M_pro_ref * (D/D_pro_ref)^2 "
      ]
    },
    {
      "cell_type": "markdown",
      "metadata": {
        "id": "vm9-bnNzYPo1"
      },
      "source": [
        "### Sizing code and optimization\n",
        "\n",
        "> Exercice: propose a sizing code for the selection of a propeller.\n"
      ]
    },
    {
      "cell_type": "code",
      "metadata": {
        "id": "LQYeFE0BYPo1"
      },
      "source": [
        "from math import pi\n",
        "\n",
        "# Specifications\n",
        "rho_air=1.18# [kg/m^3] Air density\n",
        "ND_max=105000./60.*.0254 #[Hz.m] Max speed limit (N.D max) for APC MR propellers\n",
        "\n",
        "# Reference parameters for scaling laws\n",
        "D_pro_ref=11.*.0254# [m] Reference propeller diameter\n",
        "M_pro_ref=0.53*0.0283# [kg] Reference propeller mass\n",
        "\n",
        "# Assumption\n",
        "\n",
        "F_pro_to=15.0 #[N] Thrust for 1 propeller during Take Off\n",
        "F_pro_hov=5.0 #[N] Thrust for 1 propeller during hover"
      ],
      "execution_count": 2,
      "outputs": []
    },
    {
      "cell_type": "code",
      "metadata": {
        "id": "rcizhIFmYPo2"
      },
      "source": [
        "import pandas as pd\n",
        "from math import sqrt\n",
        "\n",
        "\n",
        "# -----------------------\n",
        "# sizing code\n",
        "# -----------------------\n",
        "\n",
        "# Design variables\n",
        "# ---\n",
        "beta_pro = 0.3  # variable entre 0.3 et 0.6 c'est-à-dire Pitch/D\n",
        "k_nD = 0.5 # variable entre 0 et 1\n",
        "\n",
        "#Equations:\n",
        "#-----\n",
        "ND = k_nD*ND_max\n",
        "\n",
        "# Regression\n",
        "Ct = 4.27e-02 + 1.44e-01 * beta_pro # Linear Regression from previous notebook 04_PropellerLinearRegression-Student.ipynb\n",
        "Cp = -1.48e-03 + 9.72e-02 * beta_pro # Linear Regression from previous notebook 04_PropellerLinearRegression-Student.ipynb\n",
        "\n",
        "# Propeller selection with take-off scenario\n",
        "\n",
        "D_pro_to = sqrt(F_pro_to/(rho_air * (ND**2) * Ct)) # From equation Ct = F/rho*N^2*D^3\n",
        "n_pro_to = ND/D_pro_to\n",
        "W_pro_to = n_pro_to*2*pi\n",
        "P_pro_to = Cp * rho_air * (ND**3) * D_pro_to**2 # From equation Cp = P/rho*N^3*D^5 and T = P/W\n",
        "T_pro_to = P_pro_to/W_pro_to \n",
        "M_pro_to = M_pro_ref * (D_pro_to/D_pro_ref)**2 # From equation M* = D*^2 et var* = var/var_ref\n",
        "\n",
        "\n",
        "# Propeller torque & speed for hover\n",
        "D_pro_hov = sqrt(F_pro_hov/(rho_air * (ND**2) * Ct))  # From equation Ct = F/rho*N^2*D^3 \n",
        "n_pro_hov = ND/D_pro_hov\n",
        "W_pro_hov = n_pro_hov*2*pi\n",
        "P_pro_hov = Cp * rho_air * (ND**3) * D_pro_hov**2 # From equation Cp = P/rho*N^3*D^5 and T = P/W\n",
        "T_pro_hov = P_pro_hov/W_pro_hov\n",
        "M_pro_hov = M_pro_ref * (D_pro_hov/D_pro_ref)**2 # From equation M* = D*^2 et var* = var/var_ref\n"
      ],
      "execution_count": 12,
      "outputs": []
    },
    {
      "cell_type": "code",
      "metadata": {
        "id": "6c1n37WYOpGk",
        "outputId": "396fa895-9bda-4ba9-f0fc-e43d28457955",
        "colab": {
          "base_uri": "https://localhost:8080/"
        }
      },
      "source": [
        "print(\"Propeller diameter:\",D_pro_to, \" m\")\r\n",
        "print(\"Propeller rotation frequency: \", n_pro_to,\" 1/s\")\r\n",
        "print(\"Propeller angular velocity:\", W_pro_to,\" rad/s\")\r\n",
        "print(\"Propeller power:\",P_pro_to, \" W\")\r\n",
        "print(\"Propeller torque:\",T_pro_to,\" N\")\r\n",
        "print(\"Propeller mass:\",P_pro_to, \" W\")"
      ],
      "execution_count": 15,
      "outputs": [
        {
          "output_type": "stream",
          "text": [
            "Propeller diameter: 0.5473514517601611  m\n",
            "Propeller rotation frequency:  40.604624192608455  1/s\n",
            "Propeller angular velocity: 255.12637813054621  rad/s\n",
            "Propeller power: 107.42514551804422  W\n",
            "Propeller torque: 0.4210663997396443  N\n",
            "Propeller mass: 107.42514551804422  W\n"
          ],
          "name": "stdout"
        }
      ]
    },
    {
      "cell_type": "code",
      "metadata": {
        "id": "r-IHb3wQRbMs"
      },
      "source": [
        ""
      ],
      "execution_count": null,
      "outputs": []
    }
  ]
}