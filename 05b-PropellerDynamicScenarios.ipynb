{
  "nbformat": 4,
  "nbformat_minor": 0,
  "metadata": {
    "kernelspec": {
      "display_name": "Python 3",
      "language": "python",
      "name": "python3"
    },
    "language_info": {
      "codemirror_mode": {
        "name": "ipython",
        "version": 3
      },
      "file_extension": ".py",
      "mimetype": "text/x-python",
      "name": "python",
      "nbconvert_exporter": "python",
      "pygments_lexer": "ipython3",
      "version": "3.6.5"
    },
    "colab": {
      "name": "05b-PropellerDynamicScenarios.ipynb",
      "provenance": [],
      "include_colab_link": true
    }
  },
  "cells": [
    {
      "cell_type": "markdown",
      "metadata": {
        "id": "view-in-github",
        "colab_type": "text"
      },
      "source": [
        "<a href=\"https://colab.research.google.com/github/alcliberal/multirotor_sizing_isae_coa_2021/blob/main/05b-PropellerDynamicScenarios.ipynb\" target=\"_parent\"><img src=\"https://colab.research.google.com/assets/colab-badge.svg\" alt=\"Open In Colab\"/></a>"
      ]
    },
    {
      "cell_type": "markdown",
      "metadata": {
        "id": "fWvYU5Iye1Oy"
      },
      "source": [
        "<img src=\"https://github.com/alcliberal/multirotor_sizing_isae_coa_2021/blob/main/pictures/logo_sizinglab.png?raw=1\" style=\"float:right; max-width: 60px; display: inline\" alt=\"SizingLab\" /></a>\n"
      ]
    },
    {
      "cell_type": "markdown",
      "metadata": {
        "id": "6bjSVkoSe1O-"
      },
      "source": [
        "## Dynamic models for propellers\n",
        "*Written by Marc Budinger, Aitor Ochotorena (INSA Toulouse) and Scott Delbecq (ISAE-SUPAERO), Toulouse, France.*\n"
      ]
    },
    {
      "cell_type": "markdown",
      "metadata": {
        "id": "Ojp4dSUde1O_"
      },
      "source": [
        "The complexity of the propellers characteristics increases as they work in dynamic scenarios. So far, we have seen how $C_T$ and $C_P$ coefficients can be well expressed in terms of geometric ratio (pitch/diameter). In these dynamic scenarios, these coefficients depend also on the speed.  Based on dimensional analysis and the polynomial regression of suppliers data, adequate prediction models for $C_T$ and $C_P$ are generated. \n"
      ]
    },
    {
      "cell_type": "markdown",
      "metadata": {
        "id": "D4_Xg_k7e1PA"
      },
      "source": [
        "*Flow distribution in multirotor vehicle for climbing*\n",
        "![Climbing](https://github.com/alcliberal/multirotor_sizing_isae_coa_2021/blob/main/pictures/drone_axial_vertical_flight.png?raw=1)\n"
      ]
    },
    {
      "cell_type": "markdown",
      "metadata": {
        "id": "3n9OpNOhe1PB"
      },
      "source": [
        "### Data analysis"
      ]
    },
    {
      "cell_type": "markdown",
      "metadata": {
        "id": "M31jwoGwe1PC"
      },
      "source": [
        "Based on the datasheets of different models of *APC propellers MR*, estimation models are developed to characterize the thrust and power coefficients of the propellers for dynamic scenarios. In the next DataFrame, an extra column is added to calculate the value of the dimensionless air compressibility estimation or B coefficient."
      ]
    },
    {
      "cell_type": "code",
      "metadata": {
        "id": "0FfZo6NUe-rX",
        "outputId": "d00f0cdb-0239-4564-e44d-3f227a991165",
        "colab": {
          "base_uri": "https://localhost:8080/"
        }
      },
      "source": [
        "!git clone https://github.com/alcliberal/multirotor_sizing_isae_coa_2021.git"
      ],
      "execution_count": 2,
      "outputs": [
        {
          "output_type": "stream",
          "text": [
            "Cloning into 'multirotor_sizing_isae_coa_2021'...\n",
            "remote: Enumerating objects: 89, done.\u001b[K\n",
            "remote: Counting objects: 100% (89/89), done.\u001b[K\n",
            "remote: Compressing objects: 100% (78/78), done.\u001b[K\n",
            "remote: Total 89 (delta 10), reused 81 (delta 8), pack-reused 0\u001b[K\n",
            "Unpacking objects: 100% (89/89), done.\n"
          ],
          "name": "stdout"
        }
      ]
    },
    {
      "cell_type": "code",
      "metadata": {
        "id": "_0RYKLSPe1PD",
        "outputId": "b30ccbf2-15c7-45f7-b18b-55fb8861e482",
        "colab": {
          "base_uri": "https://localhost:8080/",
          "height": 330
        }
      },
      "source": [
        "import pandas as pd\n",
        "import math\n",
        "\n",
        "# Read the .csv file with bearing data\n",
        "path='/content/multirotor_sizing_isae_coa_2021/docs/'\n",
        "df = pd.read_csv(path+'Propeller_Data.csv', sep=';')\n",
        "K=101000 #[Pa] bulk modulus air\n",
        "df['B coef']=1.18*(df['RPM']/60*2*3.14)**(2)*(df['DIAMETER_in']*0.0254)**(2)/K\n",
        "\n",
        "# Print the head (first lines of the file)\n",
        "df.head()"
      ],
      "execution_count": 5,
      "outputs": [
        {
          "output_type": "execute_result",
          "data": {
            "text/html": [
              "<div>\n",
              "<style scoped>\n",
              "    .dataframe tbody tr th:only-of-type {\n",
              "        vertical-align: middle;\n",
              "    }\n",
              "\n",
              "    .dataframe tbody tr th {\n",
              "        vertical-align: top;\n",
              "    }\n",
              "\n",
              "    .dataframe thead th {\n",
              "        text-align: right;\n",
              "    }\n",
              "</style>\n",
              "<table border=\"1\" class=\"dataframe\">\n",
              "  <thead>\n",
              "    <tr style=\"text-align: right;\">\n",
              "      <th></th>\n",
              "      <th>TYPE</th>\n",
              "      <th>Model</th>\n",
              "      <th>BETA</th>\n",
              "      <th>J</th>\n",
              "      <th>V_mph</th>\n",
              "      <th>Pe</th>\n",
              "      <th>Ct</th>\n",
              "      <th>Cp</th>\n",
              "      <th>PWR_Hp</th>\n",
              "      <th>Torque_In-Lbf</th>\n",
              "      <th>Thrust_Lbf</th>\n",
              "      <th>DIAMETER_in</th>\n",
              "      <th>Ct*</th>\n",
              "      <th>Cp*</th>\n",
              "      <th>RPM</th>\n",
              "      <th>B coef</th>\n",
              "    </tr>\n",
              "  </thead>\n",
              "  <tbody>\n",
              "    <tr>\n",
              "      <th>0</th>\n",
              "      <td>APC MR</td>\n",
              "      <td>APC MR</td>\n",
              "      <td>0.45</td>\n",
              "      <td>0.00</td>\n",
              "      <td>0.0</td>\n",
              "      <td>0.0000</td>\n",
              "      <td>0.1102</td>\n",
              "      <td>0.0428</td>\n",
              "      <td>0.003</td>\n",
              "      <td>0.087</td>\n",
              "      <td>0.140</td>\n",
              "      <td>10</td>\n",
              "      <td>0.110371</td>\n",
              "      <td>0.040802</td>\n",
              "      <td>2000</td>\n",
              "      <td>0.03303</td>\n",
              "    </tr>\n",
              "    <tr>\n",
              "      <th>1</th>\n",
              "      <td>APC MR</td>\n",
              "      <td>APC MR</td>\n",
              "      <td>0.45</td>\n",
              "      <td>0.02</td>\n",
              "      <td>0.5</td>\n",
              "      <td>0.0621</td>\n",
              "      <td>0.1086</td>\n",
              "      <td>0.0432</td>\n",
              "      <td>0.003</td>\n",
              "      <td>0.088</td>\n",
              "      <td>0.138</td>\n",
              "      <td>10</td>\n",
              "      <td>0.109003</td>\n",
              "      <td>0.041500</td>\n",
              "      <td>2000</td>\n",
              "      <td>0.03303</td>\n",
              "    </tr>\n",
              "    <tr>\n",
              "      <th>2</th>\n",
              "      <td>APC MR</td>\n",
              "      <td>APC MR</td>\n",
              "      <td>0.45</td>\n",
              "      <td>0.05</td>\n",
              "      <td>0.9</td>\n",
              "      <td>0.1212</td>\n",
              "      <td>0.1068</td>\n",
              "      <td>0.0435</td>\n",
              "      <td>0.003</td>\n",
              "      <td>0.088</td>\n",
              "      <td>0.136</td>\n",
              "      <td>10</td>\n",
              "      <td>0.106725</td>\n",
              "      <td>0.042363</td>\n",
              "      <td>2000</td>\n",
              "      <td>0.03303</td>\n",
              "    </tr>\n",
              "    <tr>\n",
              "      <th>3</th>\n",
              "      <td>APC MR</td>\n",
              "      <td>APC MR</td>\n",
              "      <td>0.45</td>\n",
              "      <td>0.07</td>\n",
              "      <td>1.4</td>\n",
              "      <td>0.1774</td>\n",
              "      <td>0.1050</td>\n",
              "      <td>0.0439</td>\n",
              "      <td>0.003</td>\n",
              "      <td>0.089</td>\n",
              "      <td>0.134</td>\n",
              "      <td>10</td>\n",
              "      <td>0.105059</td>\n",
              "      <td>0.042815</td>\n",
              "      <td>2000</td>\n",
              "      <td>0.03303</td>\n",
              "    </tr>\n",
              "    <tr>\n",
              "      <th>4</th>\n",
              "      <td>APC MR</td>\n",
              "      <td>APC MR</td>\n",
              "      <td>0.45</td>\n",
              "      <td>0.10</td>\n",
              "      <td>1.9</td>\n",
              "      <td>0.2305</td>\n",
              "      <td>0.1030</td>\n",
              "      <td>0.0442</td>\n",
              "      <td>0.003</td>\n",
              "      <td>0.090</td>\n",
              "      <td>0.131</td>\n",
              "      <td>10</td>\n",
              "      <td>0.102340</td>\n",
              "      <td>0.043307</td>\n",
              "      <td>2000</td>\n",
              "      <td>0.03303</td>\n",
              "    </tr>\n",
              "  </tbody>\n",
              "</table>\n",
              "</div>"
            ],
            "text/plain": [
              "     TYPE   Model  BETA     J  ...       Ct*       Cp*   RPM   B coef\n",
              "0  APC MR  APC MR  0.45  0.00  ...  0.110371  0.040802  2000  0.03303\n",
              "1  APC MR  APC MR  0.45  0.02  ...  0.109003  0.041500  2000  0.03303\n",
              "2  APC MR  APC MR  0.45  0.05  ...  0.106725  0.042363  2000  0.03303\n",
              "3  APC MR  APC MR  0.45  0.07  ...  0.105059  0.042815  2000  0.03303\n",
              "4  APC MR  APC MR  0.45  0.10  ...  0.102340  0.043307  2000  0.03303\n",
              "\n",
              "[5 rows x 16 columns]"
            ]
          },
          "metadata": {
            "tags": []
          },
          "execution_count": 5
        }
      ]
    },
    {
      "cell_type": "code",
      "metadata": {
        "id": "qNBUtFh8e5Gy",
        "outputId": "d8fb3672-8027-4d99-bca5-f4eb5b3ec77a",
        "colab": {
          "base_uri": "https://localhost:8080/",
          "height": 634
        }
      },
      "source": [
        "df"
      ],
      "execution_count": 6,
      "outputs": [
        {
          "output_type": "execute_result",
          "data": {
            "text/html": [
              "<div>\n",
              "<style scoped>\n",
              "    .dataframe tbody tr th:only-of-type {\n",
              "        vertical-align: middle;\n",
              "    }\n",
              "\n",
              "    .dataframe tbody tr th {\n",
              "        vertical-align: top;\n",
              "    }\n",
              "\n",
              "    .dataframe thead th {\n",
              "        text-align: right;\n",
              "    }\n",
              "</style>\n",
              "<table border=\"1\" class=\"dataframe\">\n",
              "  <thead>\n",
              "    <tr style=\"text-align: right;\">\n",
              "      <th></th>\n",
              "      <th>TYPE</th>\n",
              "      <th>Model</th>\n",
              "      <th>BETA</th>\n",
              "      <th>J</th>\n",
              "      <th>V_mph</th>\n",
              "      <th>Pe</th>\n",
              "      <th>Ct</th>\n",
              "      <th>Cp</th>\n",
              "      <th>PWR_Hp</th>\n",
              "      <th>Torque_In-Lbf</th>\n",
              "      <th>Thrust_Lbf</th>\n",
              "      <th>DIAMETER_in</th>\n",
              "      <th>Ct*</th>\n",
              "      <th>Cp*</th>\n",
              "      <th>RPM</th>\n",
              "      <th>B coef</th>\n",
              "    </tr>\n",
              "  </thead>\n",
              "  <tbody>\n",
              "    <tr>\n",
              "      <th>0</th>\n",
              "      <td>APC MR</td>\n",
              "      <td>APC MR</td>\n",
              "      <td>0.45</td>\n",
              "      <td>0.00</td>\n",
              "      <td>0.0</td>\n",
              "      <td>0.0000</td>\n",
              "      <td>0.1102</td>\n",
              "      <td>0.0428</td>\n",
              "      <td>0.003</td>\n",
              "      <td>0.087</td>\n",
              "      <td>0.140</td>\n",
              "      <td>10</td>\n",
              "      <td>0.110371</td>\n",
              "      <td>0.040802</td>\n",
              "      <td>2000</td>\n",
              "      <td>0.033030</td>\n",
              "    </tr>\n",
              "    <tr>\n",
              "      <th>1</th>\n",
              "      <td>APC MR</td>\n",
              "      <td>APC MR</td>\n",
              "      <td>0.45</td>\n",
              "      <td>0.02</td>\n",
              "      <td>0.5</td>\n",
              "      <td>0.0621</td>\n",
              "      <td>0.1086</td>\n",
              "      <td>0.0432</td>\n",
              "      <td>0.003</td>\n",
              "      <td>0.088</td>\n",
              "      <td>0.138</td>\n",
              "      <td>10</td>\n",
              "      <td>0.109003</td>\n",
              "      <td>0.041500</td>\n",
              "      <td>2000</td>\n",
              "      <td>0.033030</td>\n",
              "    </tr>\n",
              "    <tr>\n",
              "      <th>2</th>\n",
              "      <td>APC MR</td>\n",
              "      <td>APC MR</td>\n",
              "      <td>0.45</td>\n",
              "      <td>0.05</td>\n",
              "      <td>0.9</td>\n",
              "      <td>0.1212</td>\n",
              "      <td>0.1068</td>\n",
              "      <td>0.0435</td>\n",
              "      <td>0.003</td>\n",
              "      <td>0.088</td>\n",
              "      <td>0.136</td>\n",
              "      <td>10</td>\n",
              "      <td>0.106725</td>\n",
              "      <td>0.042363</td>\n",
              "      <td>2000</td>\n",
              "      <td>0.033030</td>\n",
              "    </tr>\n",
              "    <tr>\n",
              "      <th>3</th>\n",
              "      <td>APC MR</td>\n",
              "      <td>APC MR</td>\n",
              "      <td>0.45</td>\n",
              "      <td>0.07</td>\n",
              "      <td>1.4</td>\n",
              "      <td>0.1774</td>\n",
              "      <td>0.1050</td>\n",
              "      <td>0.0439</td>\n",
              "      <td>0.003</td>\n",
              "      <td>0.089</td>\n",
              "      <td>0.134</td>\n",
              "      <td>10</td>\n",
              "      <td>0.105059</td>\n",
              "      <td>0.042815</td>\n",
              "      <td>2000</td>\n",
              "      <td>0.033030</td>\n",
              "    </tr>\n",
              "    <tr>\n",
              "      <th>4</th>\n",
              "      <td>APC MR</td>\n",
              "      <td>APC MR</td>\n",
              "      <td>0.45</td>\n",
              "      <td>0.10</td>\n",
              "      <td>1.9</td>\n",
              "      <td>0.2305</td>\n",
              "      <td>0.1030</td>\n",
              "      <td>0.0442</td>\n",
              "      <td>0.003</td>\n",
              "      <td>0.090</td>\n",
              "      <td>0.131</td>\n",
              "      <td>10</td>\n",
              "      <td>0.102340</td>\n",
              "      <td>0.043307</td>\n",
              "      <td>2000</td>\n",
              "      <td>0.033030</td>\n",
              "    </tr>\n",
              "    <tr>\n",
              "      <th>...</th>\n",
              "      <td>...</td>\n",
              "      <td>...</td>\n",
              "      <td>...</td>\n",
              "      <td>...</td>\n",
              "      <td>...</td>\n",
              "      <td>...</td>\n",
              "      <td>...</td>\n",
              "      <td>...</td>\n",
              "      <td>...</td>\n",
              "      <td>...</td>\n",
              "      <td>...</td>\n",
              "      <td>...</td>\n",
              "      <td>...</td>\n",
              "      <td>...</td>\n",
              "      <td>...</td>\n",
              "      <td>...</td>\n",
              "    </tr>\n",
              "    <tr>\n",
              "      <th>2815</th>\n",
              "      <td>APC MR</td>\n",
              "      <td>APC MR</td>\n",
              "      <td>0.50</td>\n",
              "      <td>0.64</td>\n",
              "      <td>59.9</td>\n",
              "      <td>0.7537</td>\n",
              "      <td>0.0238</td>\n",
              "      <td>0.0202</td>\n",
              "      <td>0.128</td>\n",
              "      <td>0.731</td>\n",
              "      <td>0.603</td>\n",
              "      <td>9</td>\n",
              "      <td>0.025133</td>\n",
              "      <td>0.022369</td>\n",
              "      <td>11000</td>\n",
              "      <td>0.809311</td>\n",
              "    </tr>\n",
              "    <tr>\n",
              "      <th>2816</th>\n",
              "      <td>APC MR</td>\n",
              "      <td>APC MR</td>\n",
              "      <td>0.50</td>\n",
              "      <td>0.66</td>\n",
              "      <td>62.3</td>\n",
              "      <td>0.7153</td>\n",
              "      <td>0.0180</td>\n",
              "      <td>0.0167</td>\n",
              "      <td>0.106</td>\n",
              "      <td>0.606</td>\n",
              "      <td>0.455</td>\n",
              "      <td>9</td>\n",
              "      <td>0.020675</td>\n",
              "      <td>0.019981</td>\n",
              "      <td>11000</td>\n",
              "      <td>0.809311</td>\n",
              "    </tr>\n",
              "    <tr>\n",
              "      <th>2817</th>\n",
              "      <td>APC MR</td>\n",
              "      <td>APC MR</td>\n",
              "      <td>0.50</td>\n",
              "      <td>0.69</td>\n",
              "      <td>64.7</td>\n",
              "      <td>0.6325</td>\n",
              "      <td>0.0121</td>\n",
              "      <td>0.0132</td>\n",
              "      <td>0.083</td>\n",
              "      <td>0.477</td>\n",
              "      <td>0.306</td>\n",
              "      <td>9</td>\n",
              "      <td>0.013838</td>\n",
              "      <td>0.016215</td>\n",
              "      <td>11000</td>\n",
              "      <td>0.809311</td>\n",
              "    </tr>\n",
              "    <tr>\n",
              "      <th>2818</th>\n",
              "      <td>APC MR</td>\n",
              "      <td>APC MR</td>\n",
              "      <td>0.50</td>\n",
              "      <td>0.72</td>\n",
              "      <td>67.1</td>\n",
              "      <td>0.4474</td>\n",
              "      <td>0.0061</td>\n",
              "      <td>0.0097</td>\n",
              "      <td>0.061</td>\n",
              "      <td>0.352</td>\n",
              "      <td>0.154</td>\n",
              "      <td>9</td>\n",
              "      <td>0.006825</td>\n",
              "      <td>0.012226</td>\n",
              "      <td>11000</td>\n",
              "      <td>0.809311</td>\n",
              "    </tr>\n",
              "    <tr>\n",
              "      <th>2819</th>\n",
              "      <td>APC MR</td>\n",
              "      <td>APC MR</td>\n",
              "      <td>0.50</td>\n",
              "      <td>0.74</td>\n",
              "      <td>69.5</td>\n",
              "      <td>0.0006</td>\n",
              "      <td>0.0000</td>\n",
              "      <td>0.0064</td>\n",
              "      <td>0.041</td>\n",
              "      <td>0.233</td>\n",
              "      <td>0.000</td>\n",
              "      <td>9</td>\n",
              "      <td>0.002052</td>\n",
              "      <td>0.009443</td>\n",
              "      <td>11000</td>\n",
              "      <td>0.809311</td>\n",
              "    </tr>\n",
              "  </tbody>\n",
              "</table>\n",
              "<p>2820 rows × 16 columns</p>\n",
              "</div>"
            ],
            "text/plain": [
              "        TYPE   Model  BETA     J  ...       Ct*       Cp*    RPM    B coef\n",
              "0     APC MR  APC MR  0.45  0.00  ...  0.110371  0.040802   2000  0.033030\n",
              "1     APC MR  APC MR  0.45  0.02  ...  0.109003  0.041500   2000  0.033030\n",
              "2     APC MR  APC MR  0.45  0.05  ...  0.106725  0.042363   2000  0.033030\n",
              "3     APC MR  APC MR  0.45  0.07  ...  0.105059  0.042815   2000  0.033030\n",
              "4     APC MR  APC MR  0.45  0.10  ...  0.102340  0.043307   2000  0.033030\n",
              "...      ...     ...   ...   ...  ...       ...       ...    ...       ...\n",
              "2815  APC MR  APC MR  0.50  0.64  ...  0.025133  0.022369  11000  0.809311\n",
              "2816  APC MR  APC MR  0.50  0.66  ...  0.020675  0.019981  11000  0.809311\n",
              "2817  APC MR  APC MR  0.50  0.69  ...  0.013838  0.016215  11000  0.809311\n",
              "2818  APC MR  APC MR  0.50  0.72  ...  0.006825  0.012226  11000  0.809311\n",
              "2819  APC MR  APC MR  0.50  0.74  ...  0.002052  0.009443  11000  0.809311\n",
              "\n",
              "[2820 rows x 16 columns]"
            ]
          },
          "metadata": {
            "tags": []
          },
          "execution_count": 6
        }
      ]
    },
    {
      "cell_type": "markdown",
      "metadata": {
        "id": "U80xXBRXe1PE"
      },
      "source": [
        "### Heatmap"
      ]
    },
    {
      "cell_type": "markdown",
      "metadata": {
        "id": "PmpAahvwe1PF"
      },
      "source": [
        "The use of Heatmaps enables to visualize numerically the dependence of the parameters on each others to describe their behaviour. A value close to '1' will mean a very strong dependence, while a value close to '0' means a negligible effect. We see how $Cp$ and $Ct$ do not longer depend only on beta to describe their behaviour. A tutorial of seaborn heatmap can be found [here](https://likegeeks.com/seaborn-heatmap-tutorial/)."
      ]
    },
    {
      "cell_type": "code",
      "metadata": {
        "id": "Sw9BOgTbe1PG"
      },
      "source": [
        "import pandas as pd\n",
        "import numpy as np\n",
        "import seaborn as sns\n",
        "import matplotlib.pyplot as plt\n",
        "%matplotlib inline\n",
        "\n",
        "f, axes = plt.subplots(1,2,figsize=(12,4))\n",
        "\n",
        "df_Cp=df[['Cp','BETA','J', 'B coef']]\n",
        "df_Ct=df[['Ct','BETA','J', 'B coef']]\n",
        "\n",
        "# heatmap\n",
        "sns.heatmap(df_Cp.corr(method='pearson')**2,annot=True,cmap='coolwarm',square=True, ax=axes[0])\n",
        "sns.heatmap(df_Ct.corr(method='pearson')**2,annot=True,cmap='coolwarm',square=True, ax=axes[1])\n",
        "\n"
      ],
      "execution_count": null,
      "outputs": []
    },
    {
      "cell_type": "markdown",
      "metadata": {
        "id": "Fz7G5qSFe1PI"
      },
      "source": [
        "### Scatter matrix"
      ]
    },
    {
      "cell_type": "markdown",
      "metadata": {
        "id": "cYtYlo7Ye1PN"
      },
      "source": [
        "Another technique very similar to the heatmap to observe dependencies is the scatter matrix, in which we can represent in a matrix small subplots. Here we are interested in studying the trend of the parameter rather than knowing the exact value of the magnitude."
      ]
    },
    {
      "cell_type": "code",
      "metadata": {
        "id": "N_uEp_Jde1PN"
      },
      "source": [
        "pd.plotting.scatter_matrix(df_Cp)\n",
        "pd.plotting.scatter_matrix(df_Ct)\n",
        "plt.tick_params(axis = 'both', labelsize = 14)\n",
        "plt.rcParams.update({'font.size': 14})\n"
      ],
      "execution_count": null,
      "outputs": []
    },
    {
      "cell_type": "markdown",
      "metadata": {
        "id": "Asqk8KYRe1PO"
      },
      "source": [
        "### Surrogate modeling techniques"
      ]
    },
    {
      "cell_type": "markdown",
      "metadata": {
        "id": "uay3IpAXe1PO"
      },
      "source": [
        "In this part, data are fitted using a non-linear polynomial model regression. For this purpose, a polynomial $(beta+ J)^n$ is developed using the package `PolynomialFeatures` of [scikit learn](https://scikit-learn.org/stable/modules/generated/sklearn.preprocessing.PolynomialFeatures.html) to a degree n, whose value of determination coefficient ($R^2$) is higher than required.\n",
        "As a condition, we set that the value of R squared required must be $R_{est}=0.98$\n",
        "At the end, data and the surrogate model are plotted in a 3D graph."
      ]
    },
    {
      "cell_type": "markdown",
      "metadata": {
        "id": "VgavbOBbe1PP"
      },
      "source": [
        "- $C_p=f(\\beta,J)$"
      ]
    },
    {
      "cell_type": "code",
      "metadata": {
        "id": "mjwIRP8Ze1PQ"
      },
      "source": [
        "from sklearn.preprocessing import PolynomialFeatures\n",
        "from sklearn.metrics import mean_squared_error, r2_score\n",
        "from mpl_toolkits.mplot3d import Axes3D\n",
        "import matplotlib.pyplot as plt\n",
        "import statsmodels.api as sm\n",
        "import numpy as np\n",
        "\n",
        "R_est=0.98 # minimum R-squared value to achieve\n",
        "\n",
        "%matplotlib notebook \n",
        "# read dataframe values\n",
        "X = df[['J', 'BETA']].values\n",
        "y1 = df['Cp'].values\n",
        "\n",
        "# extracting columns from X\n",
        "mu_col=X[:,0] \n",
        "beta_col=X[:,1]\n",
        "\n",
        "#a matrix of mu and beta is made\n",
        "XX = np.concatenate((mu_col.reshape(np.size(y1),1),beta_col.reshape(np.size(y1),1)),axis=1)\n",
        "\n",
        "# in this while we increase the polynomial binomium until R2 reaches the limit\n",
        "i=1 # start by 1.Grade polynomium \n",
        "while True:\n",
        "    poly = PolynomialFeatures(i) # development of i-grade polynomium\n",
        "    x_poly = poly.fit_transform(XX)\n",
        "\n",
        "    model = sm.OLS(y1, x_poly) #fit regression model to the data\n",
        "    result= model.fit() # save value of coeficients\n",
        "    y_poly_pred = result.predict(x_poly) # according to the regression model found, a value of y is generated\n",
        "\n",
        "    rmse = np.sqrt(mean_squared_error(y1,y_poly_pred)) #Root mean square error\n",
        "    r2 = r2_score(y1,y_poly_pred) #R2 correlation value\n",
        "    i +=1 # we increase the polynomium degre\n",
        "    if r2>R_est: #if R2 calculated is greater than \n",
        "        break\n",
        "print(\"RMSE=\",rmse)\n",
        "print(\"R2=\",r2)\n",
        "\n",
        "#here we expand the formula of the i-degree polynomium\n",
        "data = pd.DataFrame.from_dict({\n",
        "    'J': np.random.randint(low=1, high=10, size=5),\n",
        "    'BETA': np.random.randint(low=-1, high=1, size=5),\n",
        "})\n",
        "\n",
        "p = PolynomialFeatures(degree=i-1).fit(data)\n",
        "\n",
        "#concatenate the OLS regression parameters with variables \n",
        "string1=['+({:.3f})*'.format(x) for x in result.params]\n",
        "string2=p.get_feature_names(data.columns)\n",
        "\n",
        "Result=\"\"\n",
        "for i in range(len(string1)):\n",
        "        Result += string1[i]\n",
        "        Result += string2[i]\n",
        "print('Cp=',Result)\n",
        "\n",
        "\n",
        "#meshgrid 3D for plot\n",
        "xx1, xx2 = np.meshgrid(np.linspace(mu_col.min(), mu_col.max(), len(y1)), \n",
        "                       np.linspace(beta_col.min(), beta_col.max(), len(y1)))\n",
        "\n",
        "\n",
        "#create the 3D axis \n",
        "fig = plt.figure(figsize=(10, 8))\n",
        "ax = Axes3D(fig, azim=-210, elev=15)\n",
        "\n",
        "\n",
        "ax.scatter(mu_col, beta_col, y1, color='black', alpha=1.0, facecolor='white')\n",
        "\n",
        "# reshape data to suit in the grid. Here a x b = len(y1)\n",
        "xp = np.reshape(mu_col, (94, 30))\n",
        "yp = np.reshape(beta_col, (94, 30))\n",
        "zp = np.reshape(y_poly_pred, (94, 30))\n",
        "\n",
        "# plotting the predicted surface\n",
        "ax.plot_surface(xp, yp, zp, cmap=plt.cm.RdBu_r, alpha=0.3, linewidth=0)\n",
        "\n",
        "#axis labels\n",
        "ax.set_xlabel('J (Advance ratio) [-]',fontsize=14)\n",
        "ax.set_ylabel('angle (pitch/diameter) [-]',fontsize=14)\n",
        "ax.set_zlabel(r'$C_P [-]$',fontsize=14)\n",
        "\n",
        "plt.grid()\n",
        "\n",
        "plt.tick_params(axis = 'both', labelsize = 14)"
      ],
      "execution_count": null,
      "outputs": []
    },
    {
      "cell_type": "markdown",
      "metadata": {
        "id": "nBUntU3ue1PQ"
      },
      "source": [
        "- $C_t=f(\\beta,J)$"
      ]
    },
    {
      "cell_type": "code",
      "metadata": {
        "id": "Gy2sqaf0e1PQ"
      },
      "source": [
        "R_est=0.98 # minimum R-squared value to achieve\n",
        "\n",
        "# read dataframe values\n",
        "X = df[['J', 'BETA']].values\n",
        "y1 = df['Ct'].values\n",
        "\n",
        "# extracting columns from X\n",
        "mu_col=X[:,0] \n",
        "beta_col=X[:,1]\n",
        "\n",
        "#a matrix of mu and beta is made\n",
        "XX = np.concatenate((mu_col.reshape(np.size(y1),1),beta_col.reshape(np.size(y1),1)),axis=1)\n",
        "\n",
        "# in this while we increase the polynomial binomium until R2 reaches the limit\n",
        "i=1 # start by 1.Grade polynomium \n",
        "while True:\n",
        "    poly = PolynomialFeatures(i) # development of i-grade polynomium\n",
        "    x_poly = poly.fit_transform(XX)\n",
        "\n",
        "    model = sm.OLS(y1, x_poly) #fit regression model to the data\n",
        "    result= model.fit() # save value of coeficients\n",
        "    y_poly_pred = result.predict(x_poly) # according to the regression model found, a value of y is generated\n",
        "\n",
        "    rmse = np.sqrt(mean_squared_error(y1,y_poly_pred)) #Root mean square error\n",
        "    r2 = r2_score(y1,y_poly_pred) #R2 correlation value\n",
        "    i +=1 # we increase the polynomium degre\n",
        "    if r2>R_est: #if R2 calculated is greater than \n",
        "        break\n",
        "print(\"RMSE=\",rmse)\n",
        "print(\"R2=\",r2)\n",
        "\n",
        "#here we expand the formula of the i-degree polynomium\n",
        "data = pd.DataFrame.from_dict({\n",
        "    'mu': np.random.randint(low=1, high=10, size=5),\n",
        "    'beta': np.random.randint(low=-1, high=1, size=5),\n",
        "})\n",
        "\n",
        "p = PolynomialFeatures(degree=i-1).fit(data)\n",
        "\n",
        "#concatenate the OLS regression parameters with variables \n",
        "string1=['+({:.3f})*'.format(x) for x in result.params]\n",
        "string2=p.get_feature_names(data.columns)\n",
        "\n",
        "Result=\"\"\n",
        "for i in range(len(string1)):\n",
        "        Result += string1[i]\n",
        "        Result += string2[i]\n",
        "print('Ct=',Result)\n",
        "\n",
        "\n",
        "#meshgrid 3D for plot\n",
        "xx1, xx2 = np.meshgrid(np.linspace(mu_col.min(), mu_col.max(), len(y1)), \n",
        "                       np.linspace(beta_col.min(), beta_col.max(), len(y1)))\n",
        "\n",
        "\n",
        "#create the 3D axis \n",
        "fig = plt.figure(figsize=(10, 8))\n",
        "ax = Axes3D(fig, azim=-210, elev=15)\n",
        "\n",
        "\n",
        "ax.scatter(mu_col, beta_col, y1, color='black', alpha=1.0, facecolor='white')\n",
        "\n",
        "# reshape data to suit in the grid. Here a x b = len(y1)\n",
        "xp = np.reshape(mu_col, (94, 30))\n",
        "yp = np.reshape(beta_col, (94, 30))\n",
        "zp = np.reshape(y_poly_pred, (94, 30))\n",
        "\n",
        "# plotting the predicted surface\n",
        "ax.plot_surface(xp, yp, zp, cmap=plt.cm.RdBu_r, alpha=0.3, linewidth=0)\n",
        "\n",
        "#axis labels\n",
        "ax.set_xlabel('J (Advance ratio) [-]',fontsize=14)\n",
        "ax.set_ylabel('angle (pitch/diameter) [-]',fontsize=14)\n",
        "ax.set_zlabel(r'$C_T [-]$',fontsize=14)\n",
        "\n",
        "plt.grid()\n",
        "\n",
        "plt.tick_params(axis = 'both', labelsize = 14)\n"
      ],
      "execution_count": null,
      "outputs": []
    },
    {
      "cell_type": "markdown",
      "metadata": {
        "id": "3JcMkzKJe1PR"
      },
      "source": [
        "### Extra: values of $C_T$ and $C_P$ for other propeller models"
      ]
    },
    {
      "cell_type": "markdown",
      "metadata": {
        "id": "1xhCVvLve1PY"
      },
      "source": [
        "Curves of thrust and power coefficient are represented for the dynamic behaviour for other manufacturer's models. Required aerodynamic thrust and power fall as the propeller gains speed. Performance efficiency has a parabolic form."
      ]
    },
    {
      "cell_type": "code",
      "metadata": {
        "id": "AE7Vxwnne1Pb"
      },
      "source": [
        "import pandas as pd\n",
        "import numpy as np\n",
        "\n",
        "import matplotlib.pyplot as plt\n",
        "\n",
        "path='./docs/'\n",
        "df = pd.read_csv(path+'9x45-DynamicProps.csv', sep=';')\n",
        "\n",
        "f, ((ax1, ax2,ax3)) = plt.subplots(1, 3,figsize=(10, 5))\n",
        "f.tight_layout()\n",
        "\n",
        "groups = df.groupby('TYPE')\n",
        "\n",
        "for name, group in groups:\n",
        "    ax1.plot(group.J, group.CT, marker='o', linestyle='', ms=5, \n",
        "label=name)\n",
        "    \n",
        "#ax1.set_title('CT vs J')\n",
        "ax1.set_xlabel('J[-]',fontsize=14)\n",
        "ax1.set_ylabel(r'$C_T[-]$',fontsize=14)\n",
        "\n",
        "for name, group in groups:\n",
        "    ax2.plot(group.J, group.CP, marker='o', linestyle='', ms=5, \n",
        "label='_nolegend_')\n",
        "    \n",
        "#ax2.set_title('CP vs J')\n",
        "ax2.set_xlabel('J[-]',fontsize=14)\n",
        "ax2.set_ylabel(r'$C_P[-]$',fontsize=14)\n",
        "\n",
        "for name, group in groups:\n",
        "    ax3.plot(group.J, group.Eta, marker='o', linestyle='', ms=5, \n",
        "label='_nolegend_')\n",
        "    \n",
        "#ax3.set_title(r'Efficiency $\\eta$ vs Advance Ratio J')\n",
        "ax3.set_xlabel('J[-]',fontsize=14)\n",
        "ax3.set_ylabel(r'$\\eta[-]$',fontsize=14)\n",
        "\n",
        "f.legend(loc='lower center', bbox_to_anchor=(0.8, 0.05),prop={'size': 14},ncol=4)\n",
        "#f.legend(loc=(axbox.x0,0),prop={'size': 8})\n",
        "ax1.grid()    \n",
        "\n",
        "ax2.grid() \n",
        "\n",
        "\n",
        "ax3.grid()    \n",
        "\n",
        "ax1.tick_params(axis = 'both', labelsize = 14)\n",
        "ax2.tick_params(axis = 'both', labelsize = 14)\n",
        "ax3.tick_params(axis = 'both', labelsize = 14)\n",
        "\n",
        "f.tight_layout()\n",
        "#plt.subplots_adjust(left=None, bottom=None, right=None, top=None,\n",
        "#                wspace=None, hspace=None)\n"
      ],
      "execution_count": null,
      "outputs": []
    },
    {
      "cell_type": "markdown",
      "metadata": {
        "id": "U8_j1za8e1Pc"
      },
      "source": [
        "### References"
      ]
    },
    {
      "cell_type": "markdown",
      "metadata": {
        "id": "NUvB0FMqe1Pd"
      },
      "source": [
        "- Principles of Helicopter Aerodynamics. Leishman\n",
        "- [MR Propellers](https://www.masterairscrew.com/pages/mr-drone-propellers)\n",
        "- [Drones](https://www.droneomega.com/quadcopter-propeller/)\n"
      ]
    },
    {
      "cell_type": "code",
      "metadata": {
        "id": "AiqmniFHe1Pe"
      },
      "source": [
        ""
      ],
      "execution_count": null,
      "outputs": []
    }
  ]
}